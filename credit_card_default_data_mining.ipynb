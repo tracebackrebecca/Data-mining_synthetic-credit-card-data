{
  "nbformat": 4,
  "nbformat_minor": 0,
  "metadata": {
    "kernelspec": {
      "display_name": "Python 3",
      "language": "python",
      "name": "python3"
    },
    "language_info": {
      "codemirror_mode": {
        "name": "ipython",
        "version": 3
      },
      "file_extension": ".py",
      "mimetype": "text/x-python",
      "name": "python",
      "nbconvert_exporter": "python",
      "pygments_lexer": "ipython3",
      "version": "3.7.6"
    },
    "colab": {
      "name": "credit_card_default_data_mining.ipynb",
      "provenance": [],
      "collapsed_sections": [],
      "toc_visible": true,
      "include_colab_link": true
    }
  },
  "cells": [
    {
      "cell_type": "markdown",
      "metadata": {
        "id": "view-in-github",
        "colab_type": "text"
      },
      "source": [
        "<a href=\"https://colab.research.google.com/github/tracebackrebecca/Data-mining_synthetic-credit-card-data/blob/main/credit_card_default_data_mining.ipynb\" target=\"_parent\"><img src=\"https://colab.research.google.com/assets/colab-badge.svg\" alt=\"Open In Colab\"/></a>"
      ]
    },
    {
      "cell_type": "markdown",
      "metadata": {
        "id": "DGDCPNmHCSdI"
      },
      "source": [
        "# Data mining project"
      ]
    },
    {
      "cell_type": "markdown",
      "metadata": {
        "id": "gA80tLSaCSdK"
      },
      "source": [
        "## Introduction"
      ]
    },
    {
      "cell_type": "markdown",
      "metadata": {
        "id": "xcXtD8UaIGow"
      },
      "source": [
        "Credit cards are a method of payment, where the card issuer makes payments on behalf of the card holder, and the card holder is expected to pay back the card issuer. The card issuer generates revenue through interest payments and charges from the card holder, but can lose money if the card holder ultimately does not repay the loan.\n",
        "\n",
        "In this project we put ourselves in the position of the card issuer, and ask the question: given what we know about an applicant for a credit card – such as their income, age and, most importantly, credit history – should we issue a credit card to the applicant? Or do we expect the applicant to go into bad debt and not repay the loan?\n",
        "\n",
        "According to the **CRISP-DM model**, data mining projects can be considered to consist of 6 phases. A project does not always proceed linearly through the phases, but the general order is as follows:\n",
        "\n",
        "1. **Business understanding.** We discuss the credit card market and typical business needs in the *application background and literature review* section.\n",
        "\n",
        "2. **Data understanding.** We explore the data and its meaning in the *data pre-processing and exploration* section.\n",
        "\n",
        "3. **Data preparation.** We also prepare and process the data in the *data pre-processing and exploration* section, including **feature engineering** - creating new attributes out of data in formats that were difficult to use.\n",
        "\n",
        "4. **Modelling.** We model the data to predict credit card behaviour, and therefore what a credit card issuer's decision should be, in the *data modelling and model evaluation* section.\n",
        "\n",
        "5. **Evaluation.** We also evaluate the models in the *data modelling and model evaluation* section, and compare their performance.\n",
        "\n",
        "6. **Deployment.** This is the only phase of CRISP-DM that we do not attempt in this document. In a real business setting, the preferred model could be deployed to assess credit card applications.\n",
        "\n",
        "We begin with the *application background and literature review*.\n",
        "\n",
        "**Disclaimer:** This project has been produced by John Holden and Rebecca Ding as individuals, and does not represent the view of our employer.\n"
      ]
    },
    {
      "cell_type": "code",
      "metadata": {
        "id": "HbdRRKbxK7xK",
        "colab": {
          "base_uri": "https://localhost:8080/",
          "height": 124
        },
        "outputId": "ffd01e61-f34e-46fb-c901-7fadd74961c6"
      },
      "source": [
        "from google.colab import drive\n",
        "drive.mount('/content/drive')"
      ],
      "execution_count": null,
      "outputs": [
        {
          "output_type": "stream",
          "text": [
            "Go to this URL in a browser: https://accounts.google.com/o/oauth2/auth?client_id=947318989803-6bn6qk8qdgf4n4g3pfee6491hc0brc4i.apps.googleusercontent.com&redirect_uri=urn%3aietf%3awg%3aoauth%3a2.0%3aoob&scope=email%20https%3a%2f%2fwww.googleapis.com%2fauth%2fdocs.test%20https%3a%2f%2fwww.googleapis.com%2fauth%2fdrive%20https%3a%2f%2fwww.googleapis.com%2fauth%2fdrive.photos.readonly%20https%3a%2f%2fwww.googleapis.com%2fauth%2fpeopleapi.readonly&response_type=code\n",
            "\n",
            "Enter your authorization code:\n",
            "··········\n",
            "Mounted at /content/drive\n"
          ],
          "name": "stdout"
        }
      ]
    },
    {
      "cell_type": "markdown",
      "metadata": {
        "id": "ikXkScMbCSdL"
      },
      "source": [
        "## Application background and literature review\n",
        "\n",
        "One of the largest consumer credit markets regulated by the UK's Financial Conduct Authority (FCA) is the credit card sector. According to research published by Finder.com (2019), there were 61.9 million credit cards issued to UK residents. The FCA conducted a Credit Card Market Study (CCMS) from 2014 to 2016 to review the market landscape and consumer behaviour. The CCMS Interim Report (2015) found that consumers with persistent levels of debt, or who make minimum payments, are profitable for the card issuers. Firms therefore have little incentive to address this and encourage repayment, which concerned the FCA as a conduct regulator. To compete for market share and boost revenue streams, credit card issuers may \"overissue\" credit cards. However, credit card default risk is a key risk factor for both cardholders and card issuers. The CCMS Interim Report identified that 6.9% of cardholders (around 2 million) were in default or arrears. Consumers in default are extremely unprofitable and firms are active in contacting consumers who miss payments. On a macro level, overissued credit cards and accumulated consumer debt can also become a systemic risk, especially during economic downturns. Therefore, it is crucial to understand firms’ credit decisions and default decisions. \n",
        "\n",
        "In this report, we apply data mining techniques to build a prediction model for credit card default, which can be adopted for credit card approval decisions. The CCMS Interim Report defined \"default\" as \"when the customer is past the contractual due date by more than 90 days and the lender reasonably considers that they are unlikely to pay\". We adopt the first half of this definition in our research: default is more than 90 days overdue (5-7 on the 7-level scale that will be introduced in the credit record data exploration section, below).\n",
        "\n",
        "Classification is a classic data mining topic in risk management of financial services. In this specific application domain, many machine learning models such as logistic regression, Bayes classifier and nearest neighbour have been used for consumer credit scoring for more than 20 years (Hand & Henley, 1997). With the development of techniques, artificial neural networks and classification trees became popular to predict credit scores (Thomas, 2000). When an individual applies for a credit card, the card issuer takes the information on completed application forms such as gender (if legal) and income, in combination with credit scores sourced from credit information agencies, to make approval decisions. In terms of attribute selection for credit card default or approval prediction, Bellotti and Crook (2009) found that dynamic models perform better, which include behavioural variables such as payment history and macroeconomic variables, in addition to credit scores and variables from application forms. The inclusion of macroeconomic data also opens an opportunity for stress testing, as extreme economic conditions can be simulated and included in the model to generate a measure of stressed loss - although without specific dates in our dataset this is not something we will model in this project.\n",
        "\n",
        "Rather than classifying individuals into binary results – 0 and 1 for default and non-default – Yeh and Lien (2007) built a prediction model for the *probability* of default of a credit card. The data they analysed was from a Taiwanese bank, which contained some basic individual information such as gender, marital status and credit card payment history. The data was randomly divided into training and testing sets. The study adopted six methods: K-nearest neighbour, logistic regression, discriminant analysis, naïve Bayesian, neural networks, and classification trees. Adopting a simple linear regression (Y = A + BX), where Y is the real probability of default and X is the predicted probability of default, they concluded that their artificial neural network has the best prediction ability. Its regression intercept A is close to zero and regression coefficient B to one. As the real probability of default is unknown, simulating probability of default is a key challenge. They proposed a \"Sorting Smoothing Method\" for tackling this issue. The order of the validation data was sorted by the predictive probability, and then binary variables with real default risk of validation data were used for smoothing, to estimate the real probability of default Pi.\n",
        "\n",
        "![image.png](data:image/png;base64,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)\n",
        "\n",
        "In practice, while some innovative and fintech firms are attempting to use alternative data sources such as social media data to predict credit behaviour, the most important predictor remains credit history. From paragraph 3.6 of the CCMS Interim Report:\n",
        "\n",
        "> Firms  have  stated  that  consumers  typically  perceived  to  be  lower  risk  tend  to  have  a  good,  established credit history. Consumers are typically perceived to be higher risk because they are either:\n",
        "* new to credit\n",
        "* low income/sole trader/self-employed\n",
        "* credit rebuilders (have had negative credit events in the past)\n",
        "\n",
        "Therefore to be realistic, we will take this into account by feature engineering a 'credit history' attribute during data pre-processing.\n",
        "\n",
        "Having reviewed the literature and business application domain, we now turn to our dataset.\n"
      ]
    },
    {
      "cell_type": "markdown",
      "metadata": {
        "id": "LkVEa0WxCSdO"
      },
      "source": [
        "## Data in this project\n",
        "\n",
        "Due to restrictions on sharing company data, we take anonymised data from a Chinese bank available on Kaggle for our project: https://www.kaggle.com/rikdifos/credit-card-approval-prediction. The data consists of two sets: **credit applications**, and **credit records**, linked by individual identity. \n",
        "\n",
        "After browsing the datasets, we had a few informal discussions with **domain experts** at our company regarding this project. There are two potential concerns raised: \n",
        "\n",
        "1) **Behaviour attributes on credit history** are very important for areas such as credit scoring and default predication, which confirms our literature review results. However, the datasets from Kaggle do not include credit history.  \n",
        "\n",
        "2) **Imbalanced datasets** create a challenge for data mining in risk management of financial services such as fraud prevention, credit scoring, and non-performing loans predication. Fraud, credit card or loan default activities generally account for a small portion of \"real life\" behaviours but are the focuses of relevant projects. Considering we have a binary target variable (2 classes), models trained on imbalanced datasets often lead to poor prediction power. There are generally two approaches to tackle this challenge: oversampling and undersampling.\n",
        "\n",
        "These two concerns will be discussed and addressed in the next section."
      ]
    },
    {
      "cell_type": "markdown",
      "metadata": {
        "id": "xdVLOJbZCSdP"
      },
      "source": [
        "## Data pre-processing and exploration\n",
        "### Why data pre-processing is necessary\n",
        "Data pre-processing is necessary to understand the structure of the data, and to make sure it is clean and ready to analyse. Poor quality data can lead to a \"garbage in, garbage out\" sitation where predictions are misleading or even meaningless. Some features are not in a format ready for modelling and must be engineered into a new feature.\n",
        "\n",
        "### Transforming credit record\n",
        "The credit record set shows an individual's credit history after obtaining a credit card. It is neccessary to pre-process the credit record data, transforming it into a simple label for each individual, before exploring the credit application data.\n",
        "\n",
        "### Simulating credit history\n",
        "Our literature review highlighted that, in the real world, credit card companies assess risk using both personal attributes, such as age and income, and, more important, credit history. Our datasets from Kaggle do not include credit history. Therefore we will simulate credit history by taking the credit record dataset and splitting each individual's credit record of `n` months into 2 parts: the most recent `k` months of credit history, to use as the **label**, and the older `n-k` months of credit record data to transform into an **attribute**."
      ]
    },
    {
      "cell_type": "markdown",
      "metadata": {
        "id": "bsK7OjC9CSdQ"
      },
      "source": [
        "### Credit record data exploration\n",
        "Our aim in this section is to explore the credit record data, and transform it into a dataset with 1 row per individual, and 2 columns: *credit history* and *label*. Credit history will be used as an attribute in data modelling. The label will take 1 of 3 values: N for \"do not lend\", Y for \"lend\", and E for \"exclude\" – individuals with insufficient data to be sure about the correct label."
      ]
    },
    {
      "cell_type": "code",
      "metadata": {
        "id": "eIbCAtAIJIi-",
        "colab": {
          "base_uri": "https://localhost:8080/",
          "height": 106
        },
        "outputId": "6f3a973d-b9df-4d5a-c59d-c635339db446"
      },
      "source": [
        "# Import modules\n",
        "import math\n",
        "import numpy as np\n",
        "import pandas as pd\n",
        "import matplotlib.pyplot as plt\n",
        "from pandas_profiling import ProfileReport\n",
        "from sklearn.preprocessing import RobustScaler\n",
        "import imblearn\n",
        "from imblearn.over_sampling import SMOTE\n",
        "from sklearn.linear_model import LogisticRegression\n",
        "from sklearn.feature_selection import SelectKBest, RFECV, RFE, VarianceThreshold, mutual_info_classif"
      ],
      "execution_count": null,
      "outputs": [
        {
          "output_type": "stream",
          "text": [
            "/usr/local/lib/python3.6/dist-packages/sklearn/externals/six.py:31: FutureWarning: The module is deprecated in version 0.21 and will be removed in version 0.23 since we've dropped support for Python 2.7. Please rely on the official version of six (https://pypi.org/project/six/).\n",
            "  \"(https://pypi.org/project/six/).\", FutureWarning)\n",
            "/usr/local/lib/python3.6/dist-packages/sklearn/utils/deprecation.py:144: FutureWarning: The sklearn.neighbors.base module is  deprecated in version 0.22 and will be removed in version 0.24. The corresponding classes / functions should instead be imported from sklearn.neighbors. Anything that cannot be imported from sklearn.neighbors is now part of the private API.\n",
            "  warnings.warn(message, FutureWarning)\n"
          ],
          "name": "stderr"
        }
      ]
    },
    {
      "cell_type": "code",
      "metadata": {
        "id": "ry9saWdfdHdC"
      },
      "source": [
        "crOriginal = pd.read_csv(\"/content/drive/My Drive/data/credit_record.csv\") # Credit record set\n",
        "#crOriginal = pd.read_csv(\"/content/credit_record.csv\") # Credit record set"
      ],
      "execution_count": null,
      "outputs": []
    },
    {
      "cell_type": "code",
      "metadata": {
        "id": "LnUmtMBZCSdQ",
        "colab": {
          "base_uri": "https://localhost:8080/",
          "height": 1000
        },
        "outputId": "444ccbc5-41de-4ea9-eaa3-91eb65476e18"
      },
      "source": [
        "# Convert statuses to 0-7 scale (string type) for easier analysis\n",
        "crOriginal.STATUS = crOriginal.STATUS.map({\n",
        "                       'C': '0',\n",
        "                       'X': '1',\n",
        "                       '0': '2',\n",
        "                       '1': '3',\n",
        "                       '2': '4',\n",
        "                       '3': '5',\n",
        "                       '4': '6',\n",
        "                       '5': '7'})\n",
        "\n",
        "crOriginal.info()\n",
        "crOriginal.head(30)"
      ],
      "execution_count": null,
      "outputs": [
        {
          "output_type": "stream",
          "text": [
            "<class 'pandas.core.frame.DataFrame'>\n",
            "RangeIndex: 1048575 entries, 0 to 1048574\n",
            "Data columns (total 3 columns):\n",
            " #   Column          Non-Null Count    Dtype \n",
            "---  ------          --------------    ----- \n",
            " 0   ID              1048575 non-null  int64 \n",
            " 1   MONTHS_BALANCE  1048575 non-null  int64 \n",
            " 2   STATUS          1048575 non-null  object\n",
            "dtypes: int64(2), object(1)\n",
            "memory usage: 24.0+ MB\n"
          ],
          "name": "stdout"
        },
        {
          "output_type": "execute_result",
          "data": {
            "text/html": [
              "<div>\n",
              "<style scoped>\n",
              "    .dataframe tbody tr th:only-of-type {\n",
              "        vertical-align: middle;\n",
              "    }\n",
              "\n",
              "    .dataframe tbody tr th {\n",
              "        vertical-align: top;\n",
              "    }\n",
              "\n",
              "    .dataframe thead th {\n",
              "        text-align: right;\n",
              "    }\n",
              "</style>\n",
              "<table border=\"1\" class=\"dataframe\">\n",
              "  <thead>\n",
              "    <tr style=\"text-align: right;\">\n",
              "      <th></th>\n",
              "      <th>ID</th>\n",
              "      <th>MONTHS_BALANCE</th>\n",
              "      <th>STATUS</th>\n",
              "    </tr>\n",
              "  </thead>\n",
              "  <tbody>\n",
              "    <tr>\n",
              "      <th>0</th>\n",
              "      <td>5001711</td>\n",
              "      <td>0</td>\n",
              "      <td>1</td>\n",
              "    </tr>\n",
              "    <tr>\n",
              "      <th>1</th>\n",
              "      <td>5001711</td>\n",
              "      <td>-1</td>\n",
              "      <td>2</td>\n",
              "    </tr>\n",
              "    <tr>\n",
              "      <th>2</th>\n",
              "      <td>5001711</td>\n",
              "      <td>-2</td>\n",
              "      <td>2</td>\n",
              "    </tr>\n",
              "    <tr>\n",
              "      <th>3</th>\n",
              "      <td>5001711</td>\n",
              "      <td>-3</td>\n",
              "      <td>2</td>\n",
              "    </tr>\n",
              "    <tr>\n",
              "      <th>4</th>\n",
              "      <td>5001712</td>\n",
              "      <td>0</td>\n",
              "      <td>0</td>\n",
              "    </tr>\n",
              "    <tr>\n",
              "      <th>5</th>\n",
              "      <td>5001712</td>\n",
              "      <td>-1</td>\n",
              "      <td>0</td>\n",
              "    </tr>\n",
              "    <tr>\n",
              "      <th>6</th>\n",
              "      <td>5001712</td>\n",
              "      <td>-2</td>\n",
              "      <td>0</td>\n",
              "    </tr>\n",
              "    <tr>\n",
              "      <th>7</th>\n",
              "      <td>5001712</td>\n",
              "      <td>-3</td>\n",
              "      <td>0</td>\n",
              "    </tr>\n",
              "    <tr>\n",
              "      <th>8</th>\n",
              "      <td>5001712</td>\n",
              "      <td>-4</td>\n",
              "      <td>0</td>\n",
              "    </tr>\n",
              "    <tr>\n",
              "      <th>9</th>\n",
              "      <td>5001712</td>\n",
              "      <td>-5</td>\n",
              "      <td>0</td>\n",
              "    </tr>\n",
              "    <tr>\n",
              "      <th>10</th>\n",
              "      <td>5001712</td>\n",
              "      <td>-6</td>\n",
              "      <td>0</td>\n",
              "    </tr>\n",
              "    <tr>\n",
              "      <th>11</th>\n",
              "      <td>5001712</td>\n",
              "      <td>-7</td>\n",
              "      <td>0</td>\n",
              "    </tr>\n",
              "    <tr>\n",
              "      <th>12</th>\n",
              "      <td>5001712</td>\n",
              "      <td>-8</td>\n",
              "      <td>0</td>\n",
              "    </tr>\n",
              "    <tr>\n",
              "      <th>13</th>\n",
              "      <td>5001712</td>\n",
              "      <td>-9</td>\n",
              "      <td>2</td>\n",
              "    </tr>\n",
              "    <tr>\n",
              "      <th>14</th>\n",
              "      <td>5001712</td>\n",
              "      <td>-10</td>\n",
              "      <td>2</td>\n",
              "    </tr>\n",
              "    <tr>\n",
              "      <th>15</th>\n",
              "      <td>5001712</td>\n",
              "      <td>-11</td>\n",
              "      <td>2</td>\n",
              "    </tr>\n",
              "    <tr>\n",
              "      <th>16</th>\n",
              "      <td>5001712</td>\n",
              "      <td>-12</td>\n",
              "      <td>2</td>\n",
              "    </tr>\n",
              "    <tr>\n",
              "      <th>17</th>\n",
              "      <td>5001712</td>\n",
              "      <td>-13</td>\n",
              "      <td>2</td>\n",
              "    </tr>\n",
              "    <tr>\n",
              "      <th>18</th>\n",
              "      <td>5001712</td>\n",
              "      <td>-14</td>\n",
              "      <td>2</td>\n",
              "    </tr>\n",
              "    <tr>\n",
              "      <th>19</th>\n",
              "      <td>5001712</td>\n",
              "      <td>-15</td>\n",
              "      <td>2</td>\n",
              "    </tr>\n",
              "    <tr>\n",
              "      <th>20</th>\n",
              "      <td>5001712</td>\n",
              "      <td>-16</td>\n",
              "      <td>2</td>\n",
              "    </tr>\n",
              "    <tr>\n",
              "      <th>21</th>\n",
              "      <td>5001712</td>\n",
              "      <td>-17</td>\n",
              "      <td>2</td>\n",
              "    </tr>\n",
              "    <tr>\n",
              "      <th>22</th>\n",
              "      <td>5001712</td>\n",
              "      <td>-18</td>\n",
              "      <td>2</td>\n",
              "    </tr>\n",
              "    <tr>\n",
              "      <th>23</th>\n",
              "      <td>5001713</td>\n",
              "      <td>0</td>\n",
              "      <td>1</td>\n",
              "    </tr>\n",
              "    <tr>\n",
              "      <th>24</th>\n",
              "      <td>5001713</td>\n",
              "      <td>-1</td>\n",
              "      <td>1</td>\n",
              "    </tr>\n",
              "    <tr>\n",
              "      <th>25</th>\n",
              "      <td>5001713</td>\n",
              "      <td>-2</td>\n",
              "      <td>1</td>\n",
              "    </tr>\n",
              "    <tr>\n",
              "      <th>26</th>\n",
              "      <td>5001713</td>\n",
              "      <td>-3</td>\n",
              "      <td>1</td>\n",
              "    </tr>\n",
              "    <tr>\n",
              "      <th>27</th>\n",
              "      <td>5001713</td>\n",
              "      <td>-4</td>\n",
              "      <td>1</td>\n",
              "    </tr>\n",
              "    <tr>\n",
              "      <th>28</th>\n",
              "      <td>5001713</td>\n",
              "      <td>-5</td>\n",
              "      <td>1</td>\n",
              "    </tr>\n",
              "    <tr>\n",
              "      <th>29</th>\n",
              "      <td>5001713</td>\n",
              "      <td>-6</td>\n",
              "      <td>1</td>\n",
              "    </tr>\n",
              "  </tbody>\n",
              "</table>\n",
              "</div>"
            ],
            "text/plain": [
              "         ID  MONTHS_BALANCE STATUS\n",
              "0   5001711               0      1\n",
              "1   5001711              -1      2\n",
              "2   5001711              -2      2\n",
              "3   5001711              -3      2\n",
              "4   5001712               0      0\n",
              "5   5001712              -1      0\n",
              "6   5001712              -2      0\n",
              "7   5001712              -3      0\n",
              "8   5001712              -4      0\n",
              "9   5001712              -5      0\n",
              "10  5001712              -6      0\n",
              "11  5001712              -7      0\n",
              "12  5001712              -8      0\n",
              "13  5001712              -9      2\n",
              "14  5001712             -10      2\n",
              "15  5001712             -11      2\n",
              "16  5001712             -12      2\n",
              "17  5001712             -13      2\n",
              "18  5001712             -14      2\n",
              "19  5001712             -15      2\n",
              "20  5001712             -16      2\n",
              "21  5001712             -17      2\n",
              "22  5001712             -18      2\n",
              "23  5001713               0      1\n",
              "24  5001713              -1      1\n",
              "25  5001713              -2      1\n",
              "26  5001713              -3      1\n",
              "27  5001713              -4      1\n",
              "28  5001713              -5      1\n",
              "29  5001713              -6      1"
            ]
          },
          "metadata": {
            "tags": []
          },
          "execution_count": 6
        }
      ]
    },
    {
      "cell_type": "markdown",
      "metadata": {
        "id": "4RAjDoZUCSdV"
      },
      "source": [
        "The credit record dataset is over a million entries of 3 variables. Each individual has several months of data indicated by the negative numbers, and for each month a status.\n",
        "\n",
        "ID and MONTHS_BALANCE are **integers**, while status is an ordered **categorical** variable.\n",
        "\n",
        "Adapted from the dataset description on Kaggle, the status indicators have the following meaning:\n",
        "\n",
        "> * 0: No loan for the month\n",
        "> * 1: Paid off that month\n",
        "> * 2: 1-29 days past due\n",
        "> * 3: 30-59 days past due\n",
        "> * 4: 60-89 days overdue\n",
        "> * 5: 90-119 days overdue\n",
        "> * 6: 120-149 days overdue\n",
        "> * 7: Overdue or bad debts, write-offs for more than 150 days\n",
        "\n"
      ]
    },
    {
      "cell_type": "markdown",
      "metadata": {
        "id": "4Y_nsSBJCSdW"
      },
      "source": [
        "We begin by transforming the dataset into 1 row for each individual."
      ]
    },
    {
      "cell_type": "code",
      "metadata": {
        "id": "fmlrX0RnCSdX",
        "colab": {
          "base_uri": "https://localhost:8080/",
          "height": 204
        },
        "outputId": "6a49e56f-6086-4544-efba-e6b10df65128"
      },
      "source": [
        "cr = crOriginal.sort_values(['ID', 'MONTHS_BALANCE'], ascending=[True, True])\n",
        "cr = cr.groupby('ID')['STATUS'].apply(''.join).reset_index()\n",
        "cr['IN_DATABASE'] = cr['STATUS'].map(len)\n",
        "cr.head(5)"
      ],
      "execution_count": null,
      "outputs": [
        {
          "output_type": "execute_result",
          "data": {
            "text/html": [
              "<div>\n",
              "<style scoped>\n",
              "    .dataframe tbody tr th:only-of-type {\n",
              "        vertical-align: middle;\n",
              "    }\n",
              "\n",
              "    .dataframe tbody tr th {\n",
              "        vertical-align: top;\n",
              "    }\n",
              "\n",
              "    .dataframe thead th {\n",
              "        text-align: right;\n",
              "    }\n",
              "</style>\n",
              "<table border=\"1\" class=\"dataframe\">\n",
              "  <thead>\n",
              "    <tr style=\"text-align: right;\">\n",
              "      <th></th>\n",
              "      <th>ID</th>\n",
              "      <th>STATUS</th>\n",
              "      <th>IN_DATABASE</th>\n",
              "    </tr>\n",
              "  </thead>\n",
              "  <tbody>\n",
              "    <tr>\n",
              "      <th>0</th>\n",
              "      <td>5001711</td>\n",
              "      <td>2221</td>\n",
              "      <td>4</td>\n",
              "    </tr>\n",
              "    <tr>\n",
              "      <th>1</th>\n",
              "      <td>5001712</td>\n",
              "      <td>2222222222000000000</td>\n",
              "      <td>19</td>\n",
              "    </tr>\n",
              "    <tr>\n",
              "      <th>2</th>\n",
              "      <td>5001713</td>\n",
              "      <td>1111111111111111111111</td>\n",
              "      <td>22</td>\n",
              "    </tr>\n",
              "    <tr>\n",
              "      <th>3</th>\n",
              "      <td>5001714</td>\n",
              "      <td>111111111111111</td>\n",
              "      <td>15</td>\n",
              "    </tr>\n",
              "    <tr>\n",
              "      <th>4</th>\n",
              "      <td>5001715</td>\n",
              "      <td>1111111111111111111111111111111111111111111111...</td>\n",
              "      <td>60</td>\n",
              "    </tr>\n",
              "  </tbody>\n",
              "</table>\n",
              "</div>"
            ],
            "text/plain": [
              "        ID                                             STATUS  IN_DATABASE\n",
              "0  5001711                                               2221            4\n",
              "1  5001712                                2222222222000000000           19\n",
              "2  5001713                             1111111111111111111111           22\n",
              "3  5001714                                    111111111111111           15\n",
              "4  5001715  1111111111111111111111111111111111111111111111...           60"
            ]
          },
          "metadata": {
            "tags": []
          },
          "execution_count": 7
        }
      ]
    },
    {
      "cell_type": "markdown",
      "metadata": {
        "id": "EjjUp_O6CSda"
      },
      "source": [
        "We now investigate for how long individuals have been in the dataset."
      ]
    },
    {
      "cell_type": "code",
      "metadata": {
        "id": "lhB9SxpyCSda"
      },
      "source": [
        "maxLength = max(cr['IN_DATABASE'])\n",
        "\n",
        "plt.hist(cr['IN_DATABASE'], bins=maxLength)\n",
        "plt.title('Length of time credit cards held in dataset')\n",
        "plt.xlabel('Credit card held (months)')\n",
        "plt.ylabel('Frequency')\n",
        "plt.show()"
      ],
      "execution_count": null,
      "outputs": []
    },
    {
      "cell_type": "markdown",
      "metadata": {
        "id": "TSho3m5rCSdg"
      },
      "source": [
        "Individuals have been in the dataset for a maximum of 61 months.\n",
        "\n"
      ]
    },
    {
      "cell_type": "markdown",
      "metadata": {
        "id": "cKg4FzCo2w50"
      },
      "source": [
        "#### Split credit history and credit record\n",
        "We identified in the literature review that real companies rely heavily on credit history, which this dataset lacks. Therefore we will split the credit record into 2 columns: `credit history`, to use as an attribute in modelling, and `credit record`, to turn into a label.\n",
        "\n",
        "There is more than one way to split the data, but we choose the simple method of taking the most recent 30 months for each individual as their credit record, and the remaining 0-31 months become their credit history. This realistically simulates individuals having different lengths of credit history."
      ]
    },
    {
      "cell_type": "code",
      "metadata": {
        "id": "U-js160FCSdg",
        "colab": {
          "base_uri": "https://localhost:8080/",
          "height": 359
        },
        "outputId": "51dadf1c-83ba-4c89-993e-aafea0815205"
      },
      "source": [
        "k = 30\n",
        "\n",
        "cr['CREDIT_RECORD' ] = cr['STATUS'].str[-k:  ]\n",
        "cr['CREDIT_HISTORY'] = cr['STATUS'].str[  :-k]\n",
        "\n",
        "cr['CR_LENGTH'] = cr['CREDIT_RECORD'].map(len)\n",
        "\n",
        "del cr['STATUS']\n",
        "\n",
        "cr.head(10)"
      ],
      "execution_count": null,
      "outputs": [
        {
          "output_type": "execute_result",
          "data": {
            "text/html": [
              "<div>\n",
              "<style scoped>\n",
              "    .dataframe tbody tr th:only-of-type {\n",
              "        vertical-align: middle;\n",
              "    }\n",
              "\n",
              "    .dataframe tbody tr th {\n",
              "        vertical-align: top;\n",
              "    }\n",
              "\n",
              "    .dataframe thead th {\n",
              "        text-align: right;\n",
              "    }\n",
              "</style>\n",
              "<table border=\"1\" class=\"dataframe\">\n",
              "  <thead>\n",
              "    <tr style=\"text-align: right;\">\n",
              "      <th></th>\n",
              "      <th>ID</th>\n",
              "      <th>IN_DATABASE</th>\n",
              "      <th>CREDIT_RECORD</th>\n",
              "      <th>CREDIT_HISTORY</th>\n",
              "      <th>CR_LENGTH</th>\n",
              "    </tr>\n",
              "  </thead>\n",
              "  <tbody>\n",
              "    <tr>\n",
              "      <th>0</th>\n",
              "      <td>5001711</td>\n",
              "      <td>4</td>\n",
              "      <td>2221</td>\n",
              "      <td></td>\n",
              "      <td>4</td>\n",
              "    </tr>\n",
              "    <tr>\n",
              "      <th>1</th>\n",
              "      <td>5001712</td>\n",
              "      <td>19</td>\n",
              "      <td>2222222222000000000</td>\n",
              "      <td></td>\n",
              "      <td>19</td>\n",
              "    </tr>\n",
              "    <tr>\n",
              "      <th>2</th>\n",
              "      <td>5001713</td>\n",
              "      <td>22</td>\n",
              "      <td>1111111111111111111111</td>\n",
              "      <td></td>\n",
              "      <td>22</td>\n",
              "    </tr>\n",
              "    <tr>\n",
              "      <th>3</th>\n",
              "      <td>5001714</td>\n",
              "      <td>15</td>\n",
              "      <td>111111111111111</td>\n",
              "      <td></td>\n",
              "      <td>15</td>\n",
              "    </tr>\n",
              "    <tr>\n",
              "      <th>4</th>\n",
              "      <td>5001715</td>\n",
              "      <td>60</td>\n",
              "      <td>111111111111111111111111111111</td>\n",
              "      <td>111111111111111111111111111111</td>\n",
              "      <td>30</td>\n",
              "    </tr>\n",
              "    <tr>\n",
              "      <th>5</th>\n",
              "      <td>5001717</td>\n",
              "      <td>22</td>\n",
              "      <td>2222222222222222200000</td>\n",
              "      <td></td>\n",
              "      <td>22</td>\n",
              "    </tr>\n",
              "    <tr>\n",
              "      <th>6</th>\n",
              "      <td>5001718</td>\n",
              "      <td>39</td>\n",
              "      <td>212222221222111213121322222000</td>\n",
              "      <td>122222221</td>\n",
              "      <td>30</td>\n",
              "    </tr>\n",
              "    <tr>\n",
              "      <th>7</th>\n",
              "      <td>5001719</td>\n",
              "      <td>43</td>\n",
              "      <td>000000000000000000000000000000</td>\n",
              "      <td>2200000000000</td>\n",
              "      <td>30</td>\n",
              "    </tr>\n",
              "    <tr>\n",
              "      <th>8</th>\n",
              "      <td>5001720</td>\n",
              "      <td>36</td>\n",
              "      <td>222222222222223232222233233223</td>\n",
              "      <td>222222</td>\n",
              "      <td>30</td>\n",
              "    </tr>\n",
              "    <tr>\n",
              "      <th>9</th>\n",
              "      <td>5001723</td>\n",
              "      <td>31</td>\n",
              "      <td>222222221111111111111111111111</td>\n",
              "      <td>1</td>\n",
              "      <td>30</td>\n",
              "    </tr>\n",
              "  </tbody>\n",
              "</table>\n",
              "</div>"
            ],
            "text/plain": [
              "        ID  IN_DATABASE  ...                  CREDIT_HISTORY CR_LENGTH\n",
              "0  5001711            4  ...                                         4\n",
              "1  5001712           19  ...                                        19\n",
              "2  5001713           22  ...                                        22\n",
              "3  5001714           15  ...                                        15\n",
              "4  5001715           60  ...  111111111111111111111111111111        30\n",
              "5  5001717           22  ...                                        22\n",
              "6  5001718           39  ...                       122222221        30\n",
              "7  5001719           43  ...                   2200000000000        30\n",
              "8  5001720           36  ...                          222222        30\n",
              "9  5001723           31  ...                               1        30\n",
              "\n",
              "[10 rows x 5 columns]"
            ]
          },
          "metadata": {
            "tags": []
          },
          "execution_count": 9
        }
      ]
    },
    {
      "cell_type": "markdown",
      "metadata": {
        "id": "Hxy3m7DNCSdk"
      },
      "source": [
        "As `CREDIT_HISTORY` is now an attribute we will use for predictive modelling, it is logically part of the credit application data, and we will return to it when exploring that dataset below."
      ]
    },
    {
      "cell_type": "markdown",
      "metadata": {
        "id": "IRHx0vCy3NqB"
      },
      "source": [
        "Now it is time to explore `CREDIT_RECORD` more thoroughly, and turn it into a single label for each individual.\n",
        "\n",
        "#### Label creation\n",
        "To turn the `credit record` set into a single label value for each individual, it seems reasonable to look at the \"worst\" status each individual has reached. Here we take \"worst\" to mean the most months overdue, not a value judgement. We also find how long it took each individual to reach their \"worst\" status."
      ]
    },
    {
      "cell_type": "code",
      "metadata": {
        "id": "XDdhDB6CCSdl",
        "colab": {
          "base_uri": "https://localhost:8080/",
          "height": 204
        },
        "outputId": "ec3a632e-446b-44b6-c247-c2c6fcf475e2"
      },
      "source": [
        "def find_worst(x):\n",
        "    return max([int(i) for i in str(x)])\n",
        "\n",
        "cr['WORST'] = cr.CREDIT_RECORD.map(find_worst)\n",
        "\n",
        "cr.head(5)"
      ],
      "execution_count": null,
      "outputs": [
        {
          "output_type": "execute_result",
          "data": {
            "text/html": [
              "<div>\n",
              "<style scoped>\n",
              "    .dataframe tbody tr th:only-of-type {\n",
              "        vertical-align: middle;\n",
              "    }\n",
              "\n",
              "    .dataframe tbody tr th {\n",
              "        vertical-align: top;\n",
              "    }\n",
              "\n",
              "    .dataframe thead th {\n",
              "        text-align: right;\n",
              "    }\n",
              "</style>\n",
              "<table border=\"1\" class=\"dataframe\">\n",
              "  <thead>\n",
              "    <tr style=\"text-align: right;\">\n",
              "      <th></th>\n",
              "      <th>ID</th>\n",
              "      <th>IN_DATABASE</th>\n",
              "      <th>CREDIT_RECORD</th>\n",
              "      <th>CREDIT_HISTORY</th>\n",
              "      <th>CR_LENGTH</th>\n",
              "      <th>WORST</th>\n",
              "    </tr>\n",
              "  </thead>\n",
              "  <tbody>\n",
              "    <tr>\n",
              "      <th>0</th>\n",
              "      <td>5001711</td>\n",
              "      <td>4</td>\n",
              "      <td>2221</td>\n",
              "      <td></td>\n",
              "      <td>4</td>\n",
              "      <td>2</td>\n",
              "    </tr>\n",
              "    <tr>\n",
              "      <th>1</th>\n",
              "      <td>5001712</td>\n",
              "      <td>19</td>\n",
              "      <td>2222222222000000000</td>\n",
              "      <td></td>\n",
              "      <td>19</td>\n",
              "      <td>2</td>\n",
              "    </tr>\n",
              "    <tr>\n",
              "      <th>2</th>\n",
              "      <td>5001713</td>\n",
              "      <td>22</td>\n",
              "      <td>1111111111111111111111</td>\n",
              "      <td></td>\n",
              "      <td>22</td>\n",
              "      <td>1</td>\n",
              "    </tr>\n",
              "    <tr>\n",
              "      <th>3</th>\n",
              "      <td>5001714</td>\n",
              "      <td>15</td>\n",
              "      <td>111111111111111</td>\n",
              "      <td></td>\n",
              "      <td>15</td>\n",
              "      <td>1</td>\n",
              "    </tr>\n",
              "    <tr>\n",
              "      <th>4</th>\n",
              "      <td>5001715</td>\n",
              "      <td>60</td>\n",
              "      <td>111111111111111111111111111111</td>\n",
              "      <td>111111111111111111111111111111</td>\n",
              "      <td>30</td>\n",
              "      <td>1</td>\n",
              "    </tr>\n",
              "  </tbody>\n",
              "</table>\n",
              "</div>"
            ],
            "text/plain": [
              "        ID  IN_DATABASE  ... CR_LENGTH WORST\n",
              "0  5001711            4  ...         4     2\n",
              "1  5001712           19  ...        19     2\n",
              "2  5001713           22  ...        22     1\n",
              "3  5001714           15  ...        15     1\n",
              "4  5001715           60  ...        30     1\n",
              "\n",
              "[5 rows x 6 columns]"
            ]
          },
          "metadata": {
            "tags": []
          },
          "execution_count": 10
        }
      ]
    },
    {
      "cell_type": "markdown",
      "metadata": {
        "id": "XisaaL9ECSdq"
      },
      "source": [
        "Let's visualise the \"worst\" status reached by individuals."
      ]
    },
    {
      "cell_type": "code",
      "metadata": {
        "id": "kX4jx6l6CSdq"
      },
      "source": [
        "# Make frequency table of \"worst\" status\n",
        "statusFrequencies = cr['WORST'].value_counts()\n",
        "statusFrequencies = statusFrequencies.to_frame()\n",
        "\n",
        "# Plot \"worst\" statuses\n",
        "plt.bar(list(statusFrequencies.index), statusFrequencies['WORST'], align='center')\n",
        "plt.ylabel('Frequency')\n",
        "plt.xlabel('\"Worst\" status')\n",
        "plt.title('\"Worst\" status by frequency')\n",
        "plt.show()"
      ],
      "execution_count": null,
      "outputs": []
    },
    {
      "cell_type": "markdown",
      "metadata": {
        "id": "_-0we4vdCSdv"
      },
      "source": [
        "Clearly the vast majority of individuals in the dataset reached status 2 at \"worst\": 1-29 days past due. Very few individuals reached statuses 4 or above: this is an **unbalanced** dataset.\n",
        "\n",
        "Our aim, as stated above, is to create a single label for each individual. Individuals whose \"worst\" status is 0-2 appear very safe to issue a credit card to. Individuals whose \"worst\" status is 7 appear unsafe to issue a credit card to, as they have not repaid the debt, which is a loss to the issuer.\n",
        "\n",
        "Individuals whose \"worst\" status is 3-6 are less obvious. Being only a few weeks overdue is not a big risk to a diversified lender, and in fact will lead to higher income from interest. However as an individual's debt becomes increasingly overdue, and therefore looks increasingly less likely to be repaid, he/she becomes a bigger risk to the credit card issuer, and the decision to lend a credit card looks increasingly mistaken.\n",
        "\n",
        "Considering this trade-off, we consider it appropriate to make a cut-off point between statuses 4 and 5. Anyone whose \"worst\" status was 0-4 will be given the status `Y`: issue a credit card. Anyone whose \"worst\" status was 5-7 will be given the status `N`: do not issue a credit card. This is also consistent with the definition of \"default\" in the FCA's Credit Card Market Study, as we identified in the literature review."
      ]
    },
    {
      "cell_type": "code",
      "metadata": {
        "id": "JTfW1qRRCSdw",
        "colab": {
          "base_uri": "https://localhost:8080/",
          "height": 68
        },
        "outputId": "a8e5c0ae-7951-4e25-8e35-f7cd4b448cb6"
      },
      "source": [
        "cr['WORST'] = cr['WORST'].astype(int)\n",
        "\n",
        "cr.loc[cr['WORST'] <  5, 'LABEL'] = \"Y\"\n",
        "cr.loc[cr['WORST'] >= 5, 'LABEL'] = \"N\"\n",
        "\n",
        "cr.LABEL.value_counts()"
      ],
      "execution_count": null,
      "outputs": [
        {
          "output_type": "execute_result",
          "data": {
            "text/plain": [
              "Y    45741\n",
              "N      244\n",
              "Name: LABEL, dtype: int64"
            ]
          },
          "metadata": {
            "tags": []
          },
          "execution_count": 12
        }
      ]
    },
    {
      "cell_type": "markdown",
      "metadata": {
        "id": "It3LJe9S3-3v"
      },
      "source": [
        "#### Exclude records"
      ]
    },
    {
      "cell_type": "markdown",
      "metadata": {
        "id": "0wYMh8FdCSdy"
      },
      "source": [
        "However there is one more complication: individuals are unlikely to get into bad debt immediately; typically it will take a few months. Therefore there may be individuals in the dataset for only a few months whose \"worst\" status is below 5, but who would have gone into bad debt later. These consumers should be excluded from the dataset because they might be **false positives**: individuals who appear safe to issue a credit card to, but actually would go into bad debt given more time.\n",
        "\n",
        "We need to investigate how long it takes for individuals to reach statuses 5-7, and therefore be labelled `N`."
      ]
    },
    {
      "cell_type": "code",
      "metadata": {
        "scrolled": true,
        "id": "jh2AnoRhCSdz",
        "colab": {
          "base_uri": "https://localhost:8080/",
          "height": 85
        },
        "outputId": "a96b2028-55e0-4535-87d4-f7814097a790"
      },
      "source": [
        "def first_instance(row):\n",
        "    if row['WORST'] < 7:\n",
        "        return np.NaN\n",
        "    else:\n",
        "        num_list = [row['CREDIT_RECORD'].find('5'), row['CREDIT_RECORD'].find('6'), row['CREDIT_RECORD'].find('7')]\n",
        "        num_list = [item for item in num_list if item >= 0]\n",
        "        return min(num_list)\n",
        "\n",
        "cr['TIME_TO_WORST'] = cr.apply(lambda row: first_instance(row), axis=1)\n",
        "\n",
        "times = cr.TIME_TO_WORST[cr.LABEL == \"N\"]\n",
        "binNumber = int(np.max(times))\n",
        "\n",
        "plt.figure()\n",
        "plt.hist(times, bins=binNumber)\n",
        "plt.title('Months taken to reach worst status')\n",
        "plt.show()"
      ],
      "execution_count": null,
      "outputs": [
        {
          "output_type": "stream",
          "text": [
            "/usr/local/lib/python3.6/dist-packages/numpy/lib/histograms.py:839: RuntimeWarning: invalid value encountered in greater_equal\n",
            "  keep = (tmp_a >= first_edge)\n",
            "/usr/local/lib/python3.6/dist-packages/numpy/lib/histograms.py:840: RuntimeWarning: invalid value encountered in less_equal\n",
            "  keep &= (tmp_a <= last_edge)\n"
          ],
          "name": "stderr"
        }
      ]
    },
    {
      "cell_type": "markdown",
      "metadata": {
        "id": "kjetUNBfCSd2"
      },
      "source": [
        "Removing individuals with with label `Y` - i.e. those with \"worst\" status 0-4 - who have less than 28 months of credit record would remove almost all false positives, but also remove most of our data. But removing those who have been in the dataset just 2 months would keep more of the data at the expense of keeping more false positives. We investigate this trade-off."
      ]
    },
    {
      "cell_type": "code",
      "metadata": {
        "id": "pRmr626YCSd2"
      },
      "source": [
        "origYs = sum(cr['LABEL'] == \"Y\") # The number of records that had label Y, before applying time limit\n",
        "\n",
        "a = np.arange(0, 101, 5) # Steps of 5 from 0 to 100\n",
        "b = np.nanpercentile(times, a) # Month cut-off value required to remove a% of possible false positives\n",
        "\n",
        "c = []\n",
        "\n",
        "for value in b:\n",
        "    c.append(sum((cr['LABEL'] == \"Y\") & (cr['CR_LENGTH'] < value)))\n",
        "\n",
        "proportionRemaining = (origYs-np.array(c))/origYs # Proportion of Y-label individuals remaining after removing a% of possible false positives"
      ],
      "execution_count": null,
      "outputs": []
    },
    {
      "cell_type": "code",
      "metadata": {
        "id": "E01JEeksCSd8"
      },
      "source": [
        "plt.plot(a, proportionRemaining, 'bo-') #bo- indicates blue circles and lines\n",
        "\n",
        "for x,y,z in zip(a, proportionRemaining, b):\n",
        "\n",
        "    label = \"{:.2f}\".format(z)\n",
        "        \n",
        "    plt.annotate(label,\n",
        "                 (x,y),\n",
        "                 textcoords=\"offset points\",\n",
        "                 xytext=(0,10), # distance from text to points (x,y)\n",
        "                 ha='center')\n",
        "\n",
        "plt.title('Trade-off between retaining data records and removing possible false positives, labels show cut-off month number')\n",
        "plt.ylabel('Proportion of Y-label individuals remaining')\n",
        "plt.xlabel('False positives removed (% based on known statuses Y)')\n",
        "plt.show()"
      ],
      "execution_count": null,
      "outputs": []
    },
    {
      "cell_type": "markdown",
      "metadata": {
        "id": "Eiw-_SbICSd_"
      },
      "source": [
        "As expected, removing all label-Y individuals who have been in the dataset less than X months reduces the number of possible false positives as X increases, but also reduces the size of the dataset.\n",
        "\n",
        "We decide to make our cutoff at 18 months. This removes 90% of false positives, while keeping more than half (54.4%) of the original data.\n",
        "\n",
        "In this context, a false positive is a consumer who appears to be safe to lend to, but would actually go on to default given more time."
      ]
    },
    {
      "cell_type": "code",
      "metadata": {
        "id": "HGYz9oszCSeA",
        "colab": {
          "base_uri": "https://localhost:8080/",
          "height": 238
        },
        "outputId": "38a17449-b0e1-40f0-d499-2cfe3bfbfe1e"
      },
      "source": [
        "cr.loc[(cr['LABEL'] == \"Y\") & (cr['CR_LENGTH'] <= 18), 'LABEL'] = \"E\"\n",
        "\n",
        "cr = cr[[\"ID\", \"CREDIT_HISTORY\", \"LABEL\", \"CREDIT_RECORD\"]]\n",
        "print(cr.head())\n",
        "print(\"\")\n",
        "print(cr.LABEL.value_counts())"
      ],
      "execution_count": null,
      "outputs": [
        {
          "output_type": "stream",
          "text": [
            "        ID  ...                   CREDIT_RECORD\n",
            "0  5001711  ...                            2221\n",
            "1  5001712  ...             2222222222000000000\n",
            "2  5001713  ...          1111111111111111111111\n",
            "3  5001714  ...                 111111111111111\n",
            "4  5001715  ...  111111111111111111111111111111\n",
            "\n",
            "[5 rows x 4 columns]\n",
            "\n",
            "Y    23754\n",
            "E    21987\n",
            "N      244\n",
            "Name: LABEL, dtype: int64\n"
          ],
          "name": "stdout"
        }
      ]
    },
    {
      "cell_type": "markdown",
      "metadata": {
        "id": "P2iCBX_0CSeC"
      },
      "source": [
        "We can now use this new `LABEL` data to explore its relationship with the attributes, held in the `credit application` dataset. As explained above, `LABEL` can take 3 values:\n",
        "\n",
        "* E: Exclude\n",
        "* Y: Issue credit card\n",
        "* N: Do not issue credit card\n",
        "\n"
      ]
    },
    {
      "cell_type": "markdown",
      "metadata": {
        "id": "GlddhMO-CSeD"
      },
      "source": [
        "### Credit application data exploration"
      ]
    },
    {
      "cell_type": "markdown",
      "metadata": {
        "id": "Xjst_O6zCSeD"
      },
      "source": [
        "We now explore the credit application data. First, we need to match it to the credit record dataset, using ID as the common field."
      ]
    },
    {
      "cell_type": "code",
      "metadata": {
        "id": "Cqwxfi-aCSeD"
      },
      "source": [
        "#ar = pd.read_csv(\"/content/application_record.csv\") # Credit record set\n",
        "ar = pd.read_csv(\"/content/drive/My Drive/data/application_record.csv\")"
      ],
      "execution_count": null,
      "outputs": []
    },
    {
      "cell_type": "code",
      "metadata": {
        "id": "G7qCgd1fCSeG",
        "colab": {
          "base_uri": "https://localhost:8080/",
          "height": 68
        },
        "outputId": "e9f56fe7-914e-4328-9517-03a13573cd85"
      },
      "source": [
        "print('The application record set contains {} rows and {} unique IDs.'.format(len(ar.index), len(set(ar['ID']))))\n",
        "print('The credit record set contains {} unique IDs.'.format(len(set(cr['ID']))))\n",
        "print('The two sets have an overlap of {} IDs.'.format(len(set(ar['ID']).intersection(set(cr['ID'])))))"
      ],
      "execution_count": null,
      "outputs": [
        {
          "output_type": "stream",
          "text": [
            "The application record set contains 438557 rows and 438510 unique IDs.\n",
            "The credit record set contains 45985 unique IDs.\n",
            "The two sets have an overlap of 36457 IDs.\n"
          ],
          "name": "stdout"
        }
      ]
    },
    {
      "cell_type": "code",
      "metadata": {
        "id": "DeZa2FFhEcCn"
      },
      "source": [
        "#Pandas Profiling on application_record.csv\n",
        "\n",
        "#profile = ProfileReport(ar, title=\"Pandas Profiling on application_record.csv\")\n",
        "#profile.to_file(\"/Users/xinyueding/Dropbox/You and Me/MSc in Applied Data Science/Spyder/Data mining project/ar_report.html\")\n",
        "#profile.to_widgets()"
      ],
      "execution_count": null,
      "outputs": []
    },
    {
      "cell_type": "markdown",
      "metadata": {
        "id": "OvdB294TCSeJ"
      },
      "source": [
        "We remove duplicates from the application record set, then do an inner merge, and finally remove all rows with label E. As explained above, we exclude these individuals because their credit record is not long enough to determine whether the individuals would have entered bad debt."
      ]
    },
    {
      "cell_type": "code",
      "metadata": {
        "id": "qZZWIu-vCSeJ"
      },
      "source": [
        "ar = ar.drop_duplicates(subset=['ID'])\n",
        "ar = pd.merge(ar, cr, on='ID', how='inner')"
      ],
      "execution_count": null,
      "outputs": []
    },
    {
      "cell_type": "code",
      "metadata": {
        "id": "gJsf53bnCSeM"
      },
      "source": [
        "ar = ar[ar['LABEL'] != 'E']"
      ],
      "execution_count": null,
      "outputs": []
    },
    {
      "cell_type": "markdown",
      "metadata": {
        "id": "DZWP6z3OCSeP"
      },
      "source": [
        "Now that we have 1 row for each individual, and we have merged the credit record set with the credit application set, we can explore the data further."
      ]
    },
    {
      "cell_type": "markdown",
      "metadata": {
        "id": "J0_UdWN_CSeP"
      },
      "source": [
        "#### Data types"
      ]
    },
    {
      "cell_type": "code",
      "metadata": {
        "id": "zDT5-KEmCSeQ",
        "colab": {
          "base_uri": "https://localhost:8080/",
          "height": 493
        },
        "outputId": "844a88da-93dd-4845-9316-f9ab1ca48813"
      },
      "source": [
        "ar.info()"
      ],
      "execution_count": null,
      "outputs": [
        {
          "output_type": "stream",
          "text": [
            "<class 'pandas.core.frame.DataFrame'>\n",
            "Int64Index: 17625 entries, 2 to 36454\n",
            "Data columns (total 21 columns):\n",
            " #   Column               Non-Null Count  Dtype  \n",
            "---  ------               --------------  -----  \n",
            " 0   ID                   17625 non-null  int64  \n",
            " 1   CODE_GENDER          17625 non-null  object \n",
            " 2   FLAG_OWN_CAR         17625 non-null  object \n",
            " 3   FLAG_OWN_REALTY      17625 non-null  object \n",
            " 4   CNT_CHILDREN         17625 non-null  int64  \n",
            " 5   AMT_INCOME_TOTAL     17625 non-null  float64\n",
            " 6   NAME_INCOME_TYPE     17625 non-null  object \n",
            " 7   NAME_EDUCATION_TYPE  17625 non-null  object \n",
            " 8   NAME_FAMILY_STATUS   17625 non-null  object \n",
            " 9   NAME_HOUSING_TYPE    17625 non-null  object \n",
            " 10  DAYS_BIRTH           17625 non-null  int64  \n",
            " 11  DAYS_EMPLOYED        17625 non-null  int64  \n",
            " 12  FLAG_MOBIL           17625 non-null  int64  \n",
            " 13  FLAG_WORK_PHONE      17625 non-null  int64  \n",
            " 14  FLAG_PHONE           17625 non-null  int64  \n",
            " 15  FLAG_EMAIL           17625 non-null  int64  \n",
            " 16  OCCUPATION_TYPE      12246 non-null  object \n",
            " 17  CNT_FAM_MEMBERS      17625 non-null  float64\n",
            " 18  CREDIT_HISTORY       17625 non-null  object \n",
            " 19  LABEL                17625 non-null  object \n",
            " 20  CREDIT_RECORD        17625 non-null  object \n",
            "dtypes: float64(2), int64(8), object(11)\n",
            "memory usage: 3.0+ MB\n"
          ],
          "name": "stdout"
        }
      ]
    },
    {
      "cell_type": "markdown",
      "metadata": {
        "id": "7Cft1-dGCSeU"
      },
      "source": [
        "The attributes `CODE_GENDER`, `FLAG_OWN_CAR`, and `FLAG_OWN_REALTY` can be turned into Boolean variables, as can `LABEL` (by definition not an attribute).\n",
        "\n",
        "`CNT_CHILDREN` is, correctly, an integer type. `CNT_FAM_MEMBERS` is a float but should also be an integer.\n",
        "\n",
        "`DAYS_BIRTH` and `DAYS_EMPLOYED` are correctly integers, but are negative numbers – this will be easier to conceptualise as positive numbers."
      ]
    },
    {
      "cell_type": "code",
      "metadata": {
        "id": "Y0reWFaACSeV"
      },
      "source": [
        "# Convert 3 attributes & 1 label to booleans\n",
        "ar = ar.replace({'CODE_GENDER'    : {'F': 1, 'M': 0}})\n",
        "ar = ar.replace({'FLAG_OWN_CAR'   : {'Y': 1, 'N': 0}})\n",
        "ar = ar.replace({'FLAG_OWN_REALTY': {'Y': 1, 'N': 0}})\n",
        "ar = ar.replace({'LABEL'          : {'Y': 1, 'N': 0}})\n",
        "\n",
        "ar = ar.rename(columns={'CODE_GENDER': 'CODE_FEMALE'})\n",
        "\n",
        "# Convert 1 float to integer\n",
        "ar['CNT_FAM_MEMBERS'] = ar['CNT_FAM_MEMBERS'].astype(np.int64)\n",
        "\n",
        "# Convert 2 negative integer attributes to positive integers\n",
        "ar['DAYS_BIRTH'   ] = -ar['DAYS_BIRTH'   ]\n",
        "ar['DAYS_EMPLOYED'] = -ar['DAYS_EMPLOYED']"
      ],
      "execution_count": null,
      "outputs": []
    },
    {
      "cell_type": "markdown",
      "metadata": {
        "id": "1I_5SsfLZb0v"
      },
      "source": [
        "#### Missing values"
      ]
    },
    {
      "cell_type": "code",
      "metadata": {
        "id": "b1-xVvW3ZcXI",
        "colab": {
          "base_uri": "https://localhost:8080/",
          "height": 340
        },
        "outputId": "9c8b6622-c935-4a67-ca2c-a165dae19e70"
      },
      "source": [
        "ar.isnull().sum()\n",
        "ar['OCCUPATION_TYPE'].value_counts()"
      ],
      "execution_count": null,
      "outputs": [
        {
          "output_type": "execute_result",
          "data": {
            "text/plain": [
              "Laborers                 2955\n",
              "Core staff               1783\n",
              "Sales staff              1585\n",
              "Managers                 1550\n",
              "Drivers                  1112\n",
              "High skill tech staff     775\n",
              "Medicine staff            619\n",
              "Accountants               596\n",
              "Cooking staff             297\n",
              "Security staff            274\n",
              "Cleaning staff            255\n",
              "Private service staff     142\n",
              "Low-skill Laborers         83\n",
              "Secretaries                73\n",
              "Waiters/barmen staff       58\n",
              "HR staff                   34\n",
              "IT staff                   31\n",
              "Realty agents              24\n",
              "Name: OCCUPATION_TYPE, dtype: int64"
            ]
          },
          "metadata": {
            "tags": []
          },
          "execution_count": 24
        }
      ]
    },
    {
      "cell_type": "markdown",
      "metadata": {
        "id": "rNoJ4J5WMthA"
      },
      "source": [
        "Across all attributes, only OCCUPATION_TYPE has missing values.\n",
        "\n",
        "As missing OCCUPATION_TYPE might indicate uncertainty on income resources, which could affect an individual's ability to repay, we fill in \"no occupation info\" for missing values here."
      ]
    },
    {
      "cell_type": "code",
      "metadata": {
        "id": "zkkVufpVbBrv"
      },
      "source": [
        "ar['OCCUPATION_TYPE'].fillna('No occupation info', inplace=True)"
      ],
      "execution_count": null,
      "outputs": []
    },
    {
      "cell_type": "markdown",
      "metadata": {
        "id": "21iyVivOCSeX"
      },
      "source": [
        "#### Categorical variables\n",
        "`NAME_INCOME_TYPE`, `NAME_FAMILY_STATUS`, `NAME_HOUSING_TYPE`, and `OCCUPATION_TYPE` are **nominal (unordered) categorical variables** and can be turned into **dummy variables**.\n",
        "\n",
        "`NAME_EDUCATION_TYPE` is an **ordinal (ordered) categorical** variable.\n",
        "\n",
        "We explore the values that these attributes can take:"
      ]
    },
    {
      "cell_type": "code",
      "metadata": {
        "id": "oVCGouWzCSeX",
        "colab": {
          "base_uri": "https://localhost:8080/",
          "height": 1000
        },
        "outputId": "b78b243a-303d-446a-9868-6850a05c51ef"
      },
      "source": [
        "for i in ['NAME_INCOME_TYPE', 'NAME_FAMILY_STATUS', 'NAME_HOUSING_TYPE', 'OCCUPATION_TYPE', 'NAME_EDUCATION_TYPE']:\n",
        "    print()\n",
        "    print(i)\n",
        "    print('Levels: ' + str(ar[i].value_counts().count()))\n",
        "    print(ar[i].value_counts())"
      ],
      "execution_count": null,
      "outputs": [
        {
          "output_type": "stream",
          "text": [
            "\n",
            "NAME_INCOME_TYPE\n",
            "Levels: 5\n",
            "Working                 9038\n",
            "Commercial associate    4193\n",
            "Pensioner               2859\n",
            "State servant           1527\n",
            "Student                    8\n",
            "Name: NAME_INCOME_TYPE, dtype: int64\n",
            "\n",
            "NAME_FAMILY_STATUS\n",
            "Levels: 5\n",
            "Married                 12528\n",
            "Single / not married     2076\n",
            "Civil marriage           1313\n",
            "Separated                1025\n",
            "Widow                     683\n",
            "Name: NAME_FAMILY_STATUS, dtype: int64\n",
            "\n",
            "NAME_HOUSING_TYPE\n",
            "Levels: 6\n",
            "House / apartment      15838\n",
            "With parents             781\n",
            "Municipal apartment      551\n",
            "Rented apartment         240\n",
            "Office apartment         129\n",
            "Co-op apartment           86\n",
            "Name: NAME_HOUSING_TYPE, dtype: int64\n",
            "\n",
            "OCCUPATION_TYPE\n",
            "Levels: 19\n",
            "No occupation info       5379\n",
            "Laborers                 2955\n",
            "Core staff               1783\n",
            "Sales staff              1585\n",
            "Managers                 1550\n",
            "Drivers                  1112\n",
            "High skill tech staff     775\n",
            "Medicine staff            619\n",
            "Accountants               596\n",
            "Cooking staff             297\n",
            "Security staff            274\n",
            "Cleaning staff            255\n",
            "Private service staff     142\n",
            "Low-skill Laborers         83\n",
            "Secretaries                73\n",
            "Waiters/barmen staff       58\n",
            "HR staff                   34\n",
            "IT staff                   31\n",
            "Realty agents              24\n",
            "Name: OCCUPATION_TYPE, dtype: int64\n",
            "\n",
            "NAME_EDUCATION_TYPE\n",
            "Levels: 5\n",
            "Secondary / secondary special    11839\n",
            "Higher education                  4870\n",
            "Incomplete higher                  701\n",
            "Lower secondary                    193\n",
            "Academic degree                     22\n",
            "Name: NAME_EDUCATION_TYPE, dtype: int64\n"
          ],
          "name": "stdout"
        }
      ]
    },
    {
      "cell_type": "markdown",
      "metadata": {
        "id": "9a6d7NGdCSea"
      },
      "source": [
        "A visual inspection of these categorical variables raises some questions.\n",
        "\n",
        "In the `NAME_EDUCATION_TYPE` attribute, what exactly is the difference between `higher education` and `academic degree`? Because these appear to mean the same thing, and given the small number of people in the latter category, we group them together. This leaves 4 levels in a clear order from least educated to most educated: `Lower secondary`, then `Secondary / secondary special`, then `Incomplete higher`, then `Higher education`.\n"
      ]
    },
    {
      "cell_type": "code",
      "metadata": {
        "id": "RXpmvpG7CSea"
      },
      "source": [
        "# First, rename all values to be a single string with no spaces\n",
        "ar = ar.replace(' ', '_' , regex=True)\n",
        "ar = ar.replace('/', 'or', regex=True)\n",
        "\n",
        "# Education type\n",
        "ar['NAME_EDUCATION_TYPE'] = ar['NAME_EDUCATION_TYPE'].replace('Academic_degree', 'Higher_education')\n",
        "\n",
        "# Integer encoding for eduction type\n",
        "ar.NAME_EDUCATION_TYPE = ar.NAME_EDUCATION_TYPE.map({\n",
        "                       'Lower_secondary': 0,\n",
        "                       'Secondary_or_secondary_special': 1,\n",
        "                       'Incomplete_higher': 2,\n",
        "                       'Higher_education': 3})"
      ],
      "execution_count": null,
      "outputs": []
    },
    {
      "cell_type": "code",
      "metadata": {
        "id": "qpdgVjIeCSed"
      },
      "source": [
        "# One-hot encoding for nominal categorical variables\n",
        "ar = pd.get_dummies(ar, columns=['NAME_INCOME_TYPE', 'NAME_FAMILY_STATUS',\n",
        "                                 'NAME_HOUSING_TYPE', 'OCCUPATION_TYPE'])"
      ],
      "execution_count": null,
      "outputs": []
    },
    {
      "cell_type": "code",
      "metadata": {
        "id": "eUg6i1YkCSei",
        "colab": {
          "base_uri": "https://localhost:8080/",
          "height": 1000
        },
        "outputId": "51465276-9322-49f7-9bd9-254ffcb88d5e"
      },
      "source": [
        "ar.info()"
      ],
      "execution_count": null,
      "outputs": [
        {
          "output_type": "stream",
          "text": [
            "<class 'pandas.core.frame.DataFrame'>\n",
            "Int64Index: 17625 entries, 2 to 36454\n",
            "Data columns (total 52 columns):\n",
            " #   Column                                    Non-Null Count  Dtype  \n",
            "---  ------                                    --------------  -----  \n",
            " 0   ID                                        17625 non-null  int64  \n",
            " 1   CODE_FEMALE                               17625 non-null  int64  \n",
            " 2   FLAG_OWN_CAR                              17625 non-null  int64  \n",
            " 3   FLAG_OWN_REALTY                           17625 non-null  int64  \n",
            " 4   CNT_CHILDREN                              17625 non-null  int64  \n",
            " 5   AMT_INCOME_TOTAL                          17625 non-null  float64\n",
            " 6   NAME_EDUCATION_TYPE                       17625 non-null  int64  \n",
            " 7   DAYS_BIRTH                                17625 non-null  int64  \n",
            " 8   DAYS_EMPLOYED                             17625 non-null  int64  \n",
            " 9   FLAG_MOBIL                                17625 non-null  int64  \n",
            " 10  FLAG_WORK_PHONE                           17625 non-null  int64  \n",
            " 11  FLAG_PHONE                                17625 non-null  int64  \n",
            " 12  FLAG_EMAIL                                17625 non-null  int64  \n",
            " 13  CNT_FAM_MEMBERS                           17625 non-null  int64  \n",
            " 14  CREDIT_HISTORY                            17625 non-null  object \n",
            " 15  LABEL                                     17625 non-null  int64  \n",
            " 16  CREDIT_RECORD                             17625 non-null  object \n",
            " 17  NAME_INCOME_TYPE_Commercial_associate     17625 non-null  uint8  \n",
            " 18  NAME_INCOME_TYPE_Pensioner                17625 non-null  uint8  \n",
            " 19  NAME_INCOME_TYPE_State_servant            17625 non-null  uint8  \n",
            " 20  NAME_INCOME_TYPE_Student                  17625 non-null  uint8  \n",
            " 21  NAME_INCOME_TYPE_Working                  17625 non-null  uint8  \n",
            " 22  NAME_FAMILY_STATUS_Civil_marriage         17625 non-null  uint8  \n",
            " 23  NAME_FAMILY_STATUS_Married                17625 non-null  uint8  \n",
            " 24  NAME_FAMILY_STATUS_Separated              17625 non-null  uint8  \n",
            " 25  NAME_FAMILY_STATUS_Single_or_not_married  17625 non-null  uint8  \n",
            " 26  NAME_FAMILY_STATUS_Widow                  17625 non-null  uint8  \n",
            " 27  NAME_HOUSING_TYPE_Co-op_apartment         17625 non-null  uint8  \n",
            " 28  NAME_HOUSING_TYPE_House_or_apartment      17625 non-null  uint8  \n",
            " 29  NAME_HOUSING_TYPE_Municipal_apartment     17625 non-null  uint8  \n",
            " 30  NAME_HOUSING_TYPE_Office_apartment        17625 non-null  uint8  \n",
            " 31  NAME_HOUSING_TYPE_Rented_apartment        17625 non-null  uint8  \n",
            " 32  NAME_HOUSING_TYPE_With_parents            17625 non-null  uint8  \n",
            " 33  OCCUPATION_TYPE_Accountants               17625 non-null  uint8  \n",
            " 34  OCCUPATION_TYPE_Cleaning_staff            17625 non-null  uint8  \n",
            " 35  OCCUPATION_TYPE_Cooking_staff             17625 non-null  uint8  \n",
            " 36  OCCUPATION_TYPE_Core_staff                17625 non-null  uint8  \n",
            " 37  OCCUPATION_TYPE_Drivers                   17625 non-null  uint8  \n",
            " 38  OCCUPATION_TYPE_HR_staff                  17625 non-null  uint8  \n",
            " 39  OCCUPATION_TYPE_High_skill_tech_staff     17625 non-null  uint8  \n",
            " 40  OCCUPATION_TYPE_IT_staff                  17625 non-null  uint8  \n",
            " 41  OCCUPATION_TYPE_Laborers                  17625 non-null  uint8  \n",
            " 42  OCCUPATION_TYPE_Low-skill_Laborers        17625 non-null  uint8  \n",
            " 43  OCCUPATION_TYPE_Managers                  17625 non-null  uint8  \n",
            " 44  OCCUPATION_TYPE_Medicine_staff            17625 non-null  uint8  \n",
            " 45  OCCUPATION_TYPE_No_occupation_info        17625 non-null  uint8  \n",
            " 46  OCCUPATION_TYPE_Private_service_staff     17625 non-null  uint8  \n",
            " 47  OCCUPATION_TYPE_Realty_agents             17625 non-null  uint8  \n",
            " 48  OCCUPATION_TYPE_Sales_staff               17625 non-null  uint8  \n",
            " 49  OCCUPATION_TYPE_Secretaries               17625 non-null  uint8  \n",
            " 50  OCCUPATION_TYPE_Security_staff            17625 non-null  uint8  \n",
            " 51  OCCUPATION_TYPE_Waitersorbarmen_staff     17625 non-null  uint8  \n",
            "dtypes: float64(1), int64(14), object(2), uint8(35)\n",
            "memory usage: 3.0+ MB\n"
          ],
          "name": "stdout"
        }
      ]
    },
    {
      "cell_type": "code",
      "metadata": {
        "id": "Aq4CqEJRCSek"
      },
      "source": [
        "# Remove 1 column from each categorical variable, keep dataset linearly independent\n",
        "ar = ar.drop(['NAME_INCOME_TYPE_State_servant',\n",
        "              'NAME_FAMILY_STATUS_Widow',\n",
        "              'NAME_HOUSING_TYPE_Co-op_apartment',\n",
        "              'OCCUPATION_TYPE_Realty_agents'],\n",
        "             axis=1)"
      ],
      "execution_count": null,
      "outputs": []
    },
    {
      "cell_type": "markdown",
      "metadata": {
        "id": "QcfkDTY4CSem"
      },
      "source": [
        "#### Duplicated data\n",
        "One might wonder which `occupation type` is compatible with the 8 records of `income type` *student*. The answer, apparently, is *core worker* – but examining the records brings a new issue to light:"
      ]
    },
    {
      "cell_type": "code",
      "metadata": {
        "id": "bZdQe5jcCSem",
        "colab": {
          "base_uri": "https://localhost:8080/",
          "height": 317
        },
        "outputId": "23d67772-5acf-4e48-a1b0-fe2cf1874f96"
      },
      "source": [
        "# View students\n",
        "student = ar[ar['NAME_INCOME_TYPE_Student'] == 1]\n",
        "student[['ID', 'CODE_FEMALE', 'FLAG_OWN_CAR', 'FLAG_OWN_REALTY',\n",
        "         'CNT_CHILDREN', 'AMT_INCOME_TOTAL', 'NAME_EDUCATION_TYPE',\n",
        "         'DAYS_BIRTH', 'DAYS_EMPLOYED', 'CNT_FAM_MEMBERS',\n",
        "         'OCCUPATION_TYPE_Core_staff', 'NAME_HOUSING_TYPE_House_or_apartment',\n",
        "         'NAME_FAMILY_STATUS_Married', 'CREDIT_HISTORY',\n",
        "         'LABEL', 'CREDIT_RECORD']]"
      ],
      "execution_count": null,
      "outputs": [
        {
          "output_type": "execute_result",
          "data": {
            "text/html": [
              "<div>\n",
              "<style scoped>\n",
              "    .dataframe tbody tr th:only-of-type {\n",
              "        vertical-align: middle;\n",
              "    }\n",
              "\n",
              "    .dataframe tbody tr th {\n",
              "        vertical-align: top;\n",
              "    }\n",
              "\n",
              "    .dataframe thead th {\n",
              "        text-align: right;\n",
              "    }\n",
              "</style>\n",
              "<table border=\"1\" class=\"dataframe\">\n",
              "  <thead>\n",
              "    <tr style=\"text-align: right;\">\n",
              "      <th></th>\n",
              "      <th>ID</th>\n",
              "      <th>CODE_FEMALE</th>\n",
              "      <th>FLAG_OWN_CAR</th>\n",
              "      <th>FLAG_OWN_REALTY</th>\n",
              "      <th>CNT_CHILDREN</th>\n",
              "      <th>AMT_INCOME_TOTAL</th>\n",
              "      <th>NAME_EDUCATION_TYPE</th>\n",
              "      <th>DAYS_BIRTH</th>\n",
              "      <th>DAYS_EMPLOYED</th>\n",
              "      <th>CNT_FAM_MEMBERS</th>\n",
              "      <th>OCCUPATION_TYPE_Core_staff</th>\n",
              "      <th>NAME_HOUSING_TYPE_House_or_apartment</th>\n",
              "      <th>NAME_FAMILY_STATUS_Married</th>\n",
              "      <th>CREDIT_HISTORY</th>\n",
              "      <th>LABEL</th>\n",
              "      <th>CREDIT_RECORD</th>\n",
              "    </tr>\n",
              "  </thead>\n",
              "  <tbody>\n",
              "    <tr>\n",
              "      <th>1316</th>\n",
              "      <td>5010456</td>\n",
              "      <td>1</td>\n",
              "      <td>0</td>\n",
              "      <td>1</td>\n",
              "      <td>0</td>\n",
              "      <td>171000.0</td>\n",
              "      <td>3</td>\n",
              "      <td>18756</td>\n",
              "      <td>3904</td>\n",
              "      <td>2</td>\n",
              "      <td>1</td>\n",
              "      <td>1</td>\n",
              "      <td>1</td>\n",
              "      <td>1112111</td>\n",
              "      <td>1</td>\n",
              "      <td>111111111111110000000000000000</td>\n",
              "    </tr>\n",
              "    <tr>\n",
              "      <th>1317</th>\n",
              "      <td>5010457</td>\n",
              "      <td>1</td>\n",
              "      <td>0</td>\n",
              "      <td>1</td>\n",
              "      <td>0</td>\n",
              "      <td>171000.0</td>\n",
              "      <td>3</td>\n",
              "      <td>18756</td>\n",
              "      <td>3904</td>\n",
              "      <td>2</td>\n",
              "      <td>1</td>\n",
              "      <td>1</td>\n",
              "      <td>1</td>\n",
              "      <td>2222220000</td>\n",
              "      <td>1</td>\n",
              "      <td>000000000000000000000000000000</td>\n",
              "    </tr>\n",
              "    <tr>\n",
              "      <th>1318</th>\n",
              "      <td>5010458</td>\n",
              "      <td>1</td>\n",
              "      <td>0</td>\n",
              "      <td>1</td>\n",
              "      <td>0</td>\n",
              "      <td>171000.0</td>\n",
              "      <td>3</td>\n",
              "      <td>18756</td>\n",
              "      <td>3904</td>\n",
              "      <td>2</td>\n",
              "      <td>1</td>\n",
              "      <td>1</td>\n",
              "      <td>1</td>\n",
              "      <td>12222222222220000000</td>\n",
              "      <td>1</td>\n",
              "      <td>000000000000000000000000000000</td>\n",
              "    </tr>\n",
              "    <tr>\n",
              "      <th>1319</th>\n",
              "      <td>5010459</td>\n",
              "      <td>1</td>\n",
              "      <td>0</td>\n",
              "      <td>1</td>\n",
              "      <td>0</td>\n",
              "      <td>171000.0</td>\n",
              "      <td>3</td>\n",
              "      <td>18756</td>\n",
              "      <td>3904</td>\n",
              "      <td>2</td>\n",
              "      <td>1</td>\n",
              "      <td>1</td>\n",
              "      <td>1</td>\n",
              "      <td>1222211111</td>\n",
              "      <td>1</td>\n",
              "      <td>111000000000000000000000000000</td>\n",
              "    </tr>\n",
              "    <tr>\n",
              "      <th>1320</th>\n",
              "      <td>5010460</td>\n",
              "      <td>1</td>\n",
              "      <td>0</td>\n",
              "      <td>1</td>\n",
              "      <td>0</td>\n",
              "      <td>171000.0</td>\n",
              "      <td>3</td>\n",
              "      <td>18756</td>\n",
              "      <td>3904</td>\n",
              "      <td>2</td>\n",
              "      <td>1</td>\n",
              "      <td>1</td>\n",
              "      <td>1</td>\n",
              "      <td>1222</td>\n",
              "      <td>1</td>\n",
              "      <td>211111111000000000000000000000</td>\n",
              "    </tr>\n",
              "    <tr>\n",
              "      <th>1321</th>\n",
              "      <td>5010461</td>\n",
              "      <td>1</td>\n",
              "      <td>0</td>\n",
              "      <td>1</td>\n",
              "      <td>0</td>\n",
              "      <td>171000.0</td>\n",
              "      <td>3</td>\n",
              "      <td>18756</td>\n",
              "      <td>3904</td>\n",
              "      <td>2</td>\n",
              "      <td>1</td>\n",
              "      <td>1</td>\n",
              "      <td>1</td>\n",
              "      <td>122221</td>\n",
              "      <td>1</td>\n",
              "      <td>111111100000000000000000000000</td>\n",
              "    </tr>\n",
              "    <tr>\n",
              "      <th>1322</th>\n",
              "      <td>5010462</td>\n",
              "      <td>1</td>\n",
              "      <td>0</td>\n",
              "      <td>1</td>\n",
              "      <td>0</td>\n",
              "      <td>171000.0</td>\n",
              "      <td>3</td>\n",
              "      <td>18756</td>\n",
              "      <td>3904</td>\n",
              "      <td>2</td>\n",
              "      <td>1</td>\n",
              "      <td>1</td>\n",
              "      <td>1</td>\n",
              "      <td></td>\n",
              "      <td>1</td>\n",
              "      <td>222222000000000000000000000</td>\n",
              "    </tr>\n",
              "    <tr>\n",
              "      <th>1323</th>\n",
              "      <td>5010463</td>\n",
              "      <td>1</td>\n",
              "      <td>0</td>\n",
              "      <td>1</td>\n",
              "      <td>0</td>\n",
              "      <td>171000.0</td>\n",
              "      <td>3</td>\n",
              "      <td>18756</td>\n",
              "      <td>3904</td>\n",
              "      <td>2</td>\n",
              "      <td>1</td>\n",
              "      <td>1</td>\n",
              "      <td>1</td>\n",
              "      <td></td>\n",
              "      <td>1</td>\n",
              "      <td>122221111111100000000000000000</td>\n",
              "    </tr>\n",
              "  </tbody>\n",
              "</table>\n",
              "</div>"
            ],
            "text/plain": [
              "           ID  CODE_FEMALE  ...  LABEL                   CREDIT_RECORD\n",
              "1316  5010456            1  ...      1  111111111111110000000000000000\n",
              "1317  5010457            1  ...      1  000000000000000000000000000000\n",
              "1318  5010458            1  ...      1  000000000000000000000000000000\n",
              "1319  5010459            1  ...      1  111000000000000000000000000000\n",
              "1320  5010460            1  ...      1  211111111000000000000000000000\n",
              "1321  5010461            1  ...      1  111111100000000000000000000000\n",
              "1322  5010462            1  ...      1     222222000000000000000000000\n",
              "1323  5010463            1  ...      1  122221111111100000000000000000\n",
              "\n",
              "[8 rows x 16 columns]"
            ]
          },
          "metadata": {
            "tags": []
          },
          "execution_count": 31
        }
      ]
    },
    {
      "cell_type": "markdown",
      "metadata": {
        "id": "NWfNxw4yCSeo"
      },
      "source": [
        "These 8 records have unique `ID`, and unique `CREDIT_RECORD` and `CREDIT_HISTORY`. But all their other attributes are identical. It is almost impossible that all 8 students are women with annual income 171000 and age 18756 days. This appears to be the same person 8 times: but then why do they have different credit records? This could be a problem with the dataset, perhaps introduced during anonymisation, but we are unable to explore further due to time constraints. We will trust the dataset as given, and treat these as 8 unique individuals."
      ]
    },
    {
      "cell_type": "markdown",
      "metadata": {
        "id": "GwC5knpjTol7"
      },
      "source": [
        "#### Credit history"
      ]
    },
    {
      "cell_type": "markdown",
      "metadata": {
        "id": "Y_8gH07LTsSP"
      },
      "source": [
        "The credit history data, which we created by splitting off part of the credit record, above, is currently stored as a string of digits. We need to convert this into one or more meaningful values for modelling.\n",
        "\n",
        "\n",
        "This conversion needs the following 3 properties:\n",
        "\n",
        "1.   Credit history with low monthly values preferred to credit history with high monthly values. For example, `11111111` preferred to `11112347`.\n",
        "2.   Longer clean credit history preferred to shorter clean credit history. For example, `11111111` preferred to `1111`.\n",
        "3.   More distant \"bad\" months preferred to more recent \"bad\" months. For example, `611111` preferred to `111116`. (Recall that credit history is read from left to right, oldest to newest.)\n",
        "\n",
        "It is not obvious how missing or very short credit histories should be ranked. Is no credit history better or worse than `34`, or is `2` better or worse than `42222`? These are not obvious a priori. It would be useful to have more than one measure of credit history so that the models can learn connections like these.\n",
        "\n",
        "For these reasons, we decide to convert credit history into 2 attributes: (1) `CH_SCORE`, which uses a mathematical function described below that fulfils all 3 properties, and (2) `CH_LENGTH`, which is simply a count of months of credit history. Intuitively, CH_LENGTH could determine how much weight to place on CH_SCORE – but the machine learning algorithms could use it differently.\n",
        "\n",
        "CH_SCORE treats a month score of 4 as equivalent to no data, penalising 5-7 (default) more than having no data."
      ]
    },
    {
      "cell_type": "markdown",
      "metadata": {
        "id": "vf_Fzv1alvTQ"
      },
      "source": [
        "We calculate CH_SCORE from credit history using this formula:\n",
        "\n",
        "$$\n",
        "\\text{CH_SCORE}=\\sum_{n=1}^{k}(\\frac{1}{\\sqrt{n}}(4-i_{n}))\n",
        "$$\n",
        "\n",
        "Where $k$ is the number of months of credit history, $i_1$ being the most recent and $i_k$ the oldest. Each additional month of credit history 0-3 adds positively to CH_SCORE, but in a descending geometric weighting according to the function $y=n^{-1/2} $: a gradually decreasing slope in the domain $n\\geq1$. Longer credit histories therefore add up to a higher CH_SCORE, but by decreasing intervals. Months with status 5-7 reduce CH_SCORE, but their impact is diminished over time. All 3 properties established above are satisfied.\n",
        "\n",
        "The purpose of the negative exponent of $n$ is to reduce the weighting of a month over time. The greater the absolute value of this exponent, the more that recent months will be weighted compared to older months. Intuitively, the simplest method would be to use an exponent of -1, but this would weight the most recent month 2x as strongly as the second most recent month, which we felt was too steep a gradient. We therefore use -0.5, but acknowledge that other exponents (and indeed other *credit history* to *credit history score* conversion systems) could prove superior."
      ]
    },
    {
      "cell_type": "code",
      "metadata": {
        "id": "aoC_DZ5f8UHz"
      },
      "source": [
        "# Create credit history score\n",
        "def calculate_ch_score(row):\n",
        "    x = row['CREDIT_HISTORY']\n",
        "    if x == '':\n",
        "        return 0\n",
        "    else:\n",
        "        temp_list = []\n",
        "        for n in range(1,len(x)+1):\n",
        "            i = int(x[-n])\n",
        "            value = (1/math.sqrt(n))*(4-i)\n",
        "            temp_list.append(value)\n",
        "        return(sum(np.array(temp_list)))\n",
        "\n",
        "def length_of_history(row):\n",
        "    x = row['CREDIT_HISTORY']\n",
        "    return(len(x))\n",
        "\n",
        "ar['CH_SCORE' ] = ar.apply(lambda row: calculate_ch_score(row), axis=1)\n",
        "ar['CH_LENGTH'] = ar.apply(lambda row: length_of_history(row) , axis=1)"
      ],
      "execution_count": null,
      "outputs": []
    },
    {
      "cell_type": "markdown",
      "metadata": {
        "id": "o1PAk_mcgGCy"
      },
      "source": [
        "#### Scale numeric data"
      ]
    },
    {
      "cell_type": "markdown",
      "metadata": {
        "id": "FjWH4AIATW9t"
      },
      "source": [
        "It is important to scale the data, for some machine learning algorithms such as K Nearest Neighbours. KNN uses a distance metric between records, which will be heavily weighted towards some features that have large absolute values, such as income, and almost completely ignore other features that have small absolute values, such as the number of children, unless we rescale the features appropriately."
      ]
    },
    {
      "cell_type": "code",
      "metadata": {
        "id": "_O2IeVVvgO-5"
      },
      "source": [
        "# Rescale data\n",
        "num_cols = ar.columns[ar.dtypes.apply(lambda c: np.issubdtype(c, np.number))]\n",
        "scaler = RobustScaler() \n",
        "ar[num_cols] = scaler.fit_transform(ar[num_cols])"
      ],
      "execution_count": null,
      "outputs": []
    },
    {
      "cell_type": "markdown",
      "metadata": {
        "id": "MRJUzw37gRJ0"
      },
      "source": [
        "#### Imbalanced data - Synthetic Minority Over-Sampling Technique (SMOTE)"
      ]
    },
    {
      "cell_type": "code",
      "metadata": {
        "id": "lP-ZvCgS4QLU",
        "colab": {
          "base_uri": "https://localhost:8080/",
          "height": 85
        },
        "outputId": "9b793a9c-ccf6-4a84-bc83-fc8142d820e7"
      },
      "source": [
        "# View value counts\n",
        "print(cr.LABEL.value_counts())"
      ],
      "execution_count": null,
      "outputs": [
        {
          "output_type": "stream",
          "text": [
            "Y    23754\n",
            "E    21987\n",
            "N      244\n",
            "Name: LABEL, dtype: int64\n"
          ],
          "name": "stdout"
        }
      ]
    },
    {
      "cell_type": "markdown",
      "metadata": {
        "id": "-X1YNWu3Tgd8"
      },
      "source": [
        "Our dataset is **imbalanced**: there are approximately 100x as many Ys as Ns. As undersampling the Y group would lead to a very small dataset, and oversampling the N group could cause model overfitting on duplicated data points, we chose to use the Synthetic Minority Over-Sampling Technique (SMOTE), generating new data points that are similar to the minority class (N).\n",
        "\n",
        "An alternative would be to change the model evaluations to disproportionately penalise incorrect classifications of the N group."
      ]
    },
    {
      "cell_type": "code",
      "metadata": {
        "id": "oO-XHjI6gZEw",
        "colab": {
          "base_uri": "https://localhost:8080/",
          "height": 71
        },
        "outputId": "47611fdf-a065-4e95-d473-fe13b0bbc8e0"
      },
      "source": [
        "y = ar['LABEL']\n",
        "x = ar.drop(['ID', 'LABEL', 'CREDIT_HISTORY', 'CREDIT_RECORD'], axis=1)\n",
        "\n",
        "oversample = SMOTE()\n",
        "x_balanced, y_balanced = oversample.fit_sample(x, y)\n",
        "\n",
        "x_balanced = pd.DataFrame(x_balanced, columns = x.columns)\n",
        "y_balanced = pd.DataFrame(y_balanced)"
      ],
      "execution_count": null,
      "outputs": [
        {
          "output_type": "stream",
          "text": [
            "/usr/local/lib/python3.6/dist-packages/sklearn/utils/deprecation.py:87: FutureWarning: Function safe_indexing is deprecated; safe_indexing is deprecated in version 0.22 and will be removed in version 0.24.\n",
            "  warnings.warn(msg, category=FutureWarning)\n"
          ],
          "name": "stderr"
        }
      ]
    },
    {
      "cell_type": "code",
      "metadata": {
        "id": "m3sYjGwQkw0R"
      },
      "source": [
        "del(ar, cr)"
      ],
      "execution_count": null,
      "outputs": []
    },
    {
      "cell_type": "markdown",
      "metadata": {
        "id": "9r31MLVBfwX5"
      },
      "source": [
        "#### Initial feature selection "
      ]
    },
    {
      "cell_type": "markdown",
      "metadata": {
        "id": "eCySsOXmCSeS"
      },
      "source": [
        "Now that we have a workable dataset, we explore the relationships between the attributes and each other, and with the label.\n",
        "\n",
        "4 of the columns are contact details: `FLAG_MOBIL`, `FLAG_WORK_PHONE`, `FLAG_PHONE`, and `FLAG_EMAIL`. We hypthesise that they don't contain useful information for modelling. We run a logistic model between x and y to select features. x has 46 features and, assuming 4 of them should be dropped, we ask the model to select 42 out of 46 features to see if the 4 features of \"contact details\" will indeed be ranked the lowest."
      ]
    },
    {
      "cell_type": "code",
      "metadata": {
        "id": "0CwNF-Q0CSeS",
        "colab": {
          "base_uri": "https://localhost:8080/",
          "height": 544
        },
        "outputId": "50020e5e-026e-4ae7-9436-e9284b1134f5"
      },
      "source": [
        "model = LogisticRegression()\n",
        "rfe = RFE(model, 42)\n",
        "fit = rfe.fit(x, y)\n",
        "print(\"Num Features: %s\"      % (fit.n_features_))\n",
        "print(\"Selected Features: %s\" % (fit.support_)   )\n",
        "print(\"Feature Ranking: %s\"   % (fit.ranking_)   )"
      ],
      "execution_count": null,
      "outputs": [
        {
          "output_type": "stream",
          "text": [
            "/usr/local/lib/python3.6/dist-packages/sklearn/linear_model/_logistic.py:940: ConvergenceWarning: lbfgs failed to converge (status=1):\n",
            "STOP: TOTAL NO. of ITERATIONS REACHED LIMIT.\n",
            "\n",
            "Increase the number of iterations (max_iter) or scale the data as shown in:\n",
            "    https://scikit-learn.org/stable/modules/preprocessing.html\n",
            "Please also refer to the documentation for alternative solver options:\n",
            "    https://scikit-learn.org/stable/modules/linear_model.html#logistic-regression\n",
            "  extra_warning_msg=_LOGISTIC_SOLVER_CONVERGENCE_MSG)\n",
            "/usr/local/lib/python3.6/dist-packages/sklearn/linear_model/_logistic.py:940: ConvergenceWarning: lbfgs failed to converge (status=1):\n",
            "STOP: TOTAL NO. of ITERATIONS REACHED LIMIT.\n",
            "\n",
            "Increase the number of iterations (max_iter) or scale the data as shown in:\n",
            "    https://scikit-learn.org/stable/modules/preprocessing.html\n",
            "Please also refer to the documentation for alternative solver options:\n",
            "    https://scikit-learn.org/stable/modules/linear_model.html#logistic-regression\n",
            "  extra_warning_msg=_LOGISTIC_SOLVER_CONVERGENCE_MSG)\n",
            "/usr/local/lib/python3.6/dist-packages/sklearn/linear_model/_logistic.py:940: ConvergenceWarning: lbfgs failed to converge (status=1):\n",
            "STOP: TOTAL NO. of ITERATIONS REACHED LIMIT.\n",
            "\n",
            "Increase the number of iterations (max_iter) or scale the data as shown in:\n",
            "    https://scikit-learn.org/stable/modules/preprocessing.html\n",
            "Please also refer to the documentation for alternative solver options:\n",
            "    https://scikit-learn.org/stable/modules/linear_model.html#logistic-regression\n",
            "  extra_warning_msg=_LOGISTIC_SOLVER_CONVERGENCE_MSG)\n"
          ],
          "name": "stderr"
        },
        {
          "output_type": "stream",
          "text": [
            "Num Features: 42\n",
            "Selected Features: [ True  True  True  True  True  True  True False False  True  True  True\n",
            "  True  True  True  True  True  True  True  True  True  True  True  True\n",
            "  True  True  True  True False  True  True  True False  True  True  True\n",
            "  True  True  True  True  True  True  True  True  True  True]\n",
            "Feature Ranking: [1 1 1 1 1 1 1 3 5 1 1 1 1 1 1 1 1 1 1 1 1 1 1 1 1 1 1 1 2 1 1 1 4 1 1 1 1\n",
            " 1 1 1 1 1 1 1 1 1]\n"
          ],
          "name": "stdout"
        }
      ]
    },
    {
      "cell_type": "markdown",
      "metadata": {
        "id": "t5TJKbsWquLn"
      },
      "source": [
        "The ranking suggests that we should drop DAYS_EMPLOYED, FLAG_MOBIL, and FLAG_WORK_PHONE, as the least relevant features.\n",
        "\n",
        "It also suggests that we should drop NAME_FAMILY_STATUS_Single_or_not_married - however we decide to keep it, due to its rank and nature as one of the categories for family status."
      ]
    },
    {
      "cell_type": "code",
      "metadata": {
        "id": "lLPmibD0qs-M",
        "colab": {
          "base_uri": "https://localhost:8080/",
          "height": 918
        },
        "outputId": "ae4eafc9-6553-4b88-d302-0e750455dd8e"
      },
      "source": [
        "x_balanced.info()\n",
        "x_balanced = x_balanced.drop(['DAYS_EMPLOYED', 'FLAG_MOBIL', 'FLAG_WORK_PHONE'], axis=1)"
      ],
      "execution_count": null,
      "outputs": [
        {
          "output_type": "stream",
          "text": [
            "<class 'pandas.core.frame.DataFrame'>\n",
            "RangeIndex: 34788 entries, 0 to 34787\n",
            "Data columns (total 46 columns):\n",
            " #   Column                                    Non-Null Count  Dtype  \n",
            "---  ------                                    --------------  -----  \n",
            " 0   CODE_FEMALE                               34788 non-null  float64\n",
            " 1   FLAG_OWN_CAR                              34788 non-null  float64\n",
            " 2   FLAG_OWN_REALTY                           34788 non-null  float64\n",
            " 3   CNT_CHILDREN                              34788 non-null  float64\n",
            " 4   AMT_INCOME_TOTAL                          34788 non-null  float64\n",
            " 5   NAME_EDUCATION_TYPE                       34788 non-null  float64\n",
            " 6   DAYS_BIRTH                                34788 non-null  float64\n",
            " 7   DAYS_EMPLOYED                             34788 non-null  float64\n",
            " 8   FLAG_MOBIL                                34788 non-null  float64\n",
            " 9   FLAG_WORK_PHONE                           34788 non-null  float64\n",
            " 10  FLAG_PHONE                                34788 non-null  float64\n",
            " 11  FLAG_EMAIL                                34788 non-null  float64\n",
            " 12  CNT_FAM_MEMBERS                           34788 non-null  float64\n",
            " 13  NAME_INCOME_TYPE_Commercial_associate     34788 non-null  float64\n",
            " 14  NAME_INCOME_TYPE_Pensioner                34788 non-null  float64\n",
            " 15  NAME_INCOME_TYPE_Student                  34788 non-null  float64\n",
            " 16  NAME_INCOME_TYPE_Working                  34788 non-null  float64\n",
            " 17  NAME_FAMILY_STATUS_Civil_marriage         34788 non-null  float64\n",
            " 18  NAME_FAMILY_STATUS_Married                34788 non-null  float64\n",
            " 19  NAME_FAMILY_STATUS_Separated              34788 non-null  float64\n",
            " 20  NAME_FAMILY_STATUS_Single_or_not_married  34788 non-null  float64\n",
            " 21  NAME_HOUSING_TYPE_House_or_apartment      34788 non-null  float64\n",
            " 22  NAME_HOUSING_TYPE_Municipal_apartment     34788 non-null  float64\n",
            " 23  NAME_HOUSING_TYPE_Office_apartment        34788 non-null  float64\n",
            " 24  NAME_HOUSING_TYPE_Rented_apartment        34788 non-null  float64\n",
            " 25  NAME_HOUSING_TYPE_With_parents            34788 non-null  float64\n",
            " 26  OCCUPATION_TYPE_Accountants               34788 non-null  float64\n",
            " 27  OCCUPATION_TYPE_Cleaning_staff            34788 non-null  float64\n",
            " 28  OCCUPATION_TYPE_Cooking_staff             34788 non-null  float64\n",
            " 29  OCCUPATION_TYPE_Core_staff                34788 non-null  float64\n",
            " 30  OCCUPATION_TYPE_Drivers                   34788 non-null  float64\n",
            " 31  OCCUPATION_TYPE_HR_staff                  34788 non-null  float64\n",
            " 32  OCCUPATION_TYPE_High_skill_tech_staff     34788 non-null  float64\n",
            " 33  OCCUPATION_TYPE_IT_staff                  34788 non-null  float64\n",
            " 34  OCCUPATION_TYPE_Laborers                  34788 non-null  float64\n",
            " 35  OCCUPATION_TYPE_Low-skill_Laborers        34788 non-null  float64\n",
            " 36  OCCUPATION_TYPE_Managers                  34788 non-null  float64\n",
            " 37  OCCUPATION_TYPE_Medicine_staff            34788 non-null  float64\n",
            " 38  OCCUPATION_TYPE_No_occupation_info        34788 non-null  float64\n",
            " 39  OCCUPATION_TYPE_Private_service_staff     34788 non-null  float64\n",
            " 40  OCCUPATION_TYPE_Sales_staff               34788 non-null  float64\n",
            " 41  OCCUPATION_TYPE_Secretaries               34788 non-null  float64\n",
            " 42  OCCUPATION_TYPE_Security_staff            34788 non-null  float64\n",
            " 43  OCCUPATION_TYPE_Waitersorbarmen_staff     34788 non-null  float64\n",
            " 44  CH_SCORE                                  34788 non-null  float64\n",
            " 45  CH_LENGTH                                 34788 non-null  float64\n",
            "dtypes: float64(46)\n",
            "memory usage: 12.2 MB\n"
          ],
          "name": "stdout"
        }
      ]
    },
    {
      "cell_type": "code",
      "metadata": {
        "id": "67GC7gZ6lgD2"
      },
      "source": [
        "####################################### Open x_balanced and y_balanced from saved files #save first without indexes\n",
        "x_balanced = pd.read_csv(\"/content/drive/My Drive/data/x_balanced.csv\")\n",
        "y_balanced = pd.read_csv(\"/content/drive/My Drive/data/y_balanced.csv\")\n",
        "\n"
      ],
      "execution_count": null,
      "outputs": []
    },
    {
      "cell_type": "markdown",
      "metadata": {
        "id": "wxkXTzsgCSeu"
      },
      "source": [
        "## Data modelling and model evaluation"
      ]
    },
    {
      "cell_type": "markdown",
      "metadata": {
        "id": "tQqdC3VsFFn4"
      },
      "source": [
        "Now we model the data, to attempt to predict whether a consumer will go into default. This information could be used by a card issuer to decide whether to issue a consumer a credit card."
      ]
    },
    {
      "cell_type": "markdown",
      "metadata": {
        "id": "xJRAn7fhefdl"
      },
      "source": [
        "### Set up, training and testing sets"
      ]
    },
    {
      "cell_type": "code",
      "metadata": {
        "id": "FP900reTFPj7"
      },
      "source": [
        "# Import modules\n",
        "from sklearn.linear_model import LogisticRegression\n",
        "from sklearn.neighbors import KNeighborsClassifier\n",
        "from sklearn.svm import SVC\n",
        "from sklearn.tree import DecisionTreeClassifier \n",
        "from sklearn.ensemble import RandomForestClassifier\n",
        "from sklearn.model_selection import cross_val_score, GridSearchCV\n",
        "from sklearn.feature_selection import SelectKBest, RFECV, RFE, VarianceThreshold, mutual_info_classif\n",
        "from sklearn.metrics import accuracy_score\n",
        "from sklearn.ensemble import VotingClassifier, StackingClassifier\n",
        "from lightgbm import LGBMClassifier\n",
        "from sklearn import tree\n",
        "from sklearn.model_selection import train_test_split\n",
        "from sklearn.ensemble import BaggingClassifier\n",
        "from sklearn.metrics import confusion_matrix as cm"
      ],
      "execution_count": null,
      "outputs": []
    },
    {
      "cell_type": "code",
      "metadata": {
        "id": "MvGgdQQBGsQe"
      },
      "source": [
        "# Set up training and testing sets\n",
        "X_train, X_test, y_train, y_test = train_test_split(x_balanced, y_balanced, test_size = 0.2, random_state=1)"
      ],
      "execution_count": null,
      "outputs": []
    },
    {
      "cell_type": "markdown",
      "metadata": {
        "id": "j90EVRX7e4zf"
      },
      "source": [
        "### Initial modelling"
      ]
    },
    {
      "cell_type": "markdown",
      "metadata": {
        "id": "R7b1auA83X1d"
      },
      "source": [
        "We will model the data using 6 techniques: KNN, Decision Tree, Random Forest, LightGBM, Logistic Regression, and Support Vector Classifier.\n",
        "\n",
        "First we try these 6 techniques with their (scikit-learn) default parameters as a baseline."
      ]
    },
    {
      "cell_type": "code",
      "metadata": {
        "id": "pxY9uRQcFGL1",
        "colab": {
          "base_uri": "https://localhost:8080/",
          "height": 564
        },
        "outputId": "142501aa-1f46-4255-fdc7-60244e7b0ccf"
      },
      "source": [
        "# Initialise classifier models, with default parameters\n",
        "models = []\n",
        "models.append(('KNN'     , KNeighborsClassifier()   )) \n",
        "models.append(('DT'      , DecisionTreeClassifier() )) \n",
        "models.append(('RF'      , RandomForestClassifier() ))\n",
        "models.append(('LightGBM', LGBMClassifier()         ))\n",
        "models.append(('LR'      , LogisticRegression()     )) \n",
        "models.append(('SVC'     , SVC(probability=True)    ))\n",
        "\n",
        "names  = []\n",
        "scores = []\n",
        "\n",
        "for name, model in models: \n",
        "    print(str(name))\n",
        "    model.fit(X_train, y_train)\n",
        "    y_pred = model.predict(X_test)\n",
        "    scores.append(accuracy_score(y_test, y_pred))\n",
        "    names.append(name)\n",
        "\n",
        "tr_split = pd.DataFrame({'Name': names, 'Score': scores}) \n",
        "print(tr_split)\n",
        "\n",
        "del(y_pred)"
      ],
      "execution_count": null,
      "outputs": [
        {
          "output_type": "stream",
          "text": [
            "KNN\n"
          ],
          "name": "stdout"
        },
        {
          "output_type": "stream",
          "text": [
            "/usr/local/lib/python3.6/dist-packages/ipykernel_launcher.py:18: DataConversionWarning: A column-vector y was passed when a 1d array was expected. Please change the shape of y to (n_samples, ), for example using ravel().\n"
          ],
          "name": "stderr"
        },
        {
          "output_type": "stream",
          "text": [
            "DT\n",
            "RF\n"
          ],
          "name": "stdout"
        },
        {
          "output_type": "stream",
          "text": [
            "/usr/local/lib/python3.6/dist-packages/ipykernel_launcher.py:18: DataConversionWarning: A column-vector y was passed when a 1d array was expected. Please change the shape of y to (n_samples,), for example using ravel().\n"
          ],
          "name": "stderr"
        },
        {
          "output_type": "stream",
          "text": [
            "LightGBM\n"
          ],
          "name": "stdout"
        },
        {
          "output_type": "stream",
          "text": [
            "/usr/local/lib/python3.6/dist-packages/sklearn/preprocessing/_label.py:235: DataConversionWarning: A column-vector y was passed when a 1d array was expected. Please change the shape of y to (n_samples, ), for example using ravel().\n",
            "  y = column_or_1d(y, warn=True)\n",
            "/usr/local/lib/python3.6/dist-packages/sklearn/preprocessing/_label.py:268: DataConversionWarning: A column-vector y was passed when a 1d array was expected. Please change the shape of y to (n_samples, ), for example using ravel().\n",
            "  y = column_or_1d(y, warn=True)\n"
          ],
          "name": "stderr"
        },
        {
          "output_type": "stream",
          "text": [
            "LR\n"
          ],
          "name": "stdout"
        },
        {
          "output_type": "stream",
          "text": [
            "/usr/local/lib/python3.6/dist-packages/sklearn/utils/validation.py:760: DataConversionWarning: A column-vector y was passed when a 1d array was expected. Please change the shape of y to (n_samples, ), for example using ravel().\n",
            "  y = column_or_1d(y, warn=True)\n",
            "/usr/local/lib/python3.6/dist-packages/sklearn/linear_model/_logistic.py:940: ConvergenceWarning: lbfgs failed to converge (status=1):\n",
            "STOP: TOTAL NO. of ITERATIONS REACHED LIMIT.\n",
            "\n",
            "Increase the number of iterations (max_iter) or scale the data as shown in:\n",
            "    https://scikit-learn.org/stable/modules/preprocessing.html\n",
            "Please also refer to the documentation for alternative solver options:\n",
            "    https://scikit-learn.org/stable/modules/linear_model.html#logistic-regression\n",
            "  extra_warning_msg=_LOGISTIC_SOLVER_CONVERGENCE_MSG)\n",
            "/usr/local/lib/python3.6/dist-packages/sklearn/utils/validation.py:760: DataConversionWarning: A column-vector y was passed when a 1d array was expected. Please change the shape of y to (n_samples, ), for example using ravel().\n",
            "  y = column_or_1d(y, warn=True)\n"
          ],
          "name": "stderr"
        },
        {
          "output_type": "stream",
          "text": [
            "SVC\n",
            "       Name     Score\n",
            "0       KNN  0.972550\n",
            "1        DT  0.985484\n",
            "2        RF  0.996263\n",
            "3  LightGBM  0.996263\n",
            "4        LR  0.695458\n",
            "5       SVC  0.970825\n"
          ],
          "name": "stdout"
        }
      ]
    },
    {
      "cell_type": "markdown",
      "metadata": {
        "id": "5BURkHxIbxay"
      },
      "source": [
        "After using SMOTE, approximately half the data has label 0, and half has label -1. Therefore predicting the results at random, we would expect a score of 0.5. These initial scores of 0.98+ are already quite high."
      ]
    },
    {
      "cell_type": "markdown",
      "metadata": {
        "id": "fYJpwMFhjcCy"
      },
      "source": [
        "### Model tuning"
      ]
    },
    {
      "cell_type": "markdown",
      "metadata": {
        "id": "lHep4F-DmToV"
      },
      "source": [
        "The results from our initial modelling suggest that the attributes can be used effectively to predict the labels, and the most accurate results from these initial models were **Random Forest** and **LightGBM**.\n",
        "\n",
        "We now develop the models further."
      ]
    },
    {
      "cell_type": "markdown",
      "metadata": {
        "id": "rXnz4ThFfFkl"
      },
      "source": [
        "#### K Nearest Neighbours (KNN)"
      ]
    },
    {
      "cell_type": "markdown",
      "metadata": {
        "id": "k8Girt-NeYr0"
      },
      "source": [
        "We begin with K Nearest Neighbours. This model uses a distance measure between records, and classifies a given record according to the most common label in its k nearest neighbours. For example, if k = 3 and the 3 nearest neighbours are Y, Y and N, the record will be predicted label Y."
      ]
    },
    {
      "cell_type": "code",
      "metadata": {
        "id": "A35g0GxLX7__",
        "colab": {
          "base_uri": "https://localhost:8080/",
          "height": 1000
        },
        "outputId": "329da89f-04d7-480a-c9b2-e8350d05e60c"
      },
      "source": [
        "# Try KNN in range k = 1-12\n",
        "for n in range(1, 12):\n",
        "    knn = KNeighborsClassifier(n_neighbors = n)\n",
        "    \n",
        "    knn.fit(X_train, y_train)\n",
        "    \n",
        "    print(\"n = \", n)\n",
        "    print('Train and test scores:')\n",
        "    print(knn.score(X_train, y_train))\n",
        "    print(knn.score(X_test , y_test ))\n",
        "    print()"
      ],
      "execution_count": null,
      "outputs": [
        {
          "output_type": "stream",
          "text": [
            "/usr/local/lib/python3.6/dist-packages/ipykernel_launcher.py:4: DataConversionWarning: A column-vector y was passed when a 1d array was expected. Please change the shape of y to (n_samples, ), for example using ravel().\n",
            "  after removing the cwd from sys.path.\n"
          ],
          "name": "stderr"
        },
        {
          "output_type": "stream",
          "text": [
            "n =  1\n",
            "Train and test scores:\n",
            "0.9978799856270212\n",
            "0.9877838459327393\n",
            "\n"
          ],
          "name": "stdout"
        },
        {
          "output_type": "stream",
          "text": [
            "/usr/local/lib/python3.6/dist-packages/ipykernel_launcher.py:4: DataConversionWarning: A column-vector y was passed when a 1d array was expected. Please change the shape of y to (n_samples, ), for example using ravel().\n",
            "  after removing the cwd from sys.path.\n"
          ],
          "name": "stderr"
        },
        {
          "output_type": "stream",
          "text": [
            "n =  2\n",
            "Train and test scores:\n",
            "0.9912324829320877\n",
            "0.9798792756539235\n",
            "\n"
          ],
          "name": "stdout"
        },
        {
          "output_type": "stream",
          "text": [
            "/usr/local/lib/python3.6/dist-packages/ipykernel_launcher.py:4: DataConversionWarning: A column-vector y was passed when a 1d array was expected. Please change the shape of y to (n_samples, ), for example using ravel().\n",
            "  after removing the cwd from sys.path.\n"
          ],
          "name": "stderr"
        },
        {
          "output_type": "stream",
          "text": [
            "n =  3\n",
            "Train and test scores:\n",
            "0.9913402802730866\n",
            "0.9800229951135384\n",
            "\n"
          ],
          "name": "stdout"
        },
        {
          "output_type": "stream",
          "text": [
            "/usr/local/lib/python3.6/dist-packages/ipykernel_launcher.py:4: DataConversionWarning: A column-vector y was passed when a 1d array was expected. Please change the shape of y to (n_samples, ), for example using ravel().\n",
            "  after removing the cwd from sys.path.\n"
          ],
          "name": "stderr"
        },
        {
          "output_type": "stream",
          "text": [
            "n =  4\n",
            "Train and test scores:\n",
            "0.982500898311175\n",
            "0.9712561080770337\n",
            "\n"
          ],
          "name": "stdout"
        },
        {
          "output_type": "stream",
          "text": [
            "/usr/local/lib/python3.6/dist-packages/ipykernel_launcher.py:4: DataConversionWarning: A column-vector y was passed when a 1d array was expected. Please change the shape of y to (n_samples, ), for example using ravel().\n",
            "  after removing the cwd from sys.path.\n"
          ],
          "name": "stderr"
        },
        {
          "output_type": "stream",
          "text": [
            "n =  5\n",
            "Train and test scores:\n",
            "0.9828961552281711\n",
            "0.9724058637539523\n",
            "\n"
          ],
          "name": "stdout"
        },
        {
          "output_type": "stream",
          "text": [
            "/usr/local/lib/python3.6/dist-packages/ipykernel_launcher.py:4: DataConversionWarning: A column-vector y was passed when a 1d array was expected. Please change the shape of y to (n_samples, ), for example using ravel().\n",
            "  after removing the cwd from sys.path.\n"
          ],
          "name": "stderr"
        },
        {
          "output_type": "stream",
          "text": [
            "n =  6\n",
            "Train and test scores:\n",
            "0.9725116780452748\n",
            "0.962345501580914\n",
            "\n"
          ],
          "name": "stdout"
        },
        {
          "output_type": "stream",
          "text": [
            "/usr/local/lib/python3.6/dist-packages/ipykernel_launcher.py:4: DataConversionWarning: A column-vector y was passed when a 1d array was expected. Please change the shape of y to (n_samples, ), for example using ravel().\n",
            "  after removing the cwd from sys.path.\n"
          ],
          "name": "stderr"
        },
        {
          "output_type": "stream",
          "text": [
            "n =  7\n",
            "Train and test scores:\n",
            "0.9735896514552641\n",
            "0.9637826961770624\n",
            "\n"
          ],
          "name": "stdout"
        },
        {
          "output_type": "stream",
          "text": [
            "/usr/local/lib/python3.6/dist-packages/ipykernel_launcher.py:4: DataConversionWarning: A column-vector y was passed when a 1d array was expected. Please change the shape of y to (n_samples, ), for example using ravel().\n",
            "  after removing the cwd from sys.path.\n"
          ],
          "name": "stderr"
        },
        {
          "output_type": "stream",
          "text": [
            "n =  8\n",
            "Train and test scores:\n",
            "0.9658641753503413\n",
            "0.9561655648174763\n",
            "\n"
          ],
          "name": "stdout"
        },
        {
          "output_type": "stream",
          "text": [
            "/usr/local/lib/python3.6/dist-packages/ipykernel_launcher.py:4: DataConversionWarning: A column-vector y was passed when a 1d array was expected. Please change the shape of y to (n_samples, ), for example using ravel().\n",
            "  after removing the cwd from sys.path.\n"
          ],
          "name": "stderr"
        },
        {
          "output_type": "stream",
          "text": [
            "n =  9\n",
            "Train and test scores:\n",
            "0.9675170679123248\n",
            "0.958033917792469\n",
            "\n"
          ],
          "name": "stdout"
        },
        {
          "output_type": "stream",
          "text": [
            "/usr/local/lib/python3.6/dist-packages/ipykernel_launcher.py:4: DataConversionWarning: A column-vector y was passed when a 1d array was expected. Please change the shape of y to (n_samples, ), for example using ravel().\n",
            "  after removing the cwd from sys.path.\n"
          ],
          "name": "stderr"
        },
        {
          "output_type": "stream",
          "text": [
            "n =  10\n",
            "Train and test scores:\n",
            "0.9568451311534315\n",
            "0.9488358723771199\n",
            "\n"
          ],
          "name": "stdout"
        },
        {
          "output_type": "stream",
          "text": [
            "/usr/local/lib/python3.6/dist-packages/ipykernel_launcher.py:4: DataConversionWarning: A column-vector y was passed when a 1d array was expected. Please change the shape of y to (n_samples, ), for example using ravel().\n",
            "  after removing the cwd from sys.path.\n"
          ],
          "name": "stderr"
        },
        {
          "output_type": "stream",
          "text": [
            "n =  11\n",
            "Train and test scores:\n",
            "0.9584261588214157\n",
            "0.9511353837309572\n",
            "\n"
          ],
          "name": "stdout"
        }
      ]
    },
    {
      "cell_type": "markdown",
      "metadata": {
        "id": "ibkby9e8z-Gn"
      },
      "source": [
        "The accuracy peaks immediately when n = 1, and then gets progressively less accurate.\n",
        "\n"
      ]
    },
    {
      "cell_type": "code",
      "metadata": {
        "id": "4CjNPH_H7iGd"
      },
      "source": [
        "# Fit the 1 neighbour model\n",
        "knn = KNeighborsClassifier(n_neighbors = 1)\n",
        "knn.fit(X_train, y_train)\n",
        "y_pred = knn.predict(X_test)\n",
        "\n",
        "# Find confusion matrix and accuracy metrics\n",
        "con_mat = cm(y_test, y_pred, [-1, 0])\n",
        "total_accuracy = (con_mat[-1, -1] + con_mat[0,0]) / float(np.sum(con_mat))\n",
        "class1_accuracy = (con_mat[-1, -1] / float(np.sum(con_mat[-1, :])))\n",
        "class2_accuracy = (con_mat[0,0] / float(np.sum(con_mat[0, :])))\n",
        "\n",
        "# Print metrics\n",
        "print(con_mat)\n",
        "print('Total accuracy: %.3f'  % total_accuracy )\n",
        "print('-1 accuracy: %.3f'     % class1_accuracy)\n",
        "print(' 0 accuracy: %.3f'     % class2_accuracy)"
      ],
      "execution_count": null,
      "outputs": []
    },
    {
      "cell_type": "markdown",
      "metadata": {
        "id": "Z645jD7RBlcP"
      },
      "source": [
        "The confusion matrix confirms that in almost all cases, the predictions were correct.\n",
        "\n",
        "This result might be because we used SMOTE to synthetically generate records similar to the existing N category, so for the N group the nearest neighbour will very often be a synethically generated data point, also of class N.\n",
        "\n",
        "Another method to choose the hyperparameters, such as the value of k, is to use Grid Search Cross Validation, testing the models on out-of-sample data, and only comparing to the testing set at the end for a final validation. This also indicates the most accurate performance when k=1."
      ]
    },
    {
      "cell_type": "code",
      "metadata": {
        "id": "TdE8M6FuEGDA",
        "colab": {
          "base_uri": "https://localhost:8080/",
          "height": 106
        },
        "outputId": "bb39dc29-743f-46dd-c82e-81d959ffa9fb"
      },
      "source": [
        "# KNN with GridSearchCV\n",
        "knn = KNeighborsClassifier()\n",
        "\n",
        "knn_grid = {'n_neighbors': np.arange(1, 25)}\n",
        "knn_gscv = GridSearchCV(knn, knn_grid, cv=5, n_jobs=4)\n",
        "knn_gscv.fit(X_train, y_train)\n",
        "\n",
        "print(knn_gscv.best_params_)\n",
        "\n",
        "# Compare predictions to test set\n",
        "knn_pred = knn_gscv.predict(X_test)\n",
        "knn_pred_score = accuracy_score(y_test, knn_pred)\n",
        "\n",
        "print('accuracy score with tuned hyperparameters:', knn_pred_score)"
      ],
      "execution_count": null,
      "outputs": [
        {
          "output_type": "stream",
          "text": [
            "/usr/local/lib/python3.6/dist-packages/sklearn/model_selection/_search.py:739: DataConversionWarning: A column-vector y was passed when a 1d array was expected. Please change the shape of y to (n_samples, ), for example using ravel().\n",
            "  self.best_estimator_.fit(X, y, **fit_params)\n"
          ],
          "name": "stderr"
        },
        {
          "output_type": "stream",
          "text": [
            "{'n_neighbors': 1}\n",
            "accuracy score with tuned hyperparameters: 0.9877838459327393\n"
          ],
          "name": "stdout"
        }
      ]
    },
    {
      "cell_type": "markdown",
      "metadata": {
        "id": "GZRvZjzBeWLR"
      },
      "source": [
        "####Mutual information"
      ]
    },
    {
      "cell_type": "markdown",
      "metadata": {
        "id": "Kv9RYm6fA6i2"
      },
      "source": [
        "We now use **mutual information** to do further **feature selection**.\n",
        "\n",
        "mutual information between two random variables measures the dependency between the variables. It is equal to zero if and only if two random variables are independent, and higher values mean higher dependency."
      ]
    },
    {
      "cell_type": "code",
      "metadata": {
        "id": "GktTG3qYEP8p",
        "colab": {
          "base_uri": "https://localhost:8080/",
          "height": 105
        },
        "outputId": "c04d6c65-9345-49a4-d248-714e8bf6abff"
      },
      "source": [
        "X_features = X_train.columns.values\n",
        "\n",
        "## use SelectKBest (mutual information)\n",
        "mutual_info = SelectKBest(score_func=mutual_info_classif, k='all')\n",
        "mutual_info.fit(X_train, y_train)\n",
        "\t\n",
        "print(\"Features sorted by their score:\")\n",
        "print(sorted(zip(map(lambda X: round(X, 4), \n",
        "                     mutual_info.scores_), X_features), \n",
        "             reverse=True))\n",
        "\n",
        "mutual_info_rankinglist = mutual_info.scores_.tolist()\n",
        "mi_selected_cols = [n for im, n in enumerate(X_features) if mutual_info_rankinglist[im]!=0]"
      ],
      "execution_count": null,
      "outputs": [
        {
          "output_type": "stream",
          "text": [
            "/usr/local/lib/python3.6/dist-packages/sklearn/utils/validation.py:760: DataConversionWarning: A column-vector y was passed when a 1d array was expected. Please change the shape of y to (n_samples, ), for example using ravel().\n",
            "  y = column_or_1d(y, warn=True)\n"
          ],
          "name": "stderr"
        },
        {
          "output_type": "stream",
          "text": [
            "Features sorted by their score:\n",
            "[(0.3781, 'AMT_INCOME_TOTAL'), (0.3247, 'CH_LENGTH'), (0.273, 'CH_SCORE'), (0.258, 'DAYS_BIRTH'), (0.1051, 'NAME_EDUCATION_TYPE'), (0.0815, 'FLAG_OWN_REALTY'), (0.0813, 'FLAG_OWN_CAR'), (0.0784, 'CODE_FEMALE'), (0.0767, 'CNT_FAM_MEMBERS'), (0.0607, 'NAME_INCOME_TYPE_Working'), (0.0606, 'FLAG_PHONE'), (0.0531, 'NAME_INCOME_TYPE_Commercial_associate'), (0.052, 'CNT_CHILDREN'), (0.0499, 'OCCUPATION_TYPE_Laborers'), (0.0421, 'NAME_FAMILY_STATUS_Married'), (0.0419, 'OCCUPATION_TYPE_Core_staff'), (0.0395, 'NAME_FAMILY_STATUS_Civil_marriage'), (0.038, 'NAME_HOUSING_TYPE_House_or_apartment'), (0.0365, 'OCCUPATION_TYPE_No_occupation_info'), (0.0355, 'NAME_FAMILY_STATUS_Single_or_not_married'), (0.0354, 'OCCUPATION_TYPE_Drivers'), (0.0339, 'OCCUPATION_TYPE_Sales_staff'), (0.0309, 'OCCUPATION_TYPE_Managers'), (0.0226, 'NAME_INCOME_TYPE_Pensioner'), (0.0197, 'NAME_FAMILY_STATUS_Separated'), (0.0182, 'NAME_HOUSING_TYPE_Municipal_apartment'), (0.018, 'OCCUPATION_TYPE_Accountants'), (0.018, 'FLAG_EMAIL'), (0.0167, 'OCCUPATION_TYPE_Medicine_staff'), (0.0165, 'NAME_HOUSING_TYPE_With_parents'), (0.0149, 'OCCUPATION_TYPE_High_skill_tech_staff'), (0.0114, 'OCCUPATION_TYPE_Cooking_staff'), (0.0105, 'OCCUPATION_TYPE_Security_staff'), (0.009, 'NAME_HOUSING_TYPE_Rented_apartment'), (0.0081, 'OCCUPATION_TYPE_Cleaning_staff'), (0.0061, 'OCCUPATION_TYPE_Waitersorbarmen_staff'), (0.0047, 'OCCUPATION_TYPE_IT_staff'), (0.0045, 'OCCUPATION_TYPE_Low-skill_Laborers'), (0.0035, 'OCCUPATION_TYPE_Secretaries'), (0.0033, 'OCCUPATION_TYPE_Private_service_staff'), (0.0026, 'NAME_HOUSING_TYPE_Office_apartment'), (0.0025, 'OCCUPATION_TYPE_HR_staff'), (0.0, 'NAME_INCOME_TYPE_Student')]\n"
          ],
          "name": "stdout"
        }
      ]
    },
    {
      "cell_type": "code",
      "metadata": {
        "id": "xabWHerZcdx-",
        "colab": {
          "base_uri": "https://localhost:8080/",
          "height": 105
        },
        "outputId": "a5a77ff3-7daa-4fcc-bcf3-8f26913dd4ef"
      },
      "source": [
        "knn_gscv.fit(X_train[mi_selected_cols], y_train)\n",
        "\n",
        "print(knn_gscv.best_params_)\n",
        "\n",
        "knn2_pred = knn_gscv.predict(X_test[mi_selected_cols])\n",
        "knn2_pred_score = accuracy_score(y_test, knn2_pred)\n",
        "\n",
        "print('accuracy score with tuned hyperparameters & further features selection:', knn2_pred_score)"
      ],
      "execution_count": null,
      "outputs": [
        {
          "output_type": "stream",
          "text": [
            "/usr/local/lib/python3.6/dist-packages/sklearn/model_selection/_search.py:739: DataConversionWarning: A column-vector y was passed when a 1d array was expected. Please change the shape of y to (n_samples, ), for example using ravel().\n",
            "  self.best_estimator_.fit(X, y, **fit_params)\n"
          ],
          "name": "stderr"
        },
        {
          "output_type": "stream",
          "text": [
            "{'n_neighbors': 1}\n",
            "accuracy score with tuned hyperparameters & feature selection: 0.9895084794481173\n"
          ],
          "name": "stdout"
        }
      ]
    },
    {
      "cell_type": "markdown",
      "metadata": {
        "id": "IH6JLQ97fSf9"
      },
      "source": [
        "#### Logistic Regression\n"
      ]
    },
    {
      "cell_type": "markdown",
      "metadata": {
        "id": "wmnaCuPhAOV8"
      },
      "source": [
        "Based on the initial modelling, logistic regression had the lowest predication accuracy score. We see if the score can be improved in its prediction power through model tuning.\n",
        "\n",
        "We introduce a regularisation term here using two hyperparameters: 'penalty' and 'C'.\n",
        "\n",
        "* The default penalty is l2 - Ridge Regression. Here we ask the model to choose between Ridge (l2) and Lasso (l1) regressions. Ridge adds the \"squared magnitude\" of the coefficient as the penalty term to the loss function, while Lasso adds \"absolute value of magnitude\" of the coefficient as the penalty term to the loss function. Both can help prevent overfitting but apply different penalty weightings to different levels of error.\n",
        "\n",
        "* 'C' specifies the degree of regularisation – smaller values indicate stronger regularisation."
      ]
    },
    {
      "cell_type": "code",
      "metadata": {
        "id": "VHRVSFvxgD72",
        "colab": {
          "base_uri": "https://localhost:8080/",
          "height": 105
        },
        "outputId": "0e754ab7-edb8-4a64-ce45-2a03aae50237"
      },
      "source": [
        "log_reg = LogisticRegression()   \n",
        "\n",
        "logit_grid = {'penalty': ['l1', 'l2'], 'C':[0.001,.009,0.01,.09,1,5,10,25]}\n",
        "\n",
        "logit_gscv = GridSearchCV(log_reg, logit_grid, cv=5, n_jobs=4)\n",
        "\n",
        "logit_gscv.fit(X_train, y_train)\n",
        "\n",
        "print('the hyperparameters selected for logistic regression:', logit_gscv.best_params_)\n",
        "\n",
        "logit_pred = logit_gscv.predict(X_test)\n",
        "logit_pred_score = accuracy_score(y_test, logit_pred)\n",
        "\n",
        "print('accuracy score with tuned hyperparameters:', logit_pred_score)"
      ],
      "execution_count": null,
      "outputs": [
        {
          "output_type": "stream",
          "text": [
            "/usr/local/lib/python3.6/dist-packages/sklearn/utils/validation.py:760: DataConversionWarning: A column-vector y was passed when a 1d array was expected. Please change the shape of y to (n_samples, ), for example using ravel().\n",
            "  y = column_or_1d(y, warn=True)\n"
          ],
          "name": "stderr"
        },
        {
          "output_type": "stream",
          "text": [
            "the hyperparameters selected for logistic regression: {'C': 0.09, 'penalty': 'l2'}\n",
            "accuracy score with tuned hyperparameters: 0.6979016958896235\n"
          ],
          "name": "stdout"
        }
      ]
    },
    {
      "cell_type": "markdown",
      "metadata": {
        "id": "GNqyYxjog1-Q"
      },
      "source": [
        "The hyperparameters chosen through training are **Ridge** as the penalty term with a relatively smaller **C - 0.09**.\n",
        "\n",
        "However, the accuracy score has not been improved much from the initial modelling (0.695 compared to 0.698).\n",
        "\n",
        "As Lasso shrinks the less important features' coefficients to zero, it can help with features selection. As the model recommonded here is a Ridge model, below we apply the tuned model with the further selected features based on mutual information."
      ]
    },
    {
      "cell_type": "code",
      "metadata": {
        "id": "5tSl5h1J_1-o",
        "colab": {
          "base_uri": "https://localhost:8080/",
          "height": 105
        },
        "outputId": "fb955d50-2e2c-4c26-89d8-e830a569643d"
      },
      "source": [
        "# Apply the tuned model with the further selected features based on \n",
        "# mutual information to see if the predication score can be improved further\n",
        "\n",
        "logit_gscv.fit(X_train[mi_selected_cols], y_train)\n",
        "\n",
        "print(logit_gscv.best_params_)\n",
        "\n",
        "logit3_pred = logit_gscv.predict(X_test[mi_selected_cols])\n",
        "logit3_pred_score = accuracy_score(y_test, logit3_pred)\n",
        "\n",
        "print('accuracy score with tuned hyperparameters & further features selection:', logit3_pred_score)"
      ],
      "execution_count": null,
      "outputs": [
        {
          "output_type": "stream",
          "text": [
            "/usr/local/lib/python3.6/dist-packages/sklearn/utils/validation.py:760: DataConversionWarning: A column-vector y was passed when a 1d array was expected. Please change the shape of y to (n_samples, ), for example using ravel().\n",
            "  y = column_or_1d(y, warn=True)\n"
          ],
          "name": "stderr"
        },
        {
          "output_type": "stream",
          "text": [
            "{'C': 0.09, 'penalty': 'l2'}\n",
            "accuracy score with tuned hyperparameters & feature selection: 0.6994826099453866\n"
          ],
          "name": "stdout"
        }
      ]
    },
    {
      "cell_type": "markdown",
      "metadata": {
        "id": "kIUJ_188igbV"
      },
      "source": [
        "The accuracy score has increased slightly from the previous logistic models, but is still not enough to challenge the other machine learning approaches."
      ]
    },
    {
      "cell_type": "markdown",
      "metadata": {
        "id": "sWrPswHffTZd"
      },
      "source": [
        "#### Support Vector Classifier\n"
      ]
    },
    {
      "cell_type": "markdown",
      "metadata": {
        "id": "7xxOkpS2f0Jw"
      },
      "source": [
        "A Support Vector Classifier tries to find the best hyperplane to separate the different classes by maximising the distance between training data points and the hyperplane.\n",
        "\n",
        "* 'Kernel' selects the type of hyperplane used to separate the data. We use the default type 'rbf' here, which is a non-linear hyperplane.\n",
        "* 'Gamma' is a parameter for non-linear hyperplanes. The higher the gamma value, the more it tries to exactly fit the training data set, which could potentially cause overfitting.\n",
        "* 'C' here is the regularisation parameter. \n",
        "\n"
      ]
    },
    {
      "cell_type": "code",
      "metadata": {
        "id": "ropS-RR_gF6m",
        "colab": {
          "base_uri": "https://localhost:8080/",
          "height": 105
        },
        "outputId": "b18f803c-4f3c-4e5a-9361-35ef9f26493e"
      },
      "source": [
        "# Support Vector Classifer model\n",
        "svc = SVC()\n",
        "\n",
        "svc_grid = {'kernel': ['rbf'], \n",
        "            'gamma': ['scale', 0.1, 1, 10], 'C': [0.1, 1, 10, 20]}\n",
        "\n",
        "svc_gscv = GridSearchCV(svc, svc_grid, cv=5, n_jobs=4)\n",
        "\n",
        "svc_gscv.fit(X_train, y_train)\n",
        "\n",
        "print('the hyperparameters selected for SVC:', svc_gscv.best_params_)\n",
        "\n",
        "svc_pred = svc_gscv.predict(X_test)\n",
        "svc_pred_score = accuracy_score(y_test, svc_pred)\n",
        "\n",
        "print('accuracy_score with tuned hyperparameters:', svc_pred_score)"
      ],
      "execution_count": null,
      "outputs": [
        {
          "output_type": "stream",
          "text": [
            "/usr/local/lib/python3.6/dist-packages/sklearn/utils/validation.py:760: DataConversionWarning: A column-vector y was passed when a 1d array was expected. Please change the shape of y to (n_samples, ), for example using ravel().\n",
            "  y = column_or_1d(y, warn=True)\n"
          ],
          "name": "stderr"
        },
        {
          "output_type": "stream",
          "text": [
            "{'C': 20, 'gamma': 1, 'kernel': 'rbf'}\n",
            "accuracy_score with tuned hyperparameters: 0.9932451853981029\n"
          ],
          "name": "stdout"
        }
      ]
    },
    {
      "cell_type": "markdown",
      "metadata": {
        "id": "0me_WEQNhw3M"
      },
      "source": [
        "With SVMs, C helps with feature selection. The smaller C, the fewer features selected.\n",
        "\n",
        "Here, the tuned model comes with 20 as 'C' and 1 as 'gamma', with a high accuracy score."
      ]
    },
    {
      "cell_type": "markdown",
      "metadata": {
        "id": "Zb1_VsOUfh3c"
      },
      "source": [
        "#### Decision Tree\n"
      ]
    },
    {
      "cell_type": "markdown",
      "metadata": {
        "id": "n14U6ve2Q7de"
      },
      "source": [
        "Decision trees are relatively easy to understand and interpret, as the process from an input to output is **open/white box**: a series of questions in the nodes, each concerning a single attribute, leading to the target value in the leaves. Because our target variable 'LABEL' is discrete rather than continuous, in this case the model is a **classification tree**, as opposed to a regression tree which would have a continuous output.\n",
        "\n",
        "Decision trees do not require data scaling, or even dummy variables. However we continue to use the same dataset for consistency with the other models."
      ]
    },
    {
      "cell_type": "markdown",
      "metadata": {
        "id": "fY-sXEl-s-iX"
      },
      "source": [
        "There are two measures the decision tree can use, to decide how to split **internal nodes** (decision points): entropy, and the gini index. The gini index is the default. We compare the two using a decision tree of maximum depth 4 and a minimum of 5% of data points required to split a node."
      ]
    },
    {
      "cell_type": "code",
      "metadata": {
        "id": "ptHTuN1LsBcY",
        "colab": {
          "base_uri": "https://localhost:8080/",
          "height": 121
        },
        "outputId": "9948bdea-97c6-4701-f9c2-e2cf66a5f4fd"
      },
      "source": [
        "# Instantiate dt_entropy and dt_gini\n",
        "dt_entropy = DecisionTreeClassifier(max_depth = 4, criterion='entropy', \n",
        "                                    random_state = 1, min_samples_split = 0.05)\n",
        "dt_gini    = DecisionTreeClassifier(max_depth = 4, criterion='gini'   , \n",
        "                                    random_state = 1, min_samples_split = 0.05)\n",
        "\n",
        "# Fit the models to the training set\n",
        "dt_entropy.fit(X_train, y_train)\n",
        "dt_gini.fit(   X_train, y_train)"
      ],
      "execution_count": null,
      "outputs": [
        {
          "output_type": "execute_result",
          "data": {
            "text/plain": [
              "DecisionTreeClassifier(ccp_alpha=0.0, class_weight=None, criterion='gini',\n",
              "                       max_depth=4, max_features=None, max_leaf_nodes=None,\n",
              "                       min_impurity_decrease=0.0, min_impurity_split=None,\n",
              "                       min_samples_leaf=1, min_samples_split=0.05,\n",
              "                       min_weight_fraction_leaf=0.0, presort='deprecated',\n",
              "                       random_state=1, splitter='best')"
            ]
          },
          "metadata": {
            "tags": []
          },
          "execution_count": 9
        }
      ]
    },
    {
      "cell_type": "code",
      "metadata": {
        "id": "9NWU1q0QXeQ2",
        "colab": {
          "base_uri": "https://localhost:8080/",
          "height": 52
        },
        "outputId": "293189a0-6cdd-4f8a-a7aa-aa08b6fbecc6"
      },
      "source": [
        "# Predict test set labels\n",
        "y_pred_entropy = dt_entropy.predict(X_test)\n",
        "y_pred_gini    = dt_gini.predict(   X_test)\n",
        "\n",
        "# Evaluate accuracies\n",
        "accuracy_entropy = accuracy_score(y_test, y_pred_entropy)\n",
        "accuracy_gini    = accuracy_score(y_test, y_pred_gini   )\n",
        "\n",
        "# Print accuracies\n",
        "print('Accuracy achieved by using entropy: ', accuracy_entropy)\n",
        "print('Accuracy achieved by using gini: '   , accuracy_gini   )"
      ],
      "execution_count": null,
      "outputs": [
        {
          "output_type": "stream",
          "text": [
            "Accuracy achieved by using entropy:  0.6806553607358437\n",
            "Accuracy achieved by using gini:  0.7342627191721759\n"
          ],
          "name": "stdout"
        }
      ]
    },
    {
      "cell_type": "markdown",
      "metadata": {
        "id": "XTMljovQtMaY"
      },
      "source": [
        "The gini index results in significantly higher accuracy.\n",
        "\n",
        "We kept the depth at 4, quite low, to be able to easily interpret and visualise the tree – one of the advantages of a single decision tree model."
      ]
    },
    {
      "cell_type": "code",
      "metadata": {
        "id": "8O1b4zBElHl7",
        "colab": {
          "base_uri": "https://localhost:8080/",
          "height": 625
        },
        "outputId": "8220ca55-93fe-44e5-8dc4-20e0fa600f9c"
      },
      "source": [
        "# Visualise decision tree\n",
        "text_representation = tree.export_text(dt_gini,\n",
        "                                       feature_names = x_balanced.columns.values.tolist())\n",
        "print(text_representation)"
      ],
      "execution_count": null,
      "outputs": [
        {
          "output_type": "stream",
          "text": [
            "|--- CH_SCORE <= 0.69\n",
            "|   |--- CH_LENGTH <= -0.17\n",
            "|   |   |--- OCCUPATION_TYPE_Core_staff <= 0.00\n",
            "|   |   |   |--- FLAG_OWN_REALTY <= -0.00\n",
            "|   |   |   |   |--- class: -1\n",
            "|   |   |   |--- FLAG_OWN_REALTY >  -0.00\n",
            "|   |   |   |   |--- class: 0\n",
            "|   |   |--- OCCUPATION_TYPE_Core_staff >  0.00\n",
            "|   |   |   |--- OCCUPATION_TYPE_Core_staff <= 1.00\n",
            "|   |   |   |   |--- class: -1\n",
            "|   |   |   |--- OCCUPATION_TYPE_Core_staff >  1.00\n",
            "|   |   |   |   |--- class: -1\n",
            "|   |--- CH_LENGTH >  -0.17\n",
            "|   |   |--- CH_SCORE <= -0.10\n",
            "|   |   |   |--- CH_SCORE <= -1.49\n",
            "|   |   |   |   |--- class: 0\n",
            "|   |   |   |--- CH_SCORE >  -1.49\n",
            "|   |   |   |   |--- class: -1\n",
            "|   |   |--- CH_SCORE >  -0.10\n",
            "|   |   |   |--- FLAG_OWN_CAR <= 1.00\n",
            "|   |   |   |   |--- class: -1\n",
            "|   |   |   |--- FLAG_OWN_CAR >  1.00\n",
            "|   |   |   |   |--- class: 0\n",
            "|--- CH_SCORE >  0.69\n",
            "|   |--- OCCUPATION_TYPE_Core_staff <= 0.00\n",
            "|   |   |--- OCCUPATION_TYPE_High_skill_tech_staff <= 0.03\n",
            "|   |   |   |--- OCCUPATION_TYPE_Cooking_staff <= 0.01\n",
            "|   |   |   |   |--- class: 0\n",
            "|   |   |   |--- OCCUPATION_TYPE_Cooking_staff >  0.01\n",
            "|   |   |   |   |--- class: 0\n",
            "|   |   |--- OCCUPATION_TYPE_High_skill_tech_staff >  0.03\n",
            "|   |   |   |--- class: 0\n",
            "|   |--- OCCUPATION_TYPE_Core_staff >  0.00\n",
            "|   |   |--- class: -1\n",
            "\n"
          ],
          "name": "stdout"
        }
      ]
    },
    {
      "cell_type": "markdown",
      "metadata": {
        "id": "V2PxljhDnxaS"
      },
      "source": [
        "The diagram above is a visualisation of the 4-level decision tree so that we can inspect how it works.\n",
        "\n",
        "The decision tree begins by examining CH_SCORE, credit history. For individuals with a low credit score it then examines the length of their credit history – perhaps to distinguish individuals with a history of bad debt from individuals who simply have little data. For individuals with a high credit score, it moves straight to looking at occupation."
      ]
    },
    {
      "cell_type": "markdown",
      "metadata": {
        "id": "IVnfYiUh04oj"
      },
      "source": [
        "We now introduce an ensemble method: **bootstrap aggregation**, often shortened to **bagging**. This involves using one algorithm, trained many times on different subsets of the training set, then **voting** on the best label. This reduces **variance**: the type of error caused by **overfitting**, when a model follows the training set too closely, reflecting noise rather than signal."
      ]
    },
    {
      "cell_type": "code",
      "metadata": {
        "id": "hRuRQjdaxEV1",
        "colab": {
          "base_uri": "https://localhost:8080/",
          "height": 89
        },
        "outputId": "eababdfa-59d7-436a-a567-9464a6f8b9b7"
      },
      "source": [
        "# Bagging\n",
        "dt = DecisionTreeClassifier(max_depth = 4, criterion = 'gini', random_state = 1)\n",
        "\n",
        "bc = BaggingClassifier(base_estimator = dt, \n",
        "                       n_estimators = 50,\n",
        "                       oob_score = True,\n",
        "                       random_state = 1)\n",
        "\n",
        "bc.fit(X_train, y_train)\n",
        "\n",
        "y_pred = bc.predict(X_test)\n",
        "\n",
        "acc_test = accuracy_score(y_test, y_pred)\n",
        "\n",
        "acc_oob = bc.oob_score_\n",
        "\n",
        "print('Test set accuracy: {:.3f}, OOB accuracy: {:.3f}'.format(acc_test, acc_oob))"
      ],
      "execution_count": null,
      "outputs": [
        {
          "output_type": "stream",
          "text": [
            "/usr/local/lib/python3.6/dist-packages/sklearn/ensemble/_bagging.py:645: DataConversionWarning: A column-vector y was passed when a 1d array was expected. Please change the shape of y to (n_samples, ), for example using ravel().\n",
            "  y = column_or_1d(y, warn=True)\n"
          ],
          "name": "stderr"
        },
        {
          "output_type": "stream",
          "text": [
            "Test set accuracy: 0.753, OOB accuracy: 0.748\n"
          ],
          "name": "stdout"
        }
      ]
    },
    {
      "cell_type": "markdown",
      "metadata": {
        "id": "Cj7O0_lK38CK"
      },
      "source": [
        "The bootstrap aggregating (bagging) model at depth 4 has accuracy of just over 75%, which is slightly higher than the single decision tree. This is very similar to the **Out Of Bag (OOB)** score, calculated as the mean of the 50 prediction errors calculated while the bagging model was being fitted.\n",
        "\n",
        "Although the bagging model has slightly higher accuracy than a single tree, it can no longer be easily visualised and converted into rules."
      ]
    },
    {
      "cell_type": "markdown",
      "metadata": {
        "id": "_3nFqblOfjvF"
      },
      "source": [
        "#### Random Forest\n"
      ]
    },
    {
      "cell_type": "markdown",
      "metadata": {
        "id": "352a3QSaLM6J"
      },
      "source": [
        "Random forests are, like bootstrap aggregating, a type of ensemble model. Many decisions trees are genererated (hence the name 'forest'), each using a subset of the training data and, unlike bagging, each using a random subset of *features*. In a classification random forest, the final output is chosen by majority voting from the decision trees."
      ]
    },
    {
      "cell_type": "code",
      "metadata": {
        "id": "7zSj_bD-f-Uz",
        "colab": {
          "base_uri": "https://localhost:8080/",
          "height": 211
        },
        "outputId": "8c2ea835-62e9-462e-c038-88a784db6f88"
      },
      "source": [
        "# Train random forest\n",
        "rf = RandomForestClassifier(n_estimators = 50,\n",
        "                           random_state = 2)\n",
        "          \n",
        "rf.fit(X_train, y_train)"
      ],
      "execution_count": null,
      "outputs": [
        {
          "output_type": "stream",
          "text": [
            "/usr/local/lib/python3.6/dist-packages/ipykernel_launcher.py:4: DataConversionWarning: A column-vector y was passed when a 1d array was expected. Please change the shape of y to (n_samples,), for example using ravel().\n",
            "  after removing the cwd from sys.path.\n"
          ],
          "name": "stderr"
        },
        {
          "output_type": "execute_result",
          "data": {
            "text/plain": [
              "RandomForestClassifier(bootstrap=True, ccp_alpha=0.0, class_weight=None,\n",
              "                       criterion='gini', max_depth=None, max_features='auto',\n",
              "                       max_leaf_nodes=None, max_samples=None,\n",
              "                       min_impurity_decrease=0.0, min_impurity_split=None,\n",
              "                       min_samples_leaf=1, min_samples_split=2,\n",
              "                       min_weight_fraction_leaf=0.0, n_estimators=50,\n",
              "                       n_jobs=None, oob_score=False, random_state=2, verbose=0,\n",
              "                       warm_start=False)"
            ]
          },
          "metadata": {
            "tags": []
          },
          "execution_count": 13
        }
      ]
    },
    {
      "cell_type": "code",
      "metadata": {
        "id": "Ttorc4f_aUPJ",
        "colab": {
          "base_uri": "https://localhost:8080/",
          "height": 34
        },
        "outputId": "009fde30-1379-4c6b-ef73-bfa3cb9133d5"
      },
      "source": [
        "# Test random forest\n",
        "y_pred = rf.predict(X_test)\n",
        "\n",
        "acc_test = accuracy_score(y_test, y_pred)\n",
        "\n",
        "print('Random forest accuracy: ', acc_test)"
      ],
      "execution_count": null,
      "outputs": [
        {
          "output_type": "stream",
          "text": [
            "Random forest accuracy:  0.9955446967519402\n"
          ],
          "name": "stdout"
        }
      ]
    },
    {
      "cell_type": "markdown",
      "metadata": {
        "id": "YhcnQTIuammc"
      },
      "source": [
        "This gives an accuracy of over 99%: much higher than bagging!\n",
        "\n",
        "Random forests can indicate feature importance. This works by randomly shuffling a feature's values in the out-of-bag sample within each tree, so that its predictive power becomes zero, and measuring how much this decreases the prediction accuracy. This can then be averaged across all trees in the forest, and each feature given a score. In total these add to 1."
      ]
    },
    {
      "cell_type": "code",
      "metadata": {
        "id": "CDyENY1Md9yW",
        "colab": {
          "base_uri": "https://localhost:8080/",
          "height": 781
        },
        "outputId": "b7021823-19da-4aa9-d356-d31b4b178ba1"
      },
      "source": [
        "importances = pd.Series(data = rf.feature_importances_,\n",
        "                        index = X_train.columns)\n",
        "\n",
        "print(importances.sort_values(ascending = False))"
      ],
      "execution_count": null,
      "outputs": [
        {
          "output_type": "stream",
          "text": [
            "CH_SCORE                                    0.121192\n",
            "AMT_INCOME_TOTAL                            0.079787\n",
            "DAYS_BIRTH                                  0.076302\n",
            "FLAG_OWN_CAR                                0.062976\n",
            "NAME_EDUCATION_TYPE                         0.055188\n",
            "CH_LENGTH                                   0.050596\n",
            "FLAG_OWN_REALTY                             0.049069\n",
            "CODE_FEMALE                                 0.045924\n",
            "FLAG_PHONE                                  0.042644\n",
            "CNT_FAM_MEMBERS                             0.036918\n",
            "NAME_INCOME_TYPE_Working                    0.035488\n",
            "OCCUPATION_TYPE_Core_staff                  0.031119\n",
            "CNT_CHILDREN                                0.029460\n",
            "OCCUPATION_TYPE_Laborers                    0.026791\n",
            "NAME_INCOME_TYPE_Commercial_associate       0.025731\n",
            "NAME_FAMILY_STATUS_Civil_marriage           0.023367\n",
            "NAME_FAMILY_STATUS_Married                  0.021039\n",
            "OCCUPATION_TYPE_No_occupation_info          0.020057\n",
            "OCCUPATION_TYPE_Managers                    0.017636\n",
            "OCCUPATION_TYPE_Sales_staff                 0.016669\n",
            "NAME_FAMILY_STATUS_Single_or_not_married    0.015353\n",
            "NAME_HOUSING_TYPE_House_or_apartment        0.012453\n",
            "FLAG_EMAIL                                  0.012301\n",
            "NAME_FAMILY_STATUS_Separated                0.011646\n",
            "NAME_INCOME_TYPE_Pensioner                  0.010079\n",
            "OCCUPATION_TYPE_High_skill_tech_staff       0.009961\n",
            "OCCUPATION_TYPE_Drivers                     0.009554\n",
            "OCCUPATION_TYPE_Cooking_staff               0.007961\n",
            "OCCUPATION_TYPE_Accountants                 0.007224\n",
            "OCCUPATION_TYPE_Medicine_staff              0.006964\n",
            "NAME_HOUSING_TYPE_With_parents              0.006024\n",
            "NAME_HOUSING_TYPE_Municipal_apartment       0.005695\n",
            "OCCUPATION_TYPE_Security_staff              0.003242\n",
            "OCCUPATION_TYPE_Secretaries                 0.003020\n",
            "NAME_HOUSING_TYPE_Rented_apartment          0.002668\n",
            "OCCUPATION_TYPE_IT_staff                    0.001788\n",
            "OCCUPATION_TYPE_Waitersorbarmen_staff       0.001689\n",
            "OCCUPATION_TYPE_Cleaning_staff              0.001624\n",
            "OCCUPATION_TYPE_Low.skill_Laborers          0.001303\n",
            "NAME_HOUSING_TYPE_Office_apartment          0.001192\n",
            "OCCUPATION_TYPE_Private_service_staff       0.000220\n",
            "OCCUPATION_TYPE_HR_staff                    0.000061\n",
            "NAME_INCOME_TYPE_Student                    0.000025\n",
            "dtype: float64\n"
          ],
          "name": "stdout"
        }
      ]
    },
    {
      "cell_type": "markdown",
      "metadata": {
        "id": "W_N_YL9rhfO2"
      },
      "source": [
        "CH_SCORE, the credit history feature we created during data exploration and analysis, is the most important feature. This is a pleasing result as it matches industry practice, where credit history is considered the strongest predictive feature, and therefore credit information is a large market in all developed economies.\n",
        "\n",
        "The next few most important features also make intuitive sense, as they suggest high income or wealth, and therefore people likely to be able to repay their credit card debt: income, age, whether they own a car, and education level.\n",
        "\n",
        "At number 6 is credit history length, our second measure of credit history.\n",
        "\n",
        "At the other end of the scale, the occupation types and housing types did not show much predictive power."
      ]
    },
    {
      "cell_type": "markdown",
      "metadata": {
        "id": "zsAa73xSflIR"
      },
      "source": [
        "#### LightGBM"
      ]
    },
    {
      "cell_type": "markdown",
      "metadata": {
        "id": "MgRUaFcM1ZpY"
      },
      "source": [
        "Light Gradient Boosting Machine (LightGBM) is a gradient boosting framework designed by Microsoft, based on decision tree algorithms.\n",
        "\n",
        "It has gained popularity due to its speed, efficiency, and lower memory usage.\n",
        "\n",
        "LightGBM is sensitive to overfitting and so is more suitable for larger datasets. \n",
        "\n",
        "We tune the hyperparameters 'num_leaves' and 'min_data_in_leaf' here.\n",
        "\n",
        "*   'num_leaves': Light GBM grows a tree leaf-wise. We control the number of leaves here to control the complexity of the tree model.\n",
        "*   'min_data_in_leaf': We control the minimum number of data in a leaf.\n",
        "\n"
      ]
    },
    {
      "cell_type": "code",
      "metadata": {
        "id": "OIQqVEAtgHD2",
        "colab": {
          "base_uri": "https://localhost:8080/",
          "height": 139
        },
        "outputId": "a808cc4f-bd32-4fbe-eb29-5bf10c08639b"
      },
      "source": [
        "# LightGBM\n",
        "LGBM = LGBMClassifier()\n",
        "\n",
        "LGBM_grid = {'objective': ['binary'], 'metric': ['binary_logloss'],\n",
        "             'num_leaves': [20, 31, 50, 70, 80], 'min_data_in_leaf': [20, 50, 100]}\n",
        "\n",
        "LGBM_gscv = GridSearchCV(LGBM, LGBM_grid, cv=5, n_jobs=4)\n",
        "\n",
        "LGBM_gscv.fit(X_train, y_train)\n",
        "\n",
        "print('The hyperparameters selected for LightGBM:', LGBM_gscv.best_params_)\n",
        "\n",
        "LGBM_pred = LGBM_gscv.predict(X_test)\n",
        "LGBM_pred_score = accuracy_score(y_test, LGBM_pred)\n",
        "\n",
        "print('Accuracy_score with tuned hyperparameters:', LGBM_pred_score)"
      ],
      "execution_count": null,
      "outputs": [
        {
          "output_type": "stream",
          "text": [
            "/usr/local/lib/python3.6/dist-packages/sklearn/preprocessing/_label.py:235: DataConversionWarning: A column-vector y was passed when a 1d array was expected. Please change the shape of y to (n_samples, ), for example using ravel().\n",
            "  y = column_or_1d(y, warn=True)\n",
            "/usr/local/lib/python3.6/dist-packages/sklearn/preprocessing/_label.py:268: DataConversionWarning: A column-vector y was passed when a 1d array was expected. Please change the shape of y to (n_samples, ), for example using ravel().\n",
            "  y = column_or_1d(y, warn=True)\n"
          ],
          "name": "stderr"
        },
        {
          "output_type": "stream",
          "text": [
            "the hyperparameters selected for LightGBM: {'metric': 'binary_logloss', 'min_data_in_leaf': 50, 'num_leaves': 50, 'objective': 'binary'}\n",
            "accuracy_score with tuned hyperparameters: 0.9962632940500143\n"
          ],
          "name": "stdout"
        }
      ]
    },
    {
      "cell_type": "markdown",
      "metadata": {
        "id": "awXlmdGmhUPg"
      },
      "source": [
        "This gives us an accuracy score of 0.996, which is similar to the initial model and is still the highest among all models."
      ]
    },
    {
      "cell_type": "markdown",
      "metadata": {
        "id": "QjoR2uOpjVBb"
      },
      "source": [
        "### Overall model evaluation and conclusions"
      ]
    },
    {
      "cell_type": "markdown",
      "metadata": {
        "id": "P9xBfiUqAJDx"
      },
      "source": [
        "We have trained and evaluated 6 different models: KNN, Decision Tree, Random Forest, LightGBM, Logistic Regression, and Support Vector Classifier. LightGBM had the highest accuracy score: an impressive 99.6%. In business, this model could be deployed to make (or influence) decisions over whether to issue a credit card to an applicant.\n",
        "\n",
        "This analysis could be extended by creating a further ensemble method to combine the models' outputs in an attempt to utilise the strengths of each, to give a combined 'opinion' on the correct label. Another method would be to train a neural net."
      ]
    },
    {
      "cell_type": "markdown",
      "metadata": {
        "id": "iH5z4ERwCSeu"
      },
      "source": [
        "## Summary"
      ]
    },
    {
      "cell_type": "markdown",
      "metadata": {
        "id": "IdXMXW5wAJsZ"
      },
      "source": [
        "In this project we have taken credit application and credit record data from Kaggle. We explored the data and converted credit records into a single label for each individual, and turned older data into a separate credit history score.\n",
        "\n",
        "We selected features before and during modelling, and modelled the data with 6 different approaches. LightGBM had the highest accuracy score.\n",
        "\n",
        "Accurate prediction of credit behaviour is crucial for credit card issuers to make card issuing decisions. This has advantages both for the supply-side, the card issuers, to increase their profitability, and also to the demand-side, the consumers, to avoid taking inappropriate products that would lead to bad debt, as well as for stability of the macro economy."
      ]
    },
    {
      "cell_type": "markdown",
      "metadata": {
        "id": "vLdxfyo1CSev"
      },
      "source": [
        "## Note on project management"
      ]
    },
    {
      "cell_type": "markdown",
      "metadata": {
        "id": "aqkD3lFABZqg"
      },
      "source": [
        "We have worked on this project together, writing sections individually and editing each other's work.\n",
        "\n",
        "We considered several topics of business relevance, such as consumer behaviour in bank accounts and identifying fraudulent transactions, and ultimately decided on credit cards because of the rich dataset available and importance to both private companies and public bodies.\n",
        "\n",
        "At the beginning of the project we sketched out the timeline."
      ]
    },
    {
      "cell_type": "markdown",
      "metadata": {
        "id": "zVPJIi4Hmv_Z"
      },
      "source": [
        "![WeChat Screenshot_20200826220924.png](data:image/png;base64,iVBORw0KGgoAAAANSUhEUgAABnQAAAHJCAYAAAC8DNd7AAAAAXNSR0IArs4c6QAAAARnQU1BAACxjwv8YQUAAAAJcEhZcwAADsMAAA7DAcdvqGQAAJ72SURBVHhe7b1/bBznfa/L//tfGRQHAtxzHZ9rH7Sweu9FBAMiroGKLqIVdLKwjsk6ISGYVGDZtCkxjkxUcmSe+HB7XYp2RToRqSRd+iiiW1HqFc3AVKRrhop5QVCNSvnGR24FNVDpCmBqHCZq2dqHBYHvnXd+7M539p3lklxSw93nAR4vd3dmduYzQ1J+P5yZGgEAAAAAAAAAAAAAAIBEsri46EqhAwAAAAAAAAAAAAAAkFAodAAAAAAAAAAAAAAAABIOhQ4AAAAAAAAAAAAAAEDCodABAAAAAAAAAAAAAABIOBQ6AAAAAAAAAAAAAAAACaeMhc5N+ZP//B35jRX83QPfl6/+X6Py9tTfy71lf9Z1cO8nwwWf8cXv3fTftfPL984UzLMuj/5Ufukv28Za1nH1FMn/mXH50J+qVGa+Z1mO6xk594/+RDlsn13qdN+Rr/5o3n+/GJ/KuaOF8/5JwYYlaV1sLMu9Oz+TtwfOyVdfGJDfDc1vvjf2dF2Qt3/yC/nlv/mTr5PVHuu7XsjKN4Z+Klfn/slfQhxFjjeL/8fz35e2P70i53621u97P7c/HZY9zw/IF0PLDtZ5Zv5/+tOWiQ9H1Ta4Fnyv24+FVbnCzw/D5/M35dzwBWmzHDMr/zxd3b4qxdKOdQAAAAAAAAAAACgnm17oKJ/+vrT9+c/ll2sudv5B3v6GbbkX5Orn/iQWNrfQWds6rp5i+Q9I39/4k5XC5zfk20/blmMsf6HzG08Py49/7U8Sy+YUOuVdF83nf/dTOfp84XxxfnXo5+suPddzrP9u54/k6j/GrUCx420Fm7Jy9Cf/4C9nZe6tIrfi67xKklDo/PMtOf2KLrBidX6eHn3v76Xwx8o69lWMFDoAAAAAAAAAAACbz/0tdHy/+PyoXP0f/mJWw92fyD7L8oxHp+P/Wn9TC501ruPqKZ7/zqFb/nQr8/nMhSIDyBtQ6Dh+8U9vWAaiw2xSoeNYvnXJc+fqOdkVmb4Uv/jNcfnwX/yFrIF1H+tPf9/Zrn/1lxam+PFWinv+7OYKOS/LnfeG1RkpJWnWeXalM4xK4D4XOp//3U+kJbZYjXdXz4zcUZ3W+vdVVAodAAAAAAAAAACAzScRhY7rs+fkx6Vc7SrEh2cG7MsyvjYj9/zpomxmobPWdVw9K+T/9KjMlHTiwv+Uq/2W+XNuTKFjziL6kw+LFVybV+iUb108Pv9wdE1lTuAXu9d+nJTlWH/aya/ge3OF461Ev3H1V/7yCrnjrHtJZ6ZYjSuiVsH9LHTmf7qmMidw1/fCZVl59lVYCh0AAAAAAAAAAIDNZ4MLnay8/Xf/JPf+OfBT+duPZuR09/ftA7VHfxr5y/IiLN+Svmcsy8g5LO/GXTrr3/41tE5RfybfLlhWdDsi/kvM4P961nHVrDxoW9Ig7Oc35Khl3rwbVeg4PjsuH8bu/80sdBzLsi4Ov56Rb9gG5t3LDc7Ih3eD48j53vjZT+VPOi3TOn57Zm1nc1kLnf6f6ePX95d3fi5v99q/NwtLJVt+Md8nd38h7w6dsZ9pY+7vZMt5/qfyVdv0fm4zdz51l33n1s/k3EDcskdlZh1nN62n0Pn2lCWHOKM/P5bnY0uirw78VK76237vn+flw6m4YyZcSi7L59HPDPm3f5ktnD/mGAn8vNSf0wAAAAAAAAAAAFA2NrjQsQ2ke9z7aFz2WQa6v/rep/4UK/Dh6Ip/vb9vtPT7dORZ3XYUZcPW0cYKBYXjF/tXupSYs1+uDlvnzbuBhY7jvvNxeWxyoeO4/nVxDoEhyxla5oyXuzEj4sv/JDPf+37hPGs8m8ta6Hzvpv+uHfuZMdEMS805z+ezo7KzYJ4B6Su4GuCv5Mfd0ekcnx2VmX/2J4kQd3myXWd+4U+xBtZR6JRUnsZgvgcL8i92zMi/2o+Zb/xE7vhTFGMtxwgAAAAAAAAAAABsPvet0DHYBy4vyNWVWgfbZcGezspXvxF5rcQBTc3qt8PORq6jDct6PzOgB9BXzPafCgbS97wQHSi2ZVFqZrbpIj59Rt61Zr35hc661+XzG/JtS8lQ7DJjLv9yQ44WzDcsP44pM4qxtsH6f5C3X4jM4/iNq+H70pSacxhnudHj31Ev18F636msvD3nvx/D59OWez+V9PMkhvtS6NiXt2LRbT3WSvu5RaEDAAAAAAAAAACwNbivhU7cAO/R6RUuL2W7LNif3nDPLFCvmb/+/xt/npJZy3ZY2NB1tGFZ7++NF1zyrWi2v56RttC0ZhD92/3R9S21HCl1ukLt94y5D4WO47rWxXaGVtwlxhT/U67+aWQ+x7WUBGsdrJ/5XmQex53qbJdSc9bYlhstK+6cLzzbpJSzy9b88ySO+1Ho/KPtUnOllVIz34nOZynLLFDoAAAAAAAAAAAAbA3uc6ETM3i7wmDivZ8UXhbMHbS1/GX/zqGC6zmtwNq2I8rGrqMNy3q/8v/K1Wi+RW6wX7DOR38qMwWDvaWWI6VONyC7ni187duz0Rvab0ahU951sR3bv/Gdn/vvroDtPk//5r+3CtY6WG9ddzVfqTlrVi50fiXvvlI4TamljPXnyZ+t8fvrPhQ65iyj6LKKfc+G+eX/c849oy5sy+jf++/GQ6EDAAAAAAAAAACwNbjvhY589KPCsxheKHYZsl/Ju69Fps/9BbvlL/RXfcmlNW6HYqPX0YZlvc3gc0GBFHfprsKB6baf/Moy2FtqObKK6aYtl9h69kfyocpkMwqdcq6L/Sybku8RVSbWNlhfyrqXmnMY2/fFd+Tbs/7bLrblZuXcvP/2SsyWUsKUyH0odMpaSJUIhQ4AAAAAAAAAAMDW4P4XOtZLDI3KjP92Abb7a4T+gt02IPrtmdVccmmN2xFmw9fRhmW93cHnwgLJFDUFFOyHYXn317Z1XUU5sorpPjxTmMm+8//gz2fYpEKnbOtS3oH+tbKmwfp52/dkdN1LzTnP5x+Oyq6CeSIF4zouOeYy9xPZE53/6R/JmmJfR6FTmoV5lXJJunJDoQMAAAAAAAAAALA12HKFzp3RbGTayH0ibAO6JV6yyGON2xFi49fRhmW9/cHngkupvVb4WQXr7K9P4QCzLYtSMysy3efOe5H7/bjv5c7M2LxCpzzrsgULnX/7lfzt1I/kq02R6Y3PON+TqlQpNWcHf7n7Cm7ab7k3zmoL3ijrnT8MhQ4AAAAAAAAAAAAkiIQWOnHz/aLgJv/BmSR5/kHefmGlaYqxxu3IsRnraMO23v5A9q9npE29Ht2ewrN4gnuWbFqh42DuHxK9/N4Xc0XXJhY6Dutfl1UUOrbiwOJaBvatg/VrsOXH0c+25bdKnx6WH0ePeQqdgukodAAAAAAAAAAAAMCwtc7Q+Ztx2Rmd1na2ieWSZqUPiq5xOwI2ZR1t2NY7yPGf5Mfd+r19o6FLiEXPGArd02czCx1zj5XoehqPTv+r897mFjrrX5fKKXR2fe+mPovGxZbfKnz2nPzYdl8cCp2C6Sh0AAAAAAAAAAAAwLClCp0PhwYi08UMdt6ylCrf+Inc8d8uzhq3w2dz1tGGbb3zOZozTtR7oc+KlktfzA3m2m6Ov5ZyJKCE6Wz3b3Ev97XZhY7DutalAgqdp78vR9/7e0uZY7DlV5r7/uzn8stlfzFRrD8Ptt49dKz7uQQodAAAAAAAAAAAACCO+1/o2AZNX7AUG5/fkG8X3IMjbvm2y559X96e898uyhq3w7Bp62jDtt6hYqxg3bLy9l3zRnQ9BqTvb9w5HGyD1bbtKTWz0qa7c77wHkS7zsxsfqHjsPZ1sZVhMYPzf3NF9rzwfeUuy31sNqvQ2dV5Tvreuym//Dd/IVZs+ZXmN67+yl+GDdtys6H7F63AbCklTInch0LHdubeF//slv/uxkChAwAAAAAAAAAAsDW474WObQDzN77zc//dPJ/PFN7TZLXuHCplYHRt22HYvHW0sdJ6/0+52q/f33P+HwovEffMuHyYO3vi/hQ68vkt+ZNno9N9R75ouan+Rhc661mXUo9tG+U6U8M6WN//M7n3z/9U6Odxp83YsOWXlbf/Ti/zwz8vLMT0MRblV/LuK5HpHb9x9Z/894tT1kLkPhQ6BWfSGXP3birOvdmfSN+f/Uh5+mcrHzMUOgAAAAAAAAAAAFuD+1voLBfejN8Y3JA/T+E9YNbk06Mys+KY9Rq2w2Uz19FGCev94agunJ4Zl7cjl4jbeeYX/sSG+1ToOHw+O1p4STqLG17oOKx5XaJ5G0P3JyrGhhY6ZRmsLzG/z53pCs5EK74t1iKs52cxl34Ls9LPk3+SmVFdeBh/HHdW3H0odKyXnCvpmLGfEVZKEUahAwAAAAAAAAAAsDW4r4XOL398prQB71/PSFt0ujX67ZloWRRl9dvhsqnraKOE9V6+ZbnMW9joJd/uX6FjztQopSDbjEJnzeuy7HyG5Uyer/5o5euHVUyh42BdB/N9/i/+BFHu/kT2Rad3js2+FU60sRZv6ueJvXSNKz3uXR0umLbwbJkyFzoxpVTxy9Q5WC/3WNolHCl0AAAAAAAAAAAAtgb3rdC5Nzsquwqm/47sG/0Hf4o81gHHtfqnN1b4S//VbUfA5q6jjdLW+8PIGTnKb0TvXXQ/Cx2Hf/x/pcVSiITdnELHYU3rYs42sVxy7D9/X/5ktviZEzPfic6zdQsdWf6F9FkuW7dLnQ0WJqZAe3ZUZv7ZnyTK3Z9a90/0EoYfnrEc/69ZLmm2PG8tatzLFCrKXeg4Pxt/YimSnnayjesBl/9JZr5nOaup4PvZDoUOAAAAAAAAAADA1mCDC53Ce2rcuTUjp7u/b7/XjBmALLjcmP0v1r86+vdquVZnf2S5VNawvPtrf9FWVjnQ77LZ62ijxPW+FblnTsjCMu0+FzoO9kIk76YVOg6rXxeHf/m5fDvmrKg93Vfkx3c+DR0Pn8rffhT//bFlCx0Hc7ZL4TYVyXvecukx49Pfl7Y/n5EP73qZ/fLOTXn3z4dlj61ss50FFL1nlO+e3p/Kh//o74e7N+XtHktBYn6e3fWXk8Ne6Hx7KtinJfgvkTPyYgqw6Lbf++d5+XDqp/InnZZpHVc8q8eHQgcAAAAAAAAAAGBrsMGFzipsGpZ3bX+BPvcT2VMwfamFxy+slxhr+0mxgc7VD/Rv/jraKHW97eWTfdr7X+jEDm77bmahs/p18fj8Q/vZaKv1G1Mr3w8lSlIKnbj7Ze101iXubLQ7zrpbi9+S/L6zP/7VX1KYT+XdV2zTr+yuP7tlWVd7obMqC+7L4+D8TPnqCmeEFfOLBZeGi4dCBwAAAAAAAAAAYGuQiELni8+PytX/4S8mgvUSYbZLJMVgvcF60UsRrX6gf/PX0Ubp631n1HKmiXV9E1DoOHz+0Y9iC5FNLXQcVrcuecyZWNazSEq0bfTv13AZvgQVOg6fT1+wFDTZIvd5WZY77w3L7xbMs4JPf1++PV2kEJ2fkW8UKeZsfvGVn1rOHjRsUKHj8PmHaztmfve1uHW1Q6EDAAAAAAAAAACwNbi/hY57CaGfyy/jBh9jbuIfdxNzK9YbrNsunRSwyoHq+7KONlax3v9YeDkr+/omo9AR+Ve5+qfR+Tw3u9BZ3bpE+B8/l75XBlZ11om5LNvVf1zF6HyEJBU6ceXHSmeT3Pu7n8rR5wvns/m7nT8qLa9/viWnYy5VFnXPd34W/zNqAwsdl390jpkS19P8PD363i/k3ioPFwodAAAAAAAAAACArcGmFzq/e+D78tX/a1Tenvr7FQceP5+x/UX/sPw47sboVmIu9RS5WXqe1Q1U3591tLGa9f6VvPtaeLoLctV6+kdSCh2HX8/INyxnK2x+oeNQ8rrY+Xz+F/LuX16Qthe+L/9HeDlPD8ge57W2P70i56Z+Ib/8N3+GdZCsQsecdTJquYfNgJNd5D4yBSzLvTs/k7cHzslXn9el2K4XsvKNoZ/K1bnVXpKu2DKH5ehfzsiHK5ZDG1zouJj1/LmcG3LW84UBdcbSan6exkGhAwAAAAAAAAAAsDUoY6EDAAAAAAAAAAAAAAAAGwGFDgAAAAAAAAAAAAAAQMKh0AEAAAAAAAAAAAAAAEg4FDoAAAAAAAAAAAAAAAAJh0IHAAAAAAAAAAAAAAAg4VDoAAAAAAAAAAAAAAAAJBwKHQAAAAAAAAAAAAAAgIRDoQMAAAAAAAAAAAAAAJBwKHQAAAAAAAAAAAAAAAASDoUOAAAAAAAAAAAAAABAwllTofMb//k7iIiIiIiIiIiIaBEAAGAjoNBBREREREREREQsowAAABsBhQ4iIiIiIiIiImIZBQAA2AjWVOgAAAAAAAAAAAAAAADA5kGhAwAAAAAAAAAAAAAAkHAodAAAAAAAAAAAAAAAABIOhQ4AAAAAAAAAAAAAAEDCodABAAAAAAAAAAAAAABIOBQ6AAAAAAAAAAAAAAAACYdCBwAAAAAAAAAAAAAAIOFQ6AAAAAAAAAAAAAAAACQcCh0AAAAAAAAAAAAAAICEQ6EDAAAAAAAAAAAAAACQcCh0AAAAAAAAAAAAAAAAEg6FDgAAAAAAAAAAAAAAQMKh0AEAAAAAAAAAAAAAAEg4FDoAAAAAAAAAAAAAAAAJh0IHAAAAAAAAAAAAAAAg4VDoAAAAAAAAAAAAAAAAJBwKHQAAAAAAAAAAAAAAgIRDoQMAAAAAAAAAAAAAAJBwKHQAAAAAAAAAAAAAAAASDoUOAAAAAAAAAAAAAABAwqHQAQAAAAAAAAAAAAAASDgUOgAAAAAAAAAAAAAAAAmHQgcAAAAAAAAAAAAAACDhUOgAAAAAAAAAAAAAAAAkHAodAAAAAAAAAAAAAACAhEOhAwAAAAAAAAAAAAAAkHAodAAAAAAAAAAAAAAAABIOhQ4AAAAAAAAAAAAAAEDCodABAAAAAAAAAAAAAABIOBQ6AAAAAAAAAAAAAAAACYdCBwAAAAAAAAAAAAAAIOFQ6AAAAAAAAAAAAAAAACQcCh0AAAAAAAAAAAAAAICEQ6EDAAAAAAAAAAAAAACQcCh0AAAAAAAAAAAAAAAAEg6FDgAAAAAAAAAAAAAAQMKh0AEAAAAAAAAAAAAAAEg4FDoAAAAAAAAAAAAAAAAJh0IHAAAAAAAAAAAAAAAg4VDoAAAAAAAAAAAAAAAAJBwKHQAAAAAAAAAAAAAAgIRDoQMAAAAAAAAAAAAAAJBwKHQAAAAAAAAAAAAAAAASDoUOAAAAAAAAAAAAAABAwqHQAQAAAAAAAAAAAAAASDgUOgAAAAAAAAAAAAAAAAmHQgcAAAAAAAAAAAAAACDhUOgAAAAAAAAAAAAAAAAkHAodAAAAAAAAAAAAAACAhEOhAwAAAAAAAAAAAAAAkHAodAAAAAAAAAAAAAAAABIOhQ4AAAAAAAAAAAAAAEDCodABAAAAAAAAAAAAAABIOBQ6AAAAAAAAAAAAAAAACYdCBwAAAAAAAAAAAAAAIOFQ6AAAAAAAAAAAAAAAACQcCh0AAAAAAAAAAAAAAICEQ6EDAAAAAAAAAAAAAACQcCh0AAAAAAAAAAAAAAAAEg6FDgAAAAAAAAAAAAAAQMKh0AEAAAAAAAAAAAAAAEg4FDoAAAAAAAAAAAAAAAAJh0IHAAAAAAAAAAAAAAAg4VDoAAAAAAAAAAAAAAAAJBwKHQAAAAAAAAAAAAAAgIRDoQMAAAAAAAAAAAAAAJBwKHQAAAAAAAAAAAAAAAASDoUOAAAAAAAAAAAAAABAwqHQAQAAAAAAAAAAAAAASDgUOgAAAAAAAAAAAAAAAAmHQgcAAAAAAAAAAAAAACDhUOgAAAAAAAAAAAAAAAAkHAodAAAAAAAAAAAAAACAhEOhAwAAAAAAAAAAAAAAkHAodAAAAAAAAAAAAAAAABIOhQ4AAAAAAAAAAAAAAEDCodABAAAAAAAAAAAAAABIOBQ6AAAAAAAAAAAAAAAACYdCBwAAAAAAAAAAAAAAIOFQ6AAAAAAAAAAAAAAAACQcCh0AAAAAAAAAAAAAAICEQ6EDAAAAAAAAAAAAAACQcCh0AAAAAAAAAAAAAAAAEg6FDgAAAAAAAAAAAAAAQMKh0AEAAAAAAAAAAAAAAEg4FDoAAAAAAAAAAAAAAAAJh0IHAAAAAAAAAAAAAAAg4VDoAAAAAAAAAAAAAAAAJBwKHQAAAAAAAAAAAAAAgIRDoQMAAAAAAAAAAAAAAJBwKHQAAAAAAAAAAAAAAAASDoUOAAAAAAAAAAAAAABAwqHQAQAAAAAAAAAAAAAASDgUOgAAAAAAAAAAAAAAAAmHQgcAAAAAAAAAAAAAACDhrKnQ+fWvf42IiLhpXrp0CRERERERERERsaql0EFExMRrfmFN/M2v0Jc8tOShJQ8teWjJQ0seWvLQkoeWPLTkoSUPLXloyUNLHlry0JKHljy0Jg8KHURETLz8AteSh5Y8tOShJQ8teWjJQ0seWvLQkoeWPLTkoSUPLXloyUNLHlry0JKH1uRBoYOIiImXX+Ba8tCSh5Y8tOShJQ8teWjJQ0seWvLQkoeWPLTkoSUPLXloyUNLHlry0Jo8KHQQETHx8gtcSx5a8tCSh5Y8tOShJQ8teWjJQ0seWvLQkoeWPLTkoSUPLXloyUNLHlqTB4UOIiImXn6Ba8lDSx5a8tCSh5Y8tOShJQ8teWjJQ0seWvLQkoeWPLTkoSUPLXloyUNr8qDQQUTExFv4C3xeTr/ylPz2F2qk5gsPS/0rV+WSev+GHHncea/mFXkr9Pr53v8k/+HIVefruPkvS2uNmS/v/9n7t7n5k6LtHzSX3r8q/yXzgqR+r1mOTa78urH68ii+PZWbxw354wN/kN+eI5flXff1as0j/ufH+r5fHP/730rvkWb5nd923jt0Wc2fFEvPQx83jx0a9Y8bz8rNI+44KPX7xXm+BbY7ztJ/fsS97lm5x0fcdt/Jb+dv/4E0nLqh5qu+nx+ORbaneB5/K8d2O88j329JzKTknx9/PSPHnOPm35ntUMeNp5fH/71ltjvO0r9fihw3jpV7fNjyWHl7KjePmOOgpO+XYj9Pdc7Rf78kxZJ/fqzr+8VMU0l5rPf7xUyzVfOI+3maf7/4+MfW2O44C/Io8nNiff8/t3WODwodRERMvNFf4Jfe/qb8Zs0OaTp9Q4ZPf1N+p2a7PHcx//7wn/wn/x944X/QmH8A/pa0/kWR+af+m9Q78zWdviPv/pXvh/nlJsWCf9D8xSvOtv57+e3/9becx/+U/4dL3OuuVZhH0e2p3DyGM3/g/IP0KTly8W9l+NQL8h9qfkua3p6v2jxit2e93y/ONP/lK868X/gDaX3rsgxNh+dPjqXm8e6przs5bHcHpr3jpkYa/sw5btz5KjeP9f782CrbHWepPz9if66481Xu8RG33eb7xdvOGTn92lPO138gRy4H81Xfz4/i27NyHpeC7zHj5H+TtDq+kmOpPz9O/9H2yHFTI+lTd/z5Qnlske2Os9Tvl/jjxli5x0dsHkW3p3LziNuekr9fYuYv/u+X5Fjqz4/1fr9UXB5Fj/fKzaP4v7uc91cY/9gq2x1nNI/YnxPr/P+5rXR8UOggImLitf4C/4//VU67z72/mv7fX/P/Gtb5h139F/5AHov+hcrk9+T//IL3PHb+951pCn7xJ8+Cf/D+d+d/Bv+79xcn6h8uca8bqzGPYttTsXnMy+k/+a/yXMb/qyWznc721P/p31ZpHkW2Z73fL87/QPym8z8ATWeT/T9Hpebx7mkzQO3k8L7z+ns98r+H/8exgvNY78+PrbLdcZb28+P/i/+5EjyvyOMj/ufpW4ecf3M88T0ZdqfztjN3BlfF5rHG7Sklj9D07iBWbppkWfLPj782g49+Fs7P08difp7mluOY5O2Os9Tvl6L7vWKPjyL/HstNY9meCv5+id2eEr9f4uYv+u+XBFnqz4/1fr9UWh5h1/L9sjXzWOHnRwnjH1tlu+MsOD7ifk6s8//nttLxQaGDiIiJN/oL3B042f09Oe8+934Be6da35E//upvye/80VVvmtA/aN59q1l+052myPx/Yf6i47fkt//Xf+89NvTL0F/nPzcpFvyDxjfuH7y216syjyLbUw15GN2/3vrC1+WPzV9LV2kesdvjv7/W7xf3fwyc+VINDzv/I1Aj/253j5ze0nnckf/yVedr89zxd5zX3P+JdKzkPALX+vNjq2x3nCX//CjyejUcH8bwdrvb84UX5I//ynnvr85J2tmmoNCpxp8fxbanlDzyn3FVnvuPNfJYRg9aJ8WSf364+tvnGPfzNG+ytzvOUr9fiu33ajg+jPafp4XbU8l5FN+elb9f4ueP//dLkiz158f6v18qK4+8a/1+2dp5GPXPj9LGP7bKdsdpz8P+c8K41v+f20rHB4UOIiIm3ugv8LhfwJf+7AX5zd97RU5/6E+T+weN84t5X/6vK2J/gf/1DXnr9Kicnroj5y/2uH/5ksT/KVrtP3gLX6/SPGK3pzryuPQXr8jv1PxW/q+5qjSP2O3x31/r94v7es0fSOvbN5w8+qX+CzXyH5z/uQqWmxRL/nlacCmCHdJ63mRQ2XkEruvnxxbY7jhL/vkR+3p1HB+FP0+dbfs9s02Ov7fDeS8odKrz50f89pSWR7B89991Nc3yX9Sgd3Is+eeHr7lUkPfzNMhA55GbLuHbHWep3y/x+706jo/Yn6cF21PZeay4PSt8v8TNH//vl/xnJ8FSf36s9/ul0vIIXOv3y1bPI/rzw82hhPGPrbLdccbmUfBzwnt9rf8/t5WODwodRERMvNFf4O5ffhacIvu+WG+SaH5Rm7+W/cI3pde/34F9/huiTt39mxty7AlnfvcfzN58SXG1/+AteL1a84jbnirII/eP/95Q4VKlecRuj//+Wr9f3Ndz/xNlrtHs5NF8Tt24NgmWmof7Pzpf1K//5jeuVnwegev6+bEFtjvOkn9+xL1eBcdHXB7mkijmmv6XxswlOvx7HFTpz4/Y7SkxD2/53g2ef/PZ0cR+/5T688O950PujCtvO20/Tz2Tv91xlvr9Ervfq+D4iP/5YdmeCs8jbntK/X6Jmz/23y/u8+RY6s+P9X6/VFoenmv/ftnKeRT+/PB/vzrbsNL4x1bZ7jijecT+nPDfX+v/z22l44NCBxERE2/BL/DwX064N6vzBk7cX+y+f/ys+QfNN+WP/8q7WXHNgfw/+OLm926C57/+F/91y52BYf8Hb+Hr1ZpH3PZUfB7vf8/96+jfefacDAffI84/gKs1j7jtCd5f6/fLxMX/6vxPlvd68BfpWzkPLwf/dfcv1Gok9ZZz7FR4HoFr/fmxVbY7zlJ/fhT9uVLJx0dcHua9v7ohb53ul/TvOf/z/5X/5v7VZ7X+/IjbnpLzMO87y1DPE2hpPz/mpffZ35Ka//h1OWZu3uz/JXH6tHPsRH9+GLfAdsdZ6vdL3H6v+OOj2M8Py/ZUeh727Sn9+yUuj7h/v4Q/OwmW9vMjfjurNQ/XdXy/bNk84n6eBl87Fhv/2CrbHafOI/7nRDBN9LipxOODQgcRERNv4T/w5uX0K0/Jbzv/qKn5wsNS/8rV3C/nQPevK9y/DjXXla2Rhj8L/rK62Px35K0j+dcfO+D8gyk3T3Jc1T94C16v5jxs21P5eXjfCxEPmTNpqjOPlX5+rP375Vfu/xA89tvO6zX/vgLyuCF/fOAP8vv30Ki8WxV5eK7958fW2O44S/35YX/9Lyv++Ij/eeofM7+9Q1JHRuX8fzfTV/PPD9v2rO73i7knQM3j/Yn+/in558dfX5VD+3bIvzPHizlG3O205bE1tjvO0r9fbPu98o+PYv8eK9yeys8jdntK/n6Jy8P275dgnuRY8s+PdX+/VFoe6/1+2Zp5FPv3h54mbvxja2x3nAXHh/XnRP59fdxU5vFBoYOIiIk37h94JfnhqDTUvJA7vbYSJA8teWjJQ0seWvLQkoeWPLTkoSUPLXloyUNLHlry0JKHljy05KElD63Jg0IHERET77p+gVeg5KElDy15aMlDSx5a8tCSh5Y8tOShJQ8teWjJQ0seWvLQkoeWPLTkoTV5UOggImLi5Re4ljy05KElDy15aMlDSx5a8tCSh5Y8tOShJQ8teWjJQ0seWvLQkoeWPLQmDwodRERMvPwC15KHljy05KElDy15aMlDSx5a8tCSh5Y8tOShJQ8teWjJQ0seWvLQkofW5EGhg4iIiZdf4Fry0JKHljy05KElDy15aMlDSx5a8tCSh5Y8tOShJQ8teWjJQ0seWvLQmjwodBARMfHyC1xLHlry0JKHljy05KElDy15aMlDSx5a8tCSh5Y8tOShJQ8teWjJQ0seWpMHhQ4iIiZefoFryUNLHlry0JKHljy05KElDy15aMlDSx5a8tCSh5Y8tOShJQ8teWjJQ2vyWFOhc/36dURExE3T/MKyvV6tkoeWPLTkoSUPLXloyUNLHlry0JKHljy05KElDy15aMlDSx5a8tCSh9bkQaGDiIiIiIiIiIiIiIiYcCl0EBEREREREREREREREy6FDiIiIiIiIiIiIiIiYsKl0EFEREREREREREREREy4FDqIiIiIiIiIiIiIiIgJl0IHEREREREREREREREx4VLoICIiIiIiIiIiIiIiJlwKnQp0+kyH7Hpsl3Scmba+v7lelp6ndsiOp3rksu398R5pfGyHNJ64XPjeCiZrOxERERERERERERERN87yFTofjMlwf7d0PLVLtn+l2z54j3aH2qSmpka57dG0dPxg0j79Ck7/oFW21WyT5v61ze863i27zLo8l7W+n33OrOcu6R4vfE97WXr21Ertlzpl2DyPLne8R3bX1sqOl4cj8xUa/czpM22y3dnOxvVsJyIiIiIiIiIiIiLiFrA8hU4wSB/4BIXOqvQLnUf2tErHoQ7HZtn1gMmyVloH79PZJ2UrdCKusNxirvkzERERERERERERERG3uOUpdKYvy/kLl2X6WlbaKHRWr1/o7MqELjt2oVN2BMVH8P7X2yT9UK088pI5m2VSsofSst0tfrbJ9q90SPb9mOWN9Unblx+UWue12ofqpPnNsdznTF/oluad29zpax/a7Z0VVEJBp8oV//PqWjr8ZdXKg1/ulOFpM+1l6X7CTNsmWdtyowXP+1np+Mp22eZOs03q9nfL+Q+Cz8vbNpT/3GA73W15PLSdmfMy7a6vvw61jdJ2aLc8WOt8/YDzfv/qL/OGiIiIiIiIiIiIiHg/LE+hk5NCZ01aCp3Lrzd6xcQLw7n33aLkSzuk+c3LMvzSdvf5jic75firzVJnSopHO7zLmoWXN+3sk4dNmVEnra8ed8uSmprt0vGOM937fdLozpeWzky3tD5e67xXJ8dHnOW/3uoVSs7yB85c9ouRvLZCp+aBXdLmLKfT/Ywa2f262Z5QoTNtWa4qdIJpd0lH/4D0vbzbzcAUWJMXBqTzSfPeDml9fUDOm/IqvJ3Btph1yG1nrTS+aS7HFizXy6s70+rlVdvm5YWIiIiIiIiIiIiImHApdJJgrrCJ+EBaesby7+/4o/P+PMPSZgqJx47LmL+MsVd2ONPUStuZ/PSm6Jh8s9H9On3Cv8/MmFegmJLk8uu73fdaf+At4/rFPveSb91npld3ybVwsWLe9z9DlzRtkjXvRZdb7HOmB6TZvLenxz2eCi65FvrcYFuav+tfok7NG1kHs6yvR5aFiIiIiIiIiIiIiJhgKXSSoF9M5O+hc1x6hs7L5DX9fq4wseUcniZcdGR2uV8X+Fw29557+bJgOYHrKXSsZ92UVuiEL5uWW1d/O4sWOgXbEv5cS6ETXRYiIiIiIiIiIiIiYoKl0EmCBYXNSu+v4QydzJhMTk7m/cBc1i1yhs7752VgcECGx9d5hs6aC51h6TCXh3vM3A/InGmjj6eynqFDoYOIiIiIiIiIiIiIW0gKnSS46kLnurqHTu6eMLZ76HwwIM3u/WLqpPnVHul5tVXSO9PSbS7lFncPnYvOe0Eh8vBuaT3UlyuOAtdc6ESXGyl03KLq4UY53j8gPS/UeWfq+MeTV1rVSN1THXJ8aFJ/bvgeOrn7+ETvoUOhg4iIiIiIiIiIiIhbUwqdJLiGQuf69UnJHkrL9gdMMVErD37ZnNUSM/37Wen4ynbZZvZN7YNSt79bzn/gTete4mznNnf62od2S8cP/HvtXJ+W4T/a5c3zgF8UhVxzoRNdbuSMnel3OmX3Q6ZY2uasZ6s0umfs+GcijfdJ85fMe7WSPuF8VuRz1eXaHqiT5sx5mXY/k0IHEREREREREREREbe2ZS50MBGuVBAhIiIiIiIiIiIiIuKWkkKnopyU7Ksd0uxeOq1W2oZs0yAiIiIiIiIiIiIi4laTQqeivCw9e8ylxLZJ3aGsf7kxRERERERERERERETc6lLoICIiIiIiIiIiIiIiJlwKHURERERERERERERExIRLoYOIiIiIiIiIiIiIiJhwKXQQERERERERERERERETLoUOIiJuCS9duiRN37/Jo/MYWOr0lf4YWOr0lf5otH0PVavkoSUPLXloyUNLHlry0JKHljy05KElDy15aMlDSx5a8tCaPNZU6AAAAGwm5heWGaxGxNIEAAAAAAAAgMqDQgcAABKPbcC6mqXg0pKH1uQBechDQx4a8tCQh4Y8NOShIQ8NeWjIQ0MeGvLQkIeGPDTkoTF5UOgAAEDiMb+wbAPXiGgXAAAAAAAAACoPCh0AAEg8tgHrapaCS0seWv6CSUMeGvLQkIeGPDTkoSEPDXloyENDHhry0JCHhjw05KEhD43Jg0Knilm6t+R/BRvCZ4uytOx/nUSWl5xvfo4B2BqYX1i2gWtEtAsAAAAAAAAAlUfZCp2lhdsy8U5GjjQckdF5/8Uoy0syd31UBr/VIum3Zv0Xq515GX2xXurrLZ7cwIw+HZcje7tkatF/vsWZPVkv/df9J+tgPcuZv9ge2mcLMt6Zkq6rCQ74o0FJNZ2V2+br6/1S/+KoczSugJku5rhc3z4w3wft8T87XLzvlXLs5wJK3X64b9gGrKtZCi4teWj5CyYNeWjIQ0MeGvLQkIeGPDTkoSEPDXloyENDHhry0JCHhjw0Jo/yFDrzo3LscEbOToxIV338oOzsqRY5dmpUxt86uLFlxVbFybG9vl9IZvUkr9DZYlDoUOgkHPMLyzZwjYh2AQAAAAAAAKDyKNsZOh6z0l+k0AnY0gPfG4mt0Lk7IZlnUlJfn5Km1yZkPriE1+JNyR5OS6q+XlL72iX7kX8miBmY7srKyFH/veezMntnSnr9ZaSPjvrLMPvK/ywzz4kRmXityZvnmUGZDU4sMZ/zfPD5g9L7rGVAPTLIn9+/ZgD+oPSezkjL3nqpTzVJ1xXLwbE8LxOZFvez6/e2SCaYxuTxYlbGhw7623lMRu96b7nzBOvrbONgl32gf/6K/9nO+rdkQvnF5KpKidjsb+fz9bM38+XOrPKLgdyyVrkd7RcLM1r8KCvt+/x9eDgrN20n/uTW11nWMxmZcD8jWpSEvkfd9RqVn5v9Fax7cEys4vgK1qWk7MIUHFv59Szcb2a9g3XMZxSbizULh9Cxlmrqcl93j9fcsilUk4ptwLqapeDSkoeWv2DSkIeGPDTkoSEPDXloyENDHhry0JCHhjw05KEhDw15aMhDY/Kg0EkS0ULnMyfPp1tk8MaiyPKizJxskIYhc4GsJZl6PSXt5+bcyRaneyW9/6y4z8yA+75emVpwvnbmmcik3Ocz98zzeRl5sV6OXTGj3mZfhQqdVLuMfOLNM3MiLS3usv3PcT5z0QzIfzIi7anVFjr1kflbvM8JMXeuRdInZvLT1Gdk6jPnazePBum/5o3Sz51rl9TrU85aidweasjPszDj5GRZr0+d+UPbPv6tlLftsbmGSokSsnfvj2PWd6+3vtHjOresItvhbntQNN3ztqOg0PlsSjKR/dP0Q2/f51mQ0cNp6Z32PmP+vWOSOjohiyUUOu5bZh/mzlBZ4fgKr4uTS7AtK2cXxjk2u/KfsXTHHBv+ejmZtuT225x7zGaumk+InKETm0tcFksy+1aDtJyedY+bxWv90vB0dnWXnIP7hvmFZRu4RkS7AAAAAAAAAFB5UOgkiWihc6PfH4j2uTsiB/1B5yVnp+VuuL88I73hcsZarniY515hYPbVSvOYaY7JhBlYd4kMqAfEzl84/cyJemkfM21TiM9C2+LMMxKcqREuHAy5QXczTZOcveO/7pArE8Lcm5BjqXY5+/FCaPkORXLNLSduGjdrv3DyCfZFNOvcsopsx+iLaRn82H/dwcxTUOgsLznfpKbQ8LnWqz7HY1Emjqak/Yc3ZSE0qbcPVlvolH58uctIee+tmJ3/1KUgx9B6mu0N5Tt/4aCfSeR4is0lLgtn21P6eM4da5Hth+RhG7CuZim4tOSh5S+YNOShIQ8NeWjIQ0MeGvLQkIeGPDTkoSEPDXloyENDHhry0Jg8KHSSRKTQcXPKXQoq0Ht/8daoZA54l71Sl4qKDLhHszbPSy50IuvjvFBQ0LjEfmbh9PnPD/HpjAx+syG0LZbCwZAbdC88znJlQoTFW+PS6y47f8k1d/1ynxXobWewnNhpCjLJk99uj9w6rXI7CvKRRbl9MSMt7qXF/HUJfU6Oe7dl/I0j0rB3dZdcc9/KrZNHqceXt7wSs/Nm8LAeW/56LS/IzClvO4L5rYVOsVxsWbifmV9moLu8yPZD8jC/sGwD14hoFwAAAAAAAAAqDwqdJBEd5DZnHGS8y1lp5mTkQIP0T/tnuoTniwy4R7M2z0sudNxpSjxD58SM/yQ8f+H0hWfo+Jf3uuBfwsz9TEvhYMgNupd4hk6Y5QWZOpH2Pjs219ByYqcx67fJZ+iYS5A93S8zwe6OfI6NhaleSR8elQX3Mw7KSHAPmbh8c+tkKP34cs++iZ6hUyTfHEXO0Fmaykjq8IjM+QvIZxI5nkrMJZeF5eyqHGr7IYnYBqyrWQouLXlo+QsmDXloyENDHhry0JCHhjw05KEhDw15aMhDQx4a8tCQh4Y8NCaPjS901OW0PEoZkK5KwgPnBvceIf69SByW7oxK7zu3ZUluyuC+Fsnecl92byCf3pBCp8R76Nw5K03mnidmNc09Tw6n/Pm9AXg9f7Tw8y6PlZnwtnHxVtbJYKVCx7/3zAr30HGLgRf9YsC/x4pb6MTmGiolYqeJ3ENnflyO7e1yS6+FMSe3ULGVW9ZK27HSPXQ+HpT0gazcNtO4N/VPq/3lEtxP5o7Xgrj3vXELHWd9M84yL3jLdO8bY8vXXCbt2RF/HVc4vsL3rTnZIGlnXUrLLoy+T0/4HjqLV45JysnE3bf3bkvWHENuJubeOPXSe82dJT6XYlk4n9lyyruHjizNyegbZ+W2mUxtPyQR8wvLNnCNiHYBAAAAAAAAoPLY4ELHu/H5kff8P6H3odCJIVroOLiXvnrGu6RU/jJazusfZeWguSRVKi3HzmWly+T+qfNGWQsdh8Wbkn3efH5K0kf7pfdZfUaJx6LMnmpxL8+V2tcu2VNd/vx+odOVkRZ3XZuk64plyPzuhHQ1eZ/R8sZZ6X82Jf03nNeLFCHuAP5rTd5nPp+VwS5L0eSs182h4NJd+Uuuue/E5JorJRzippHF2zJy1Lscmbu9H3nFhSw422E+yy0PSit01HY8Myj9znYcu+IvL4fZjoP+5x2TkSEnX/8zwphj4kiDZX3vjsox97JkJoNBZx9aCp1lZz+bfeCfbVP0+OoalOxhf/ud7G/6q1tSdmFCx1bTa6H1Upn0ytm3nG1/yzseFya63Ne9s7zic4nNwtl3oxnvWK3f2yKZ4HiMbD8kD9uAdTVLwaUlDy1/waQhDw15aMhDQx4a8tCQh4Y8NOShIQ8NeWjIQ0MeGvLQkIfG5FHmQgcqjvk5mfMvUeWeRbE35pJVViKXyIJC7s3LXHDnfvdMoxbv7BcAUJhfWLaBa0S0CwAAAAAAAACVB4UOFGXxxlk5Fpxp0XAkfzZKSVDorMgnE9IbnO2yL3TGCAAobAPW1SwFl5Y8tPwFk4Y8NOShIQ8NeWjIQ0MeGvLQkIeGPDTkoSEPDXloyENDHhqTB4UOAAAkHvMLyzZwjYh2AQAAAAAAAKDyoNABAIDEYxuwrmYpuLTkoeUvmDTkoSEPDXloyENDHhry0JCHhjw05KEhDw15aMhDQx4a8tCYPCh0AAAg8ZhfWLaBa0S0CwAAAAAAAACVB4UOAAAkHtuAdTVLwaUlDy1/waQhDw15aMhDQx4a8tCQh4Y8NOShIQ8NeWjIQ0MeGvLQkIfG5LGmQsfMiIiIuNkGg9U88sgjj6t9DP4NyyOPPPLII4888sgjjzzyyCOPW/WRM3QAACDxBL+0wIM8NOShMXmYEgM9OT405KEhDw15aMhDQx4a8tCQh4Y8NOShIQ8NeWjIQ0MeGpMHhQ4AACQefoEDlI6t1Kh2AQAAAAAAACoBCh0AAEg8FDoa8tCQh8bkYSs1qlWODw15aMhDQx4a8tCQh4Y8NOShIQ8NeWjIQ0MeGvLQkIfG5EGhAwAAiYdf4AClYys1ql0AAAAAAACASoBCp5pZcnb+kv91kllecg7SjVnRpXtbIYD7xGeLsrTsfw1wn6HQ0ZCHhjw0Jg9bqVGtcnxoyENDHhry0JCHhjw05KEhDw15aMhDQx4a8tCQh4Y8NCaPshU6Swu3ZeKdjBxpOCKj8/6LUe5OSOZAWlL19ZLa1y6D1xb8N6qc+VFpdzI5csmSx/V+N6/+6/7zMnLzVEqafnjbf7b5zF9sl/qTs/6zMPMy+mJomz8alFTTWSnPms5Kf32/81+HT8flyN4umVp037jPmG1uL/zecfa/PaONZkHGO1PSddULZ/bk2o/B+P0MUDr8AgcoHVupUe0CAAAAAAAAVALlKXTmR+XY4YycnRiRrnrLoLTLnIwcSEvvlF9afDIi7fXHZOKe97Sq8Qud+gMjTkphlmTq9ZSkUhtT6NxvSi50ykqo0EkUSSt0NBQ6cL+h0NGQh4Y8NCYPW6lRrXJ8aMhDQx4a8tCQh4Y8NOShIQ8NeWjIQ0MeGvLQkIeGPDQmj7KdoeNhBstjCp3FWRl5ayJUWMQMYFcjptB5MSOZAy0y8on/muHehBxL9Uv/ifxg+uJHWWnfl5L6+pSkD2flpnsChcnyoPSezkjL3nqpTzVJ1xU/WFMIdA1K9rB/ZtTzwTzeQHv7RTOdty+yl7Jy0J0/LcfG8jtm/kqXNKWc1/celOypLql/cdSZI8LynIxnWgrPvooUEsHgvikI6k2JZVTLM8dQ/j13/dx8/Gnc7cnKyNH89szemZLeZ/xMjjrTBZcJM2eE+a83vTbhvx4udEJfm+WeGJGJ15q85T4zKLPBmTvL8zIRbFtTl0zc9V8Ps3gzn7Gz/dmP/JmLLdfM83ywfoPS++wKhY7JYW+7f4wsys2hdkkH+8V83icj0uIcL7PB9n88KOloSWiW8Wy/nH0jtD23bufzDK2f2UfBcRf+2p5r+HWznIybk5mvYD9/Mp6bP314UGY+ded2p+29MCFdTd57Ladmna30WcVnQmXCL3CA0rGVGtUuAAAAAAAAQCWweYVOlIVxObJvUG4GA7PVjF9Y3Lx0RNKn8oMOC+7zGZnI+IPpn01JJuUP6C8vysyJtDT90AzXe2e0tA/dlkWTpzn7KeWXQ6YQ2JeRCbNPzDwnGyT1+pSYO8foQqdeGk7OhObPyNRn3tctkfkLC50lmT2Zzs8/PyGZfaHPtxQ60a813vrkCoRoobOvV9wTvZz1mcik3Ocz5kyv5XkZceY7dmXRyco5Fp9ukcEbztf+ejc4+XjHaEyhE8m25ZzJ1tm2txqk5fSsu22L1/ql4els5PJv3plU7e70zjTTvZLef9YrUmKX66x7V36epTsm8yKFjrNto4ebnEy8imN+rF1S3xr3ig2zv/Z2ycQ9k1sql9vcD5v8zwphsnS+R0fuePcOuj3UIvXmuVk/Z53M+qVPe8egKVgKCp3YXBec9UtL77S/fu8dk9TRCbeQUfvZzL+vQfqv+dNdyeRKJ/MZqcPO12ab7s1Ib3AMreEzofKg0NGQh4Y8NCYPW6lRrXJ8aMhDQx4a8tCQh4Y8NOShIQ8NeWjIQ0MeGvLQkIeGPDQmj/tT6LiD0ynJ+PfnqHrMILspAFTJZS5RZwa0Q+XG8pKzs0I38b/W6w+URwoQh5kT9dI+tuAVAuEC5u6IHDRncThf6kInvN/y+9FMEwzwu0SXZ1iekd7I5fNMmeCWTUEh4VOWQidmeYbcNt3o14P7ZrvdZZhtiyl0rMt1pkmFt21eRixn0iw530RL7n5zcPNYYbnuNH5p5hLdBz7u/BMye7LJ31cGr8gY/Nh/6mD2t8nLKwHN/pqTs/sjZ3wZwlkazPKjz/31nbUVOrG5LsrE0ZS0//CmLIQOUYPaR+aYVaWLWc8mOXtHf56Xx9o/EyoPfoEDlI6t1Kh2AQAAAAAAACqB+1DoLLqD0wdP3wwN6lY57lkTpgDwzvTITC15Z8a4Zy6Ey41FuX0xIy3uJdfqPd2B8kgB4pArNqID9u4+Kr3QMYPs+SLBoWB5Drn1z5MbxA8VBIbw4L4a6FdEtmcNhY77epBRTrOO+e0PZxG7XHfbosvRWRsWb41K5oB32bL8ZzkUXW44s+g+8DHz7zsovV3Odl0I3jTrrdfH6O4nc5k+UwrecY6f6H4yhLM0mOVHn/vra/Z9sJ3B1/G5Oty7LeNvHJGGvfryZ7ltjnztkd/X4c8Lv76Wz4TKg0JHQx4a8tCYPGylRrXK8aEhDw15aMhDQx4a8tCQh4Y8NOShIQ8NeWjIQ0MeGvLQmDw2vdAxg7NNJ0P3xgAnlNDg/vV+SWUmZOZUWo5cMtcVC5UbpuR5ul9m/NvT5AfHIwWIw+afoRM+2yRyhs6JGf/V8DrrrzWR7VlDoeOeCZLxLi2nMdsWFCmhr+OWa9m2QszZVA3SPx3sGL0/S1tudB/4BPktz8nZA+0y4hYW5iwh76yWQpZkKpOWY0eDfRthnYVOfK6ahaleSR8eFfcIDu+jgvlLOENnDZ8JlQe/wAFKx1ZqVLsAAAAAAAAAlcDGFzqf5S9FNT92xB1wzd3QHDzCBcDyTRncl5b008Fgf2hg273JfVZum/zcG/Wn/YFybxp9Dx1/P5gB+sg9cNLOPGZwPFd+uPPbC51130PnzllpMve4MQ3e8pyMHE7lBvcXxtpV2ZPHXFKsXnqv+U/XUui49xvy77visHRnVHrfuW3WdHWFjjOHOWvKvUG/2balORl946zcVu2C2Wctkr3lPXPvC1Picku+h47B2f8NB86695iZO9ci6aOj3v1mlhdkZqhfpj71Jluaykgqrlhdb6ETl2twfyf/3jzufYT8ckXt5xXuoWMtdNbwmVB5UOhoyENDHhqTh63UqFY5PjTkoSEPDXloyENDHhry0JCHhjw05KEhDw15aMhDQx4ak8cGFzrejd+PvGeGWM179YWXTgoNdlct4ULHwQzWp14PzkgIDWw7ed4cOuhe1iu175iMDHVJvTuA7Rc6XRlp2etkmmqSriv+TjAD9PuPSddh73JgqeezctMbFy+t0HGYv9IlTSlnuXtbZPCk85m2G88vz8l4xllvd93aZfBaMKy+KLOn8q9nTznzB/t8YUK6zPpaBuEXJrrcedyzjNZS6Di4l0F7xrs8Xf5yXGbbVlPoOCzellF/20wGmSDbEIsfZeWgm31ajp3LSpfJzxQsRZd7U7LPm/VLSdNrg9JruTePnn9RZk6kpcWc+WRKnFPtkjb7xfnM9qHQJQzNWVid4/ZiY72FjoM9Vy+DIw2Frxfs50/G/flTkj48KDN+ERX+DGdFQ8f9Gj4TKg5+gQOUjq3UqHYBAAAAAAAAKoEyFzpwf9CD34rogP1qWV6U+U8WvLOsTIlwskFa/LNKIJncHmrxL9cHUDlQ6GjIQ0MeGpOHrdSoVjk+NOShIQ8NeWjIQ0MeGvLQkIeGPDTkoSEPDXloyENDHhqTB4VORbCRhc6cTLyRPxOkJTPBJfMSiznjKOVeio19BJUGv8ABSsdWalS7AAAAAAAAAJUAhQ4AACQeCh0NeWjIQ2PysJUa1SrHh4Y8NOShIQ8NeWjIQ0MeGvLQkIeGPDTkoSEPDXloyENj8qDQAQCAxMMvcIDSsZUa1S4AAAAAAABAJUChAwAAiYdCR0MeGvLQmDxspUa1yvGhIQ8NeWjIQ0MeGvLQkIeGPDTkoSEPDXloyENDHhry0Jg8KHQAACDx8AscoHRspUa1CwAAAAAAAFAJrKnQMQNriIiIm+3169d5dB4DS52+0h8DS52+0h8DS52+0h8DS52+0h8DS52+0h8DS52+0h8DS52+0h8DS52+0h8DS52+0h8DS52+0h8DS52+0h8DS52+0h8DS52+0h8DS52+0h8DS52+0h8DS52+0h8DS52+0h+Nayp0zAIQERERERERERERERFxc6TQQURERERERERERERETLgUOoiIiIiIiIiIiIiIiAmXQgcRERERERERERERETHhUuggIiIiIiIiIiIiIiImXAodRERERERERERERETEhEuhg4iIiIiIiIiIiIiImHApdBDDjvdI42M7pPHEZfv799XL0v1EjdTUtEnW+n55zT5nPmuXdI/b3y+bic4cERERERERERERMRmWrdCZ/EGH7H6oVmpqaqT2oTppPjFmnQ4tDrW5uQWa/BpfzsqkbdoCs9Jm5nuiWy5b38dVOd4ju2trZcfLw/b376sVUuiMd8suc8w+l/WfJzlzRERERERERERExGRYlkJneqhNHjFFxOOt0p3plPSjZiD4Eel4R0+HMfqFziN7WqXjUIe0PrlDak2ee7plzDa9kkKneqzQQgcRERERERERERERV7QshU5u4HfMf+0HrW5BsSvDJZRK0i90wnkNv/CI81qttA5OO8+n5XymWepyZ0Dtlo4fTDqv+2VOTm+gf/pCtzQ//qBbCtXUPii7D9nO9vHLgdrd0ry/Trb5y+18x3zedbmc2eUus/G5Dql7wHl80/m8a2PS99xuebDWW27d/r4ihZO/bjsbpfnL3rps29ksfe4xEhQTjdJ2yHx2o/RN6vV2z/LKnJfpYHkfnJdufz0LtmmsT9r8z3DnezM4O2xSsof89XWyfPDx4PMd389Khz+P2hZVNgQZmfX0l/OAs/z+/H4aO+HsFycfd52+1ig7nHltx338PglyapUOy34w29a8c5u7/ju+1iGtv+9MG1PoTJ45Lo3utE7Wj6b9ZUxL9uvmWNruFazTzuc97Czj4VbJflBsHxUWOvH7x1/O77dK25PO+w93yLCbfVq2m2z85XZfcNYnyDfQFJEFBU943m2y/Ssdkn3fWwfvuKyVxheCMwK3ufuOMhMREREREREREREr3bIUOlHHXqkTztBZhZZC5/o7He5ZT+4gt/O+GUR/ZH+3DAx2S6t7BpQpQSbl/GCnpM10j7VKz+B5mTSD66Z4eLhZugcHpLtlu7tst5AJf2auVKmVuq8dl+5Mq9S587VJdjpf6LgD6o/tkM4z05J9ziuZ6lqOy3Ez4O68v/2luMtk+YP8Ndslfahbul/2pvfOJAo+2/GB7bLjsU4Zfr9PGt3CZJe0vXpcOr5i1rvWX+9J6XvKDN47y3rZWVZLnZtH3atj+YKitk5ac/N55cXkm43uMna/3CcD/Z2y2yz/0U457y7PzLNbOvsHpO/l3e7ytr983l7oOMvY8WRnPqPaNhk22+jsI7NNtV9KS2fG2S+Pe4VbYaFTbJ8EOW2TXc+FctrT4+Q0Jsd3mvf0dlsLnWC9TZHj5NBs1qXWOUZMERJk62Sf9QuR5u+asqfYPooUOkX3T7AcU/TskB1f65O/8I+fXS+FsjdFz/RlGX691S2+apxMB85clulIoTP8krdsk/nxV5u9zB81JVH+uNSZ10rbmVAWiIiIiIiIiIiIiBVo2Qsdc/k1d6D/uWz+7Aosrq3QKThrIe/YKztCg9j+YHrcJdcuHncHz2tfiBYvQVmRLwfCy82dodPvnyky2SeN5nO+0uOfWTIm3eZsEfdsjPyAvqu7ztH1mpaB/eb93dJzOfjsRun7wPvsy6/vduf1igbntekBaTbzm2Ljco/sNl9/PchiTPoOdUjHa8NyxS1taiR9wi+sxrzcHnlp2F+mKXSyMjY5KZOuZvmXpWePszxT6AyN+a87mnWxFjr5jLJfN8+9kmP4BVMmhIpL2360qfZJNCc/V/OZwXbvH/C/l0LvhZfnOPySKdtC6+KfJRcUefmCLvxZxfaRLnSK7p9gOY+Zssz/fKVebsGxrZ4Pe+XXY8dzZ3/Zjsu2IX/ZnA2IiIiIiIiIiIiIVWJZC52gzCnt3i+Y01YEhM/QiVy+KtAb1I4Oyl+XyR90SPpR79JbOYPB85yFZUV4sLxg4DwYdC/QzG/OFBqQgcALobM2QuuVLwiKf3bB+hUpt1RREdaddkz6gsu0GR/Y5V+qzpk3dykz771tT/iX9Vqp0AmVHNFLkhUrdOL3STSnYttduD6B3roUmluXoJBzzJ+tVWwf6a+L7h/LcoJL5HmXuwv0s4pul3puWVYo14L1KLVEQ0RERERERERERNzilq3QocxZhwWD0sF9T7x76HiXDquRdGZMpq9FB9cjA+DBwP2Tzn4oOOPETB9YWA4UPRMivNzc2S7BGS/BMsNGB+ZtZ+jkP3t1Z+j4BdKZy/kzdJxs8uvk6Gz7dLB+16bl8oUe71J17uXSnEz9aa5/cFnOn2j1jl1zxswqCh3vDJ0d0nnBey+2XCi6T6I5hT5z1WfobJeOoVAGxungfe8yb67+5cuK76NIoVPKGTqhEsZbnx1ugWbWPbys4oXOKs/QodBBRERERERERETEKrEshc70Ga/MqflfGuV4+EwNc3+MyLRo0R+UfmRPq3Qc6pDWJ3d4N573y7FgML3uuR4Z6D8uje49dIJB7TE5/ph5XieNh45L9i/9EmBnm/QM9snxP/QH8mMLncj9YdxLqFkGzt3Bfu9+JeaeOz0njjvrWecWKXq5gf4gf/TeMO4l2wqLEnWPlky3dJZ6D50PBqTZzFdbJ82v9kjPq62S3pmW7rGgxNgurZmsZIf8ew+52zcsHebrR1ule8h5z9l2s27mMm2rKXSi99Bpe8I7A6egXAiKGes+KVLomH1b6j10Lh6XOvPeo2npyPQ4eTfLLufzsqECqfapPjn/ZqO7DG8di+2jyLYW3T+WQse/HF3jK30ycKLNO7aCZQVl0MO7pfVQn4xFCp7wPXRyx2XkHjoUOoiIiIiIiIiIiFhtlqXQCQZZCwwN8GIR/UHpwNqH6qTx5ax/rxpj/tJhtQ/tlrb9Xt7B2RKX+5tlh1tqpN0zK8bebJY6c3m22gdl93PN3mB57iyPwKA4SEvrc8Gy03L8gr/MgkLHGL70W608+HizdPvTF+oP8j/WLK1PPuiWCNt2tsmAuayZrdBxnL7QLc2Pe9PWPFAnzZnz+XX2L+HlXj7NbNehUD7vZ92b9Afv1e3vlvOmyHDXd7d/2S9vfXvGQvN82f8sd54eGbvmvL6aQsd5ns96hzT/oZeZrVyI3yfFCh3n+fsD0uZeGs5Z/y83S6Nb8FgKHUed33ZJuxkFRVydHL9opvNLotpmGfig2D4q3Nb4/VNY6Fz/YFg6/Xy37XSW/5R3xo63DtMy/Ee7vP31QIcMRwqdguPsy/7l8Jz3KHQQERERERERERGxWi1LoYNbUXupUj4tg/wV6NhY/gyl6e82b7FyoTr2ESIiIiIiIiIiImIlSKFTtVLorNvLPZKu3Sa7DvXIwIlOSbuXwsuf0ZJ8KXQQERERERERERERt4oUOlUrhc76nZbzmWape8i7t1DxS9AlUQodRERERERERERExK0ihQ4iIiIiIiIiIiIiImLCpdBBRERERERERERERERMuBQ6iIiIiIiIiIiIiIiICZdCBxERERERERERERERMeFS6CAiYuK9dOmS9fVqlTy05KElD63J481vTaEveWjJQ0seWvLQkoeWPLQmD9vv4WqVPLTkoSUPLXloyUNLHlqTx5oKHQAAgM3E/MICAFgLtkEnRERELL8AAACw8VDoAABA4qHQ0ZCHhjw05KExedgGnapV8tCSh5Y8tOShJQ8teWhNHpCHPDTkoSEPDXloyENDHhqTB4UOAAAkHn6BA8BasQ06ISIiYvkFAACAjYdCBwAAEg+FjoY8NOShIQ+NycM26FStkoeWPLTkoSUPLXloyUNr8oA85KEhDw15aMhDQx4a8tCYPCh0oDr4bFGWlv2vYX2QJdwH+AUOAGvFNuiEiIiI5RcAAAA2njIVOotyc+iINOytl/r6lLRkRuX2ov9WmOUlmbs+KoPfapH0W7P+iyDzo9Jeb7Lz8ksfyMjoLVuAUWalv75dRuf9pxDDgox3pqTraimZbgLX+6X+5AYe/+Z4enFUynVYzF9sD61vwrKEqoFCR0MeGvLQkIfG5GEbdKpWyUNLHlry0JKHljy05KE1eUAe8tCQh4Y8NOShIQ8NeWhMHmUpdJamMpJ6cUTmlpwny4sycyIt6dM3vTdDzJ5qkWOnRmX8rYMbO6C91XALnX7JDZl/fFbaUy1y9o7/QiwUOluSLV3oANwf+AUOAGvFNuiEiIiI5RcAAAA2nrIUOnMTgzJyI/QX+ysMWDNAHCFS6BgWLh2R1OtTYjoyWbwp2cNpSdXXS2pfu2Q/crJWZ/XUS/91Z7rleZnItLjT1e9tkcwVy5C+2Tddg/nlPZ+Vm/6umz1ZL12nsnJwb+HyUk1dMnHXm04Ru7x5GX3xoPSe7pKmlF86fTIumWdS3llIhwdl5lMzncfC1V5pyZ3hNSHz/iW9Fj/KSvs+b56DQzclOMrmr2Ss08e9brbN3Sa37MjK+NBBP89jMhpsl9ne15py2zHYVS/tFwszDK9T+nB4e519c8nLrz6VlmNj+Xnnr5gczH45KNlTXfbj35b38pycPZB21t09EmTxqleezjvTevn625tqkq5gf4cLneVFmR1ql7T72c4xcfG2n2Hh/rFtl8ktOMbq/WXmsjTE7VNzXJwYyef5zKDMBjsPYA1Q6GjIQ0MeGvLQmDxsg07VKnloyUNLHlry0JKHljy0Jg/IQx4a8tCQh4Y8NOShIQ+NyaMshU6Um6fScuTSgv+sEAqdCJZCx30tZV5bkqnXU9J+bs59eXG6V9L7z4r3TJ+hM3euRdInZmTRlBifjDjLzMjUZ957OcxA+76MTJh5zNlUJxtyxZEZqE/nSpAlmX2rQVpOz7rLW7zWLw1PZ+W2eStM7PJMYVAv7UO3vfX5zFnXfQ3Sf82vE65kJH1gxNsOZ11b9vXKlDlk/GW0mO01Gew9JuPusudk5HBKuiac+T91Xnemn7lnXp+X8W+l5NiVIq875EoIN+v8esyda89tv5tfsP33ZqT/aUuh89mUZFLtMvKJ87V/NlrTD81WeNvbcDKUf8rP/1ZWGnLrteBuX+HxXyTvjwel4YCzz5dvyuDTwZlbkXzdz2vx1itU6JjvtdRhJ2d3m25L9sWUZKbM1kb3T9x2ecsIr28uy2L71BwXkeW5+xRgjfALHADWim3QCREREcsvAAAAbDxlL3QWr/f7g8/+CxYodCLEFTr+a0vODsrdhH55Rnpz087qS66pm9XPy8izlsuxmYH28OW47o7IQbc4Cg3UuzjLTh2TCVNCuKx2eaYwCE1/rVfqj07kzrARmZOz+5vccmL+wsFceeCyvCSLn4ksjLXrS/eZZZjj5t6EHEu1y9mPF/TN+eNed8htW6jscMmtv1nftAx+7L/uYOYpKHTMui16Z8u4BOsU3d7QvinYPvOZBcd/sbxNIdIgB59tkYZcHl4hk99f4kzjrO/YQmgbzTL0Ni1dzUh9JijcQusbu13O4uIKnSL7NLqNfM/DeqHQ0ZCHhjw05KExedgGnapV8tCSh5Y8tOShJQ8teWhNHpCHPDTkoSEPDXloyENDHhqTR3kLnbuj0h53aa4QDO5GiCt0/KJl8daoZA54lzTzLn8VU+h8OiOD32wITRcuGHyiBYy7DEuh465TsJy8/X/uzO9/7ZYdscvThUHhPs8XEuZzbZc2M6+HP9vV/6zFW+PS625r5BJtMa/nti220DHrrfOyr9ei3L6YkRb30mT+OrnbFV/oFCzHVujE5R3sD3OWj1q/wkLHZOx+Tm4bC7cpv73R9Y3bLm+54fU122M+t9g+jW4j3/OwXvgFDgBrxTbohIiIiOUXAAAANp7yFTqLs9Lf1J6/H0kRGNyN4A7m60Infw+dORk50CD90/4l7NS04QF7/9JsF+b8s1Msg/mGaAETd4aOeyaQ5ZJtUWKXFykMzNkc7pkhAaEzdJzjwXaGTsGZLTaWF2TqRNo7MyVM5PXctsUWOmZ9SzhDx1we7ul+mQl2R+5YjhYk+fxLOkOnaN4LMnHU2bed7dLgzOdlGCpPfOxn6PhnzPjEnqETu136a0MuyyL7lEIHyg2FjoY8NOShIQ+NycM26FStkoeWPLTkoSUPLXloyUNr8oA85KEhDw15aMhDQx4a8tCYPMpT6LhlTpP0X89ffCmHugyYB4O7ESKFzsLHZ937oXgD8TdlcF+LZG+5b3n3KQkXOqmDMuKWaIvuoH/G3GPGPLuVdZYZU+hE7nmTdvaFGZTPDdS7eAVRyynvni6yNCejb5yV26GrcrnELi9SGKziHjqzp1ukYei2//oxGTX3YXFYmM5K/9UFWZrKSOpFZ16zLv79WUyREfe6IbdtsYVOiffQ+XjQWe+s3DbTLM/LRCbtH8vxhU6wfSvdQycu78VrvZI267g8J2cPNPilk1fo6Hvo+J8X2kbzvRZ/D53Q+sZul3fpu/oTM+7XhlyWK91DJ7SNfM/DeuEXOACsFdugEyIiIpZfAAAA2HjKUui4g7Why0R5msHiRZnoSsmR9/w/+/dhcDeCW+gEuaUkfbhXxm/ly7HFj7JycK/zXiotx85lpctk+6n33s2hJvfyYv03nCd3J6SryVwyKyUtb5yV/mf918OYgfb9x6TrsHcJt9TzWbnpf1RuoD5g8baMZlq8S7jtbZHMlVxbkSd2edGCw+GTcck8461f+vCgzPjbYFi42istZhsjl0pbuDYo7e5lwMw8wbIXne0+Ig0F08e9Xlqh4xYZr5k8ne14ZlD6u+rl2JX8fvAwn3HQm2bfMRkZ6pL6w6OyULC9oULHYf5KlzSlTI4HJXvKmcd2/NvyNmXp00GJI7LkrG/avUeVX+h0ZbzcUk3SFeyf8DaagmyoXdLuZzvLvHjb2QJ3osj6xm2Xw4JzXJnP8J+r4yRun1LoQJmh0NGQh4Y8NOShMXnYBp2qVfLQkoeWPLTkoSUPLXloTR6Qhzw05KEhDw15aMhDQx4ak0d5ztCBrUO4wCgH5V7e/eTevMwt+KcgLZgzdFpkxD87KHl4hY4q4AAqGH6BA8BasQ06ISIiYvkFAACAjYdCp9qg0InnkwnpDc402hdzRlJioNCB6oJCR0MeGvLQkIfG5GEbdKpWyUNLHlry0JKHljy05KE1eUAe8tCQh4Y8NOShIQ8NeWhMHhQ6AACQePgFDgBrxTbohIiIiOUXAAAANh4KHQAASDwUOhry0JCHhjw0Jg/boFO1Sh5a8tCSh5Y8tOShJQ+tyQPykIeGPDTkoSEPDXloyENj8qDQAQCAxMMvcABYK7ZBJ0RERCy/AAAAsPFQ6AAAQOKh0NGQh4Y8NOShMXnYBp2qVfLQkoeWPLTkoSUPLXloTR6Qhzw05KEhDw15aMhDQx4ak8eaCh0zIyIi4mZ7/fp1HnnkkUceeeSRRx555JFHHnnkkUceeazKxzUVOmZGRERERERERERERERE3BwpdBARERERERERERERERMuhQ4iIiIiIiIiIiIiImLCpdBBRERERERERERERERMuBQ6iIiIiIiIiIiIiIiICZdCBxERERERERERERERMeFS6CAiIiIiIiIiIiIiIiZcCp0KdPpMh+x6bJd0nJm2vp9Yh9qkpqZGdmUuy/XxHml8bIc0nnC+tk27Jqdl+KVdsuOJDhmetr1fHrPP1TjbsUu6x+3vl9/L0vPUDtnxVI9ctr6/Xi9L9xNmm9ok6zzfssfXRrshxywiIiIiIiIiIiKiZ5kKnWk5n2mWuodq3QH5bY+mpe27Y5bp0KpfZIQ1GXb8YNI+/QpO/6BVttVsk+b+tc3vOt4tu8y6PJe1v78RRgqd3bW1suPlYfu0JarLlWkZfmG71DzQKH3vF05bLu9LobOnVmq/1CnD1vfXa7TQaZPtzvHV6B5fWWkzx8kT3eUvk+7HMbgey3TMIiIiIiIiIiIiItosS6Ez+Waj1NbUyPavdEh3plPSXzLFznbpeEdPhzH6RcYje1ql41CHY7PsesAMoNdK6+B9Ogvifhc6tvfX4OaXK/fnM9fl++dlYHBAzseWXLrQ0e9R6CAiIiIiIiIiIiJuhuUpdC4MyMDgsFwOLmP1g9ayD8xXtLYi40Kn7AgGs4P3v94m6Ydq5ZGXzBkAk5I9lJbtbvGzzS3TssGAfHR5Y33S9uUH3dKt9qE6aX4zf/bU9IVuad65zZ2+9qHd3llBwUB6oGWw3p3vcW+ZNbUPyu5DWZl03/MH+Hc2SrP/mdt2NkvfmHnPLwZqd0vz/jrZ5rxnPrPzHb+0Cq93wWC+2d7d8mCt85qzvXX7u+X8B8XXxStW8rYNFZYt4XndbDLnZdr9vGA7WqXDtq5hPxiWzmBbn+iUjj/UnzH5gw5JP+plrM68yu3XDn8f1MqDT/bI+XPOOrmlqPd8zP+c+MzDhUuQcaO0BXk94GxXf5HvRX89TD7W96OFTm4/nfQyyhkUPpMy/Gqj1OWOzU4ZdveVn+nvt0rbk852PNwhw+o49o6V7gtOxrZjMHpcq2PEtmxnmiLHfs7cftDfX9ZteKdDHnGm9aZxnk/2SaP53K/0yKTlmLUtY/q7ze7nNX/XHEvTMrDfef+x495+HvOWseMVznBEREREREREREREbVkKnZwfTMrk5WHpfuoRd9C+Z6ucoXC/jQ5UO15+3TvrqfaF4dz77gD/l3ZI85uXZfil7e7zHU92yvFXm6XODNw/6g9ih5c3nZW2h533auuk9dXj0vEVM59/9tT7fdLozpeWzky3tD5uSoQ6OT7iLP/1Vq9QcpY/cOayX3IEOss08z3cLN2DA9LdYpZZI41vhi7B5XxG+lC3dL+clu3muVsKBcVArdR97bh0Z1q99X64TbKmDAyvd2RwPNjeupb8MmtbBpz1il8XUzR2Pmk+b4e0vu6dgaIKnWD7H9glbblsaiPbsU12PRfajj3R+9RMy0CLV76E1y33Ge90eOv6JSdj5zOa3Yz9/IP9aj7fyb9jj/N9Y3meW5/YzC2Fjn9s5DKubYu/HJu/HqsvdP5Szg92Stqs82Ot0jN43i2YLmd2ue+bAiM4Nmuf6nPeCzI15coO2fG1PvkLf9pdL/XJQH+n7Ha30dzjyHIMho8Psx62QscxWPblYsd+btvy22MyC76/4rdhWDrMMv0CJihn0iec/RA5ZmOX4ZdAXink71f/ePGWVyttZyLriIiIiIiIiIiIiFVvWQud8BkRu1/lL8xLNjegHPGBtPSYM1v893f80Xl/nmFvEDj4q37HsVd2ONP4A8GhgW9zOTzztTvgbKb1zwAwg8mXX9/tvtf6A28Z1y/2uZd86zY3uy8426CIF4+7A+9u+RQMrOfO6vHPQKjZLT2XI8WAY9x668/3t/f3u/3tnZTsqx3S8VJfbvvt61J4Rk74ebD93pkSzvvTA9JsPtMtbaLbMSbdv2/mza+7Z+G+yH49/xnDL5gCZ4ccv+hPH16/8Paa94Lnr/nfO9H3w6rttBU6+fUMr094GeHvV2XBPo8rdMx6RXPyC4/gDBlH7/MbpW/Sn/axTjnvv6cNHyvO8+gxGM3DVuiEll3s2Pc+z9dfbvj7K34bTLloirbw/nW+T83ZcZFjNn4Z/rFkyh33jJ9H5BFnWlPOectuloHgbEdERERERERERERE3/KfoTM5JtmXzF+m1/o3TbdMh1p/QDl/D53j0jN0Xiav6ffzA/vRQfTINKGvg7MECnwum3vPembGCoVO+DJi4WXa1i1fohSWDWodwttgG6wPb2/I+HUJf7Y3rSp0CrY/vH7Rzyxcd89i21v4+Wr66H5d4Xn8dobXrXA9C9fBc+xNc6w5PlXnLqvuKf95wWXJIstU6xXdfv95gebzC7O6/sF56d5f519KLzyt895aCp3Qsosd+952+UaXW3QbnPf9y641vpmV4485r5vLrZn5bOtToLcMt7ipbZPjptB01rnnkPN8/3E5vseZpuAsMERERERERERERMSyFDrTMvyaGQjuy//Vvf+X8AUDp2i3YEB5pffXcIZOZkwmJ03h5vtB/gyV3Bk6/s3xh8dXOEMnuG/Ik90yZu4rUnRgfSPO0JmWy2fMfZvO5y5fZV+XFQqdVZ2hE1fobMAZOrbnRbdzbYVOTv9zVn/JNbOe0Zz8M1P+N3NPp9Dx5uheHk9NG5ztssO9r5C5rJ9a1+gxGM2n6HEXOkPHcux72+UbXW7RbQi9v7NO6szygzOAIsds0WW49xmrlVrn2KkzZzM661Bb6zx35uf+OYiIiIiIiIiIiGizLGfojL3q/YW/uTF/dya4Twhn6JRswYDyyu+H76GTu0+K7R46HwxIs3mvtk6aX+2RnldbJb0zLd3mUm5x99Ax5UNQbjy8W1oPRS5tdrlHdpv3drZJz2CfHP9D734uamA9eu8Z9yyGoBiIrHdwWarwekcG82PvoVN0XYLCyDv75PjQpC4MwvfQcba/03YPnRULnVXcQyeXsb6HTm6/FntedDvvZ6Ez5p2l4hw3jYeOS3bSZB76eXDCyXX/Lqlz1tNa6LiF1yPS+EqfDJxo846HYF2jx2BwTPjHa9sT/tlK4eMutOyix34wjTGau2P8Nnjve0WUs+zgcmvm9cgxW3QZQUEXlH3BtjrHEffPQURERERERERERJtlKXTMPU2GX22UugfMgGSNbHs0LW0nzucGP3EFLQPKK78/KdlDadnuZl4rD37ZnAkQM/37WfeG8NvMgHHtg1K3v1vO+2cpTF/oluad3sB47UO73TMlvOVPy/Af7fLmeSB/H5DAsTebvf3tLG/3c83eQPb+gfyg/WPN0vrkg+4ZB9t2tsmAu25BMZCW1ufq3GXXPpSW4xf8M2TC6x0ZHPe2d7d/aa5tahvi18V5f7xPmr/kFS7pE5cLyg13+x/31rPmgTppzgTHbamFjuMH5+V4blubpXmP+bz8Z4QvlaYyju6nFZ7Hb+c6C51r096ZI8El/gosVuhcl8v9zbLDLU7S3r1vnGPnfMZZ14dMDt7PA2+bbaXLsHR+OZ9d61PeGTveGU3RY9B5/rJ/DJh99VJr6BixLNtY5NjPGc3dNW4b/Pf9y67lLrdmLDhmiy3Dv49O7h47k9L3lPOc++cgIiIiIiIiIiJijGUqdDBRWgeoN8uYgXXXIqUIIiIiIiIiIiIiIiLGSqFTUU5K9tWO3CXv4i+htZFS6CAiIiIiIiIiIiIillsKnYrysvTsMYXJNqk7lL/fx+ZKoYOIiIiIiIiIiIiIWG4pdBARERERERERERERERMuhQ4iIiIiIiIiIiIiImLCpdBBRERERERERERERERMuBQ6iIiIiIiIiIiIiIiICZdCBxERE++lS5esr1er5KElDy15aMlDa/L4+2ef5ZFHHnnkkUceN/jR9nu4WiUPLXloyUNLHlry0Jo81lToAAAAbCbmFxYAAKwfM8iEiIiIGy8AAMBGQKEDAACJh0JHQx4a8tCQh4Y8NCYP26BTtUoeWvLQkoeWPLTkoSUPrckD8pCHhjw05KEhDw15aEweFDoAAJB4+AUOAFAebINOiIiIWH4BAAA2AgodAABIPBQ6GvLQkIeGPDTkoTF52AadqlXy0JKHljy05KElDy15aE0ekIc8NOShIQ8NeWjIQ2PyoNCpJJYWZWnZ/3orsLzkHHxL/pP1s3SvfMu6L5Q5DyufbbFjpExs+WMD+AUOAFAmbINOiIiIWH4BAAA2gjIVOotyc+iINOytl/r6lLRkJmTeNmi8vCRz10dl8Fstkn5r1n8RZH5U2utNdoEmw1G5vei/XxJLMnMiJe1jC/7z1TIr/fXtMjrvP90wzOf0O/91+GhQUk1n5bb7+mqZl9EX66X/uv/003E5srdLplaVWYlc75f6k5twvK4rj3jmL7ZL+0WzYxdkvDMlXVdNSJH8yoD5nE3JabVs5LEBmwaFjoY8NOShIQ8NeWhMHrZBp2qVPLTkoSUPLXloyUNLHlqTB+QhDw15aMhDQx4a8tCYPMpS6CxNZST14ojMmT+CX16UmRNpfwBZM3uqRY6dGpXxtw4mc+D3fuEWOn7JYVhekJtD7ZLqmpDNG4O+D4XOuih/IRHLZhU6a2XhtszcmJe4c1DyhU6YKip0oCLgFzgAQHmwDTohIiJi+QUAANgIylPo3J2V2bv54eSVBnYZ+I0QLXQMwWvm8dleGXytSVIvjoo7LP/JuGSeSbln8qQPD8rMp+4cMnuyPjRwb86aapd0ql7q9x6U7Ed+NbS8IFNvtEjKnAm0t0UyV5zpI2cIFQzyL8/LRCYyj8EUHV2Dkj2cdt9LPZ+Vm+7HmLLgoPSezkiLOWsr1SRdwTzhQsd8brBNtvXymb/iLyd39pdZhreuRm+bdVG0eCMr7fu8jMJnO5mMei9MSFeT/96pWWtpNn+lS5qC7E515Y/X5UWZzeXqrOfF29787n7ql7P+NqSaumTi1m0ZOepn88ygzAYftHgzn9m+9vy+CeVR6nq6mP0Q5GghXOiY5fZft+XncHcid1w1veafZWc5/gr3h7fcYHnuuoT3rSG0jmbarlNZOegswz3WQseXm9tddw5FSfN8NCjpo6ES1PnMVOe4LESODdt23jyVlmNX/Dk/m5JMfUamPvOeLl45JunTN70ncN+g0NGQh4Y8NOShIQ+NycM26FStkoeWPLTkoSUPLXloyUNr8oA85KEhDw15aMhDQx4ak0dZCh3F8pyMHE5JZir+nhUUOhHM4Hd4wHl5UW4PORmZwWn3vXbJ3goGm2elf1+D9F/znpvB9fSBEZlzvjaD3sHg/PxYu6S+Ne4Nyn8yIu17u2TinsjcuRZJn5iSBfP6vRnpf7pFRj4xc5hBb/sZOt48M7IYLCsY7DaD9PsyMmHmMWdmnWyQ1OtTsiTe2R/tQ7fz86TCn1NY6MSulzNvy75emXHW3T22nOVmrppjK3qGSWS5qXZvfj9Lb728jFKHnbz8z+ndF6xXiFtZach95oK7XcHxao7d/Py3Jfuif6z7+2nkjnfc3x5qkXrz3F22d9aaVwosydTrKWk/Z/aY8850r6T3n3X3XziPktYzYNWFjvuqzs8cV07mgzec48rflw3O/gu2K3f8xe4P73Ny39ehbXGJFDrp3GUZl2T2rQZpOT3rHiuL1/ql4elswWXnSprHFH2pfBFz83RQ0jivB8dG3Haa8sc5xg3uGYepVC4bcynD/HEG9wt+gQMAlAfboBMiIiKWXwAAgI2gjIWON0Bs/kK/6Y0Zb2A+BgqdCO6guZedZ0oavpmVWTNoHh0Yv9brFT3+U5E5Obu/Sc7e8Qa9vYH7BRk9nJbBj70pDDMnzOD9vIw8602bI3eTfDPoHXPJNXUjfbMMf7pokXB3RA6mzMB5tGzxPt+7v09ocD23bUXWa3lJFv0BesP8hYP+NsYXOmYadUZF6IwLk1F+nsL1NJj5m37oFS4uZjvd49Wsp8516WpG6jNTslSkwHDJLcOZx/mGy+W5PCO9loKrlPU00+SPmcDCfVhSoXOjX1Lh48rsS7Mu0e2K3R/e55Ra6OS3ZVb6U8fcstEjdHyFKHWe2ZMpv2Ay3xfBNM70QcZx23lvQo7tGxRz1MyebJGzFwelxT2GzHLyJRHcPyh0NOShIQ8NeWjIQ2PysA06VavkoSUPLXloyUNLHlry0Jo8IA95aMhDQx4a8tCQh8bksQFn6HhnNLT4ZyDYoNCJYAa/gwHnKJGB8cLs8gPzZtDbG1w3A9j1BYP97Rcn4ksbd56Y9z6dkcFvNriXt1KlQbS0yA2cFxYQ+VIhNLie27Yin22Op1NHpMG9xFewHWbC6GfklzubyyEgv3zzXn6e+KJEzZ8rY/LLyRFkUKTAcMktQ2Tx1qhkDniXXPO2KZpHaeuZo2A/aEopdNzjKrc+ofWKblfs/vCXsdpCx0ynPtMzuq0lz+N8Tsqsw52z0uRebs1g9puXcex2unmYfXtTBp8ZlJvmbJ8DZ2Xu08h2wH2DX+AAAOXBNuiEiIiI5RcAAGAjKEuhs/B3M+oeOqUMMFPohHAHqP1B/SjRgXFzho45I8R/aj9Dx3LGi4sZtF7tGTr+JcIuzBVOF93P6zhDJ2693MtfmUuP+Rsc3sa4QqfgDJuynqGj13P1Z+jMyciBBumf9qoGte9DyyhlPXOU8P22UqFTeFz5RLYrfn94n6MKnWdH8usUWke1be4ZSiufAVPyPKaI2dsvoxfa5cglP+PwMRe3nQ5zP2ySzOlBaXG3wTnuM02SHerVxwLcNyh0NOShIQ8NeWjIQ2PysA06VavkoSUPLXloyUNLHlry0Jo8IA95aMhDQx4a8tCQh8bkUZZCx9w0PHe/j/B9KQzqcl0eFDoRwoP6USID6qXeQ8e9J83RUX+fLMjMUL9Mfeq/nrtXzawMHmiQ7C0zh7Pc1EEZKbgh/aJMHE1JZsL7vMVbWWddQ4VO5B46aWe/2u+hE5RFocH10LbFrZd7bGUmvOW496wJttFcVq5eeq85X7pEllvkHjr5YiSmKFH3iVnFPXTC+ym20Lkpg/ta/Myd2cz+W2+h81FWml4LzkYpxF7oRPIzpVfKv7eMw9KdUel953ZBURW/P5wljjnf1/59aLwSzdkH5njyjw1roWOKk9dT0nLKux+OLM3J6Btn5XakcVnNPLPmONx3RMZzgczmj4247TRPPh6UhlRwyTZ/W1MN6hJ7cP/gFzgAQHmwDTohIiJi+QUAANgIylLomAHb2aF2Safqxdz/pSV38/JFmehKyZH39FAzhU4EM2heaqFj+GRcMs+k3KzThwdl5lPvZTPoHQyue5fG8vdJKi3tQze9+4Y4r0+90eJd7mtvi2Su5Jd8c6jJeT0l/Tf8FwLuTkhXk/d5LW+clf5n/WlMSbH/mHQd9i4flno+KzfdD/ELna6MtJhLc6WapCv3OaHB9fC2xa3X8rxMvGbWy1n+M71y9q2DknrLS2phost9veDMH4fFG1lp3+evc2ZUbnvj95FiIL4omb/SJU0mu70HJXuqK3+8ho91s54Xb3u5RvdTbKHjrNtHWTno5pKWY+ey0mUKMrMPQ8sodT1LwV7oRPNz1stcCs49rkzWGZkwZUx0u4rsD2eB0mW26/CoWy7Njx3L53S617tXjfO63jaHxdsymrEfkwGrmsfJOpW73JphVh8btu00uCVU6N485r469b0y4/4sg/sNhY6GPDTkoSEPDXloTB62QadqlTy05KElDy15aMlDSx5akwfkIQ8NeWjIQ0MeGvLQmDzKU+hAAjDlWb0cu+I3F5tBtLTIsb4CAgAgCr/AAQDKg23QCREREcsvAADARkChUxF4BUqqqV9mN7HPodABgM2CQkdDHhry0JCHhjw0Jg/boFO1Sh5a8tCSh5Y8tOShJQ+tyQPykIeGPDTkoSEPDXloTB4UOgAAkHj4BQ4AUB5sg06IiIhYfgEAADYCCh0AAEg8FDoa8tCQh4Y8NOShMXnYBp2qVfLQkoeWPLTkoSUPLXloTR6Qhzw05KEhDw15aMhDY/Kg0AEAgMTDL3AAgPJgG3RCRETE8gsAALARUOgAAEDiodDRkIeGPDTkoSEPjcnDNuhUrZKHljy05KElDy15aMlDa/KAPOShIQ8NeWjIQ0MeGpPHmgodMyMiIuJme/36dR555JFHHnnkkUceeeSRRx555JFHHnmsysc1FTpmRkRERERERERERERERNwcKXQQERERERERERERERETLoUOIiIiIiIiIiIiIiJiwqXQQURERERERERERERETLgUOoiIiIiIiIiIiIiIiAmXQgcRERERERERERERETHhUuggIiIiIiIiIiIiIiImXAodLL9DbVJTUyO7Mpft7weOd8suZ7qa57Lu8+xzztc1u6R7/LpMn+mQXY/tko4z04Xz3XcvS/cTZl3bJGt9fwOMZBXvJq5byeu0Ssd7pPGxHdJ4YoXjBxEREREREREREbGKLH+h806HbDeDvE90y2Xb+1ioX4AE1j5UJ40vZ2XSNm2BWWlLWt5lKXTanONomzT2TxbOd9+l0HEtU6FzObPLPV7ahvzXxntkd22t7Hh5uGBaRERERERERERExGq1zIXOmBzfaQaTHSl0StcvQB7Z0yodhzqk9ckdUus8r93TLWO26ZWVWegUTJsoKXRcN6rQQURERERERERERMQCy1roXH59t9Q+/Ig8YgZ5KXRK11KADL/wiPNarbQOmkuOTcv5TLPUPVTrTlf70G7p+IE5c8Uvc3J6g/jTF7ql+fEH3VKopvZB2X3IdrZPMPDfKB0v75YHa52vH6hzljsm2UO7ZJuZ1zwfCi55Num8npbtD5h5tsn2r3RI9v1gWdMynFvGLuk81OiuT257xvqk7cve+pizj5rfHPNeL1boqEz87dzZKh3769x1Mxl0vuOv27Ux6Qm93vzUjvxy3PULjMvRec//vLqWDmneuc35ulYe/HKnDE/78zrbELy+42sd0vr7Zl2jpclqM70ukz/okPSjZrk1su3RdH59HMfedNbV5F27Q5pfatXlibPNfc/5n+Hs47r9fX75V7zQmTxzXBrd7fA+z8twWDoeduZ5uEOG3ekmpe8ps4y09Dj7OPZ4Uvuv8HN1QRc+fpzP3tks3Remc2VOoLu/o0XRB+el29m/+W3tlvMfmGX6n1nbKG2H8nk3969QJCIiIiIiIiIiIiJuQctX6LzfJ421tdL4Zk/yzhhJurYzWt7p8IoxM6jtvG8G0x/Z3y0Dg93S+qjzek2j9E1OyvnBTkmb6R5rlZ7B8zJpyg8zsP1ws3QPDkh3y3Z32Y1vRi9dFgzA18qOJzul2xQdZjnR5/4g//BLZjnee8dfdd4zn/Go9970YKtX1jze6sznrI+7fv72TDvrY8qC2jppffW4dHzFLGe7dLzjrMNqC52abbLruW7pfjntXdZvT497jIXXrTvT6q2brdCJzTH/eaaQast0S6e7njWy+3Xz+cGZZ9sl/bLz+S11XrkRW+iUlmlwecLaL6Wl08mm+XFTNPnZXDzuTWtKF2d9Wt33nOduVtNOVl7hV9dyXI6bosR5b/tL5hJlRQqdIG+zzODzap3tf99kaJa3Q45fdKabHpBmM91XeoofT6sodILiZtdLfTLQ3ym73WV2yNvjw9LzdVPA1Uj6jwZkeHw6slxTLpltN/s+v621T/U56xbN29/3tW1+MYWIiIiIiIiIiIhYOZap0JmWgf21UrPzuIwFg+8UOqVrK3SiZymEHHvFDIDXStsZ83yFvC8elx1mAPyF6P1IogPwwfPWyHPz/rA3qP+Y2b/e/OF1GH7BDLj7ZYB5/wetznNveybf9M7WSZ/wC6Uxb7seMeXDagud3DaOSXfuDBl/3XJnl0TPDIlX5RjdB/56uut2uUd2m6/3D8i0O2/48/PLW12mltxC+8qc7WbWp/m7/tk84fWZ7JNG87VbuJh5/fVxM4iuQ16vtHnEK4zMa/5+cssZv0B0t/+MV3zl9lnY8PG0ikJHL8f8vDDv7Zaey7Z76BTLPjyv5TO/bp6vvO8RERERERERERERt5plKXS8G9j7ZxZQ6KxeW6ETPkMncrmqQG8AvDDv8GW8crrL8ZftGh0ML/bcsk9D61wwcB96L3pJrZxmfdZc6BRft/gioUiO0X0QXrfIetrKC/vrxZ8Xrmd+W/6iWMkRfF2gWW7cugWfV6i3zf5l157qk6xbdHmXWzPzxR5PKpfCz1XbF75sWm453ntFC52C7MPTr/CZ/muIiIiIiIiIiIiIlWAZCp3L0rPHDKLaLBxURosFhc60ZL+ev4dO7iyXzJhMX4sOgEcKjeDsjSe7ZczcZ8QyIO5ZvGzQz8twho6z7pOTk3kt66YG40sudIJ165Tz/rrFDeoXzbFYobPuM3Tsz9d9ho7Zx+FMJ8200c/M652hs106hsLzOPr3CfLer5M6c3m54OyfYseT2n+FnxveD8El3cw9gkyG4feKFjqrPUOHQgcREREREREREREr1LKcoTN5bkAGBgOj93TR06JFv0x4ZE+rdBzqkNYnd3j3pNnT7RYoweB+3XM9MtB/XBr9e9R4A+Bjcvwx87xOGg8dl+xf+gPgO9uc/Pvk+B969zzxBt3Dn1u8bCgoH2z3qSnlHjofDEizmba2Tppf7ZGeV1slvTMt3WPOZ5Sl0ImuW5vscs/AKRzUL5pjsULHZLyqe+iUlqm6h07uPjml3UPHvcShs811XzsuPSeOO8dMnVtUFX5myNAyOzI90v1ys+xyjpOsKWr89XHPCnPMXW4tKFRsx1PB/vPXqcW7z9EO92wcv9Bxy6tHpPGVPhk40abuczT93WZ3me7x/6azDWq54Xvo5O+fpO+hk99WCh1ERERERERERESsVMtS6GgLL4GFK+iXCYG1D9VJ48vZUBk2Jn3762Sb+95uadvvndEQnL1xub/ZGzyvTbv3JBl7s1nqTKlR+6Dsfq7ZGxzPneEQuMryQV2urFYe/HKHZP1LcpmC4fyrae9yWg/USfPXdruFR64ceT8rHV/Z7q6/Wae6/d1yvmxn6JjnoXy+1CyN7nu2Qf0iORYtdJzn7w9I205z2TGz7c5nuAVPvkjwXG2m+nJmZp3MGSzB8ia/25bfj/sbvTImWJ/o/ni8WbovFD9Dxzh9oVuaH3/QK6Qe2C7pQ+HjzL/sWuhya8bY4yma0VifNOcy6pSOPzTL8vfDB8PS+WXvc7ftbJbWp7wzdtyzk6ad957wMth2qPDeSvpybdvyx49lWyl0EBERERERERERsVLdgEIHcbMdkzFzxo/7dXBJLgb1EREREREREREREbFypNDBLe/lE2mpfWCXdJwYkB7/klycIYaIiIiIiIiIiIiIlSSFDm59w5fkCl/SzTYtIiIiIiIiIiIiIuIWlEIHEREREREREREREREx4VLoICIiIiIiIiIiIiIiJlwKHURERERERERERERExIRLoYOIiIiIiIiIiIiIiJhwKXQQETHxXrp0yfp6tUoeWvLQkoeWPLTkoSUPLXloyUNLHlry0Jo8PnjlbR555JHHNT3afq5Uq+ShJQ+tyWNNhQ4AAMBmYn5hAQAAAABAMjGDsoiIaxUASodCBwAAEg+FjoY8NOShIQ8NeWjIQ0MeGvLQkIeGPDTkoTF52AZpq1Xy0JKHljy0/DzVkIeGPDQmDwodAABIPPwCBwAAAABILrZBWkTEUgWA0qHQAQCAxEOhoyEPDXloyENDHhry0JCHhjw05KEhDw15aEwetkHaapU8tOShJQ8tP0815KEhD43Jg0IH7i+fLcrSsv81AEAM/AIHAAAAAEgutkFaRMRSBYDSKXuhs3itV9L17TI6778QZnlJ5q6PyuC3WiT91qz/Isj8qLTX10u9a0rSBzIyemvRf7MYs9Ifl/Vmcr1f6k8W35/zF9ul/aK3ovmvF2S8MyVdV0vZVgCoZih0NOShIQ8NeWjIQ0MeGvLQkIeGPDTkoSEPjcnDNkhbrZKHljy05KHl56mGPDTkoTF5lLfQWb4pg00pScWUDLOnWuTYqVEZf+vgigVAVeEWOv0SJLLw8VlpT7XI2Tv+C7Fs9UIHAKA0+AUOAAAAAJBcbIO0iIilCgClU9ZCZ+6HB6V9bHTFksEM6FPohIgUOoaFS0ck9fqULJknizclezgtqfp6Se1rl+xHi/489f5ZPfXSf92ZbnleJjIt7nT1e1skc8WyE0z50pWVkaP+8p7PyuydKel9JuWdHXR0VOaDS6B9Mi6Z4PXDgzLzqf+6w/yVLmlKmc85KNlTXfn9GVqHVFOXTNz1Xo4rdGZP+ututufFrIwPHfS385iM+vO6y3ytKbe+g131FEIAVQaFjoY8NOShIQ8NeWjIQ0MeGvLQkIeGPDTkoTF52AZpq1Xy0JKHljy0/DzVkIeGPDQmj/IVOmZA/sBZmVte+awRCp0IlkLHfS1lXluSqddT0n5uzn15cbpX0vudnN1nOuu5cy2SPjEji6aQ+WTEWWZGpj7z3sthCp19vTK14Hy9vCgTmZT7fOaeeT4vIy/Wy7EriyKfOcve1yD917zLoc1fyUj6wIj3ubey0pCbZ0FmTjb4+3NJZt9qkJbTs+46LF7rl4ans3LbzF9KoVOf/7y5c+25QsvdrsyEVzTdm5H+pyl0AKoNfoEDAAAAACQX2yAtImKpAkDplKnQWZCJo00y+LH5mkJn1cQVOv5rS84OWgrOmlmekd7ctJGsPwtNJ/My8qxlP0QujxbdF7my5Vqv1B+dkPzdbebk7P4m9zJw8xcOStMPvUrJJbdMZ31Sx2TCFD0u+XUoqdB5cdSZw8cs030+L6Mvpv1jy8PMQ6EDUF1Q6GjIQ0MeGvLQkIeGPDTkoSEPDXloyENDHhqTh22QtlolDy15aMlDy89TDXloyENj8ihLobN4NSMN5swQ9xmFzqqJK3TcM3ScfG+NSuaAd4k07xJrMYXOpzMy+M2G0HRrL3QK95EpVrzypaBQCZbpbkfw2XnNPOESJ/z1yoVO4fFU8PkAUPHwCxwAAAAAILnYBmkREUsVAEqnDIXOgoweLhzEDwbybRSWBVWOpdDJ30NnTkYONEj/tLlGmoOaNlx2+JdmuzDnn6VTWIS4lFjouGfoZPx7+LiUcIaOe/aQ5TJvDmsvdDhDBwAodKKQh4Y8NOShIQ8NeWjIQ0MeGvLQkIeGPDQmD9sgbbVKHlry0JKHlp+nGvLQkIfG5FGWM3Q0kSJBXQbMg0InQqTQWfj4rLSnWtzyROSmDO5rkewt9y3vXjbhQid1UEbumq8XZeJoSjIT3nlSi7eyzjLXUegUu4fOJyPSEnMPHVMqtZzy7qEjS3My+sZZub0UWq7D6god7qEDAPwCBwAAAABIMrZBWkTEUgWA0tngQmdRJrpScuQ9/+wSHwqdCG6hU++f2ZSS9OFeGb+Vv3vN4kdZObjXeS+VlmPnstJl8v3Ue+/mUJOknHn6bzhP7k5IV1PKXUbLG2el/1n/9TClFjqGT8Yl84y3vPThQZnxP9Mwf6VLmlLOOu09KNlTXfllLN6W0UyLd9m3vS2SueItaz2FjizPy8RrZjvrJfXMoPR31cuxK/l8AKDyodDRkIeGPDTkoSEPDXloyENDHhry0JCHhjw0Jg/bIG21Sh5a8tCSh5afpxry0JCHxuSxAYUOQJm5Ny9zC/7F3xbMGTotMvKJ9xQAqgN+gQMAAAAAJBfbIC0iYqkCQOlQ6EDy+WRCeg+nvTN09uXP+gGA6oFCR0MeGvLQkIeGPDTkoSEPDXloyENDHhry0Jg8bIO01Sp5aMlDSx5afp5qyENDHhqTB4UOAAAkHn6BAwAAAAAkF9sgLSJiqQJA6VDoAABA4qHQ0ZCHhjw05KEhDw15aMhDQx4a8tCQh4Y8NCYP2yBttUoeWvLQkoeWn6ca8tCQh8bkQaEDAACJh1/gAAAAAADJxTZIi4hYqgBQOhQ6AACQeCh0NOShIQ8NeWjIQ0MeGvLQkIeGPDTkoSEPjcnDNkhbrZKHljy05KHl56mGPDTkoTF5rKnQMTMiIiJutsHvIB555JFHHnnkkUceeeQxOY/BoCyPPPLII488bsRj8PuGR87QAQCALUDwSws8yENDHhry0JCHhjw05KEhDw15aMhDQx4a8tCQh8bkYQZl0ZM8tOShJQ8tP081Jg8KHQAASDz8AgcAAAAAANia2AZpERFLFTQUOgAAkHgodDTkoSEPDXloyENDHhry0JCHhjw05KEhDw15aMhDY/KwDdJWq+ShJQ8teWj5eaoxeVDoAABA4uEXOAAAAAAAwNbENkiLiFiqoKHQga3B8pJzoC75TwCg2qDQ0ZCHhjw05KEhDw15aMhDQx4a8tCQh4Y8NOShIQ+NycM2SFutkoeWPLTkoeXnqcbkUfZCZ/Far6Tr22V03n8hzN0JyRxIS6q+XlL72mXw2oL/RpUzPyrtTiZHLlnyuN7v5tV/3X9eIrMnV55n/mK7tF+07ajyUMo6xDMr/eHj6KNBSTWdldv+UwCoLvgFDgAAAAAAsDWxDdIiIpYqaMpb6CzflMGmlKSshc6cjBxIS++UX1p8MiLt9cdk4p73tKrxC536AyNOSmGWZOp1J88UhQ4AVDcUOhry0JCHhjw05KEhDw15aMhDQx4a8tCQh4Y8NOShMXnYBmmrVfLQkoeWPLT8PNWYPMpa6Mz98KC0j43aB+IXZ2XkrYlQYTEvoy8yYO9iCp0XM5I50CIjn/ivGe5NyLFUv/SfCBUjn4xL5pmU1NenJH14UGY+9V9fnpeJ15q8s5+ez8pgV2ge816mxXuvqUsm7novxxY65kwq/zOaXpuQ+WXntY8GJX10Qha9KbwzhzrHxdRz81cy0rK33p2+JeNP75ArdNztG3X2uI8zb33wPLRu9XtbJHPFeTUouHwLlrG8KLND7ZJO+fNcvO2vl3dMZS9l5aBZn1Rajo1Ztg8Athz8AgcAAAAAANia2AZpERFLFTTlK3TMgPuBszK3XOKZFQvjcmTfoNz0B/+rGr+suHnpiKRP3fRfdCJyn8/IRMYvNT5zst3XIP3X/PriSkbS/lk9t4caJH1iRhZNngsz0v90UOgsyexbDdJyetZ9b/FavzQ8nXUvXWYtdMxnPN0igzecz1helJmTDdIw5Ext9msqI1OfeZPdPJ2WY1ecaT4ZkZZ9vTJjzrRanpORF+slc9W7100phc7cuZb8ertnbQWfETmOQssw65067Gy3mefebcm+mJLMlPlMU+jUS8PJ0PJC6wwAWxcKHQ15aMhDQx4a8tCQh4Y8NOShIQ8NeWjIQ0MeGvLQmDxsg7TVKnloyUNLHlp+nmpMHmUqdBZk4miTDH5svo4MxNtYnpfRwynJXM2d71HdmLJi/1mZUyWXuUSdOWPHKyncYuRar9SHz5Jxpjm7v0nO3pmXkWfNo/+yQ65MMfsjFb60nZnW2z/WQudGv6TCn3F3RA76RcrsSbPPTHFiPtdf5vKSLIYKk/kLB3PLLKXQkc8WZcndXkN+3QqOo9wyzDRp/1jzWLqakfrMlCw57+mzvko4FgFgS8AvcAAAAAAAgK2JbZAWEbFUQVOWQmfxakYazFkW7rOVBtEXZfZkkxw8fTNUTFQ5pqyo73eS8+6Z455tYs58cc++yRc6poCpPznrz2QI3ivMXJUpocuXhS9jZit03M8omN6sm4O5zJr5/Dtnpcm/3JosL8jMqSPS4F5yzXNVhc6nMzL4zQbvkmuuwXZEtim3DMvxlVsehQ5ApUKhoyEPDXloyENDHhry0JCHhjw05KEhDw15aMhDQx4ak4dtkLZaJQ8teWjJQ8vPU43JowyFzoKMHq7PDeaHdQfzI5jCoOnkLGVOmFyh42BKk8yEzJxKy5FL7h1q9Bk67pkoASWcobM8I725y5hprGfoFHxGCHPZtb39Mnqh3V83kaWpjHf5M38G87nWQufZEa/AMeQKGK/Aar8w55+lEy5gwl875Aqdwm3lDB2Ayodf4AAAAAAAAFsT2yAtImKpgqYsZ+hoIoPooUtqzY8dkfTh0dxN88EnXOgs35TBfWlJPx2UMKFCp8g9dNS9aCL30DGlScsp7x46sjQno2+cldtLzvy2QuezKcmk/HvoOCzdGZXed27nCp7Zkw2S3ndExr0+RxavHHMLKHfZ7v1sLIWOWaZzTIzcdb7278vjFTqLMnE0JZkJ77MWb2WdHEKFTuqgN48hV+h46x1/Dx0KHYBKhEJHQx4a8tCQh4Y8NOShIQ8NeWjIQ0MeGvLQkIeGPDQmD9sgbbVKHlry0JKHlp+nGpPHBhc6izLRlZIj75nRf/N6feGZPOoSYlVKuNBxMOVM6vXgLJlQoWP4ZFwyz6Sc7FKSPjwoM5/6ry/Py8RrTe6ly1LPZ2WwKzTP4m0ZzTjLNHnvbZHMFa/hsBY6Dou3Rv3PcJb1TEYmglLFYM4gCi63Zgh/7jO9cvatg5J6y9uSXKHjMD92TNIp//NP9+buyyN3J6SrydueljfOSv+zKem/4c4iN4fMcv3noULHlEKzQ+355V287Z/xRaEDUKnwCxwAAAAAAGBrYhukRUQsVdBsQKEDAABQXih0NOShIQ8NeWjIQ0MeGvLQkIeGPDTkoSEPDXloyENj8rAN0lar5KElDy15aPl5qjF5UOgAAEDi4Rc4AAAAAADA1sQ2SIuIWKqgodABAIDEQ6GjIQ8NeWjIQ0MeGvLQkIeGPDTkoSEPDXloyENDHhqTh22QtlolDy15aMlDy89TjcmDQgcAABIPv8ABAAAAAAC2JrZBWkTEUgUNhQ4AACQeCh0NeWjIQ0MeGvLQkIeGPDTkoSEPDXloyENDHhry0Jg8bIO01Sp5aMlDSx5afp5qTB4UOgAAkHj4BQ4AAAAAALA1sQ3SIiKWKmjWVOiYgTVERMTN9vr16zw6j4GlTl/pj4GlTl/pj4GlTl/pj4GlTl/pj4GlTl/pj4GlTl/pj4GlTl/pj4GlTl/pj4GlTl/pj4GlTl/pj4GlTl/pj4GlTl/pj4GlTl/pj4GlTl/pj4GlTl/pj4GlTl/pj4GlTl/pj8Y1FTpmAYiIiIiIiIiIiIiIiLg5UuggIiIiIiIiIiIiIiImXAodRERERERERERERETEhEuhg4iIiIiIiIiIiIiImHApdBARERERERERERERERMuhQ4iIiIiIiIiIiIiImLCpdBBRERERERERERERERMuBQ6W97L0v1EjdTUtEn2+rQMv7RLdjzRIcPTtmnzXs7scuapkbahwvemz3TIrsd2SceZ6YL3EutQm7s9uzKX7e+XbOkZxjreI42P7ZDGE+tdF0REREREREREREREzzIVOkGpoF3/4HqV6JcRYbc9mpaOH0zap1dGCp0XtkvNA43S975t2rzFC5022V6zTRr7S/n8hFjOQqfEDGMd75HdtbWy4+Vh+/uIiIiIiIiIiIiIiKu0TIXOsHQ8XCM1Oxul41BHzuNDW6gQuJ/6ZcQje1r97Jpl1wOmpKmV1sGVzpIJFzq29+0WK3Q21PfPy8DggJxfa1kSZ9kKHURERERERERERETE5FmmQicrrTU1UvsCZySsSVsZcaFTdjiv1TyXdZ9PX+iW5scflFqT80N10pw5L9PutLrQyT5nvt4l3ePmvWk5n2mWOrcc8s766XzHK4iCQqfxUKfsfqjW+Xqb1D03IJNmmWp9stJm1mNnq3Tsr5Nt7ufvzi3n+rUx6Qm93vzUjtDnW/SXXaxIcrd15zZ3upoHtkv65WF3WwtKqPB6+l/v2N8q6WB79vfJmLtMfxt+P7wNaek5d166v7bDz9R5PuYtV2c4KdlDu+XBWvNarTz4eLP0+dNdfz8rHV/29klN7YP5zxvvll3mNX/fectIy3Z3P2yT7V/pkKxfaHnbVCuNL3Tk94OznMvufIiIiIiIiIiIiIiInuUpdPwB7Ee+VOcNfNc+KLtfHvbKAVxZS6Fz+fVGr2gwJdn7fdJocn1gl7S9elw6vrLdKwHeNGdAFSl03umQR5xlbG/ploHBbml91OybRumbzJcjtY83y/GM897jpkyolbYz0fXxy5CabbLruW7pfjkt283zPT1u6TD8krcuO57slO5Mq9S5xcd6Ch3/bK9HW6V7cEC6W/xt7Z8sqdBxM3K2p9PNqEbqXh1zpo1sw0u73VwKnj/V5x6z4Qwn32x0vq51juc+GejvlN1m+x7tlPPXJ6XvKefr2t3S2T8gfS/vdvfX9pfPFxQ64YyOv9rsZfRohww77+X2w5fS0hndD24eiIiIiIiIiIiIiIjlKnTG+qTtqV2SPtQjA4M9/mB6UDhEpsVCgzIi6gPeWSOXX9/tPm/+rn9WzPSANJv33VKlSKFzps0rGVp65PzlSZmc9LSe7fKDVvd5uBxRhc4T3f5ZI2PS/fvB5w1LmyknHvbKCbMcfXZLXu91i7mzWAL9ZT7aKj0XLufWeXLass6WQsdbZ+c9lVF0G4Izdrr1GTz+++Ft8LI3hU5WxoJ1mTT74bL07HGmM4XO0Fh+PT9wlqcKHX97Hjvuf9Z1GXvFnMXklTZF94M/PSIiIiIiIiIiIiJieQqdqGPRS05hUf0yIn8PnePSM3ReJq957xcM+qsSp/gl14ZfDi4X5li7I3epttLLkWgZEv686Hvxhc7Ym/69lZ6qc5dd95T//E1zBo2edvqd4DJwZlm1suNr3XL+g1UWOmrdoutZ/LnehjHp8y/T5q7PA7uk4wd+UTnWl780nOO2J/xLqalCpzCj8LoW3aZgekRERERERERERESsestS6EwOHXcH5/su+K9R6KzOFQbx13yGzgfeWSPT16ZlciwrnXtMSbJbei6Xq9AJzj4xlyDzlhNX6OT0l50vpyKadTVnukxfl+nJMcn6lzLb/foK5Uc0w1LO0Cmh0JkOzshx1uvyhR7/snVtMnzdX09zRs4Hl+X8iVb3UnTuJfLWc4ZOdDsQERERERERERERER3Lc4bOxeNSZwawzU33Q/cBaR30Cwgs7kqD+OF76OTuD7PyPXTM/V9qnenM/V+yQwN+oaPvobO+Qid6D5022eXe+H8dhY6/rbV7OqVvKCsDfqHjbqszr3tfocdbnc/qlPSXvLN4wutc9B46ayh0vO3bLq2ZrJOhfx8i9xJzw9Jhvjb3+nHWM5vxCp1HXooWOjH3GYrcQ4dCBxERERERERERERGLWZ5Cx3HyzHFp9C8/VftQXe7SXrZpMWIJg/jTF7ql+fEH3UKj5oFwvkXO0Lk+LeczzVLnliw1ss0Ubme8y4WVq9AJX5Ks9kvN0ui+V6TQ8c/AmfYvJ2fT3dbgUmYPbJf0y8My6b4X+qyHdkvnocaCdU4/1+Ffrm2b1O3vs94jZzWFzvXrk5I9FFy2rlYefLzZva+Ru67vZ6Xjy/4+qX3Q+bweGTPbFSl0vGWkZbu7H5xlfNm/NJvzHoUOIiIiIiIiIiIiIpZi2QodrFbHZCwoOK5Py8D+cBmCiIiIiIiIiIiIiIjlkEIH1+XlE2mpfWCXdJwYkJ6X0+5lx/JnviAiIiIiIiIiIiIiYjmk0MH1+cF56d5f512SzL3sWLec/8AyHSIiIiIiIiIiIiIirlkKHURERERERERERERExIRLoYOIiIiIiIiIiIiIiJhwKXQQERERERERERERERETLoUOIiIiIiIiIiIiIiJiwqXQQUTExHvp0iXr69UqeWjJQ0seWvLQkoeWPLTkoSUPLXloyUNLHlry0JKHljy0Jo/O4YvoSx5avl+0Jo81FToAAACbifmFBQAAAAAAAACVhW0QHzEsaCh0AAAg8VDoaMhDQx4a8tCQh4Y8NOShIQ8NeWjIQ0MeGvLQkIeGPDTkoTF52Abxq1Xy0PL9ojF5UOgAAEDi4Rc4AAAAAAAAQOVhG8RHDAsaCh0AAEg8FDoa8tCQh4Y8NOShIQ8NeWjIQ0MeGvLQkIeGPDTkoSEPDXloTB62QfxqlTy0fL9oTB4UOpXCkrMjl/yvV8vyknMQrHVmAICNh1/gAAAAAAAAAJWHbRAfMSxoylbozP2wSerr6/O+OCrz/ns5lpdk7vqoDH6rRdJvzfovgsyPSns4u/qUtGRG5fai/34cZj4/55unUtL0w9ve6zHMnqyX/uv+kzAfDUqq6awUnxsA4P5BoaMhDw15aMhDQx4a8tCQh4Y8NOShIQ8NeWjIQ0MeGvLQkIfG5GEbxK9WyUPL94vG5FG2Qie2LAgxe6pFjp0alfG3Dkr9SQqdHG6h0y+5RJYX5OZQu6S6JqRopxMqdEqhlH0EAJBE+AUOAAAAAAAAUHnYBvERw4KmTIXOgowebpKzd/ynKzB/sZ1CJ0y00DGEX/tkXDLPpNwzd9KHB2XmU3cKVeiYTNsv+tXO3Ql/+npJPZORibvey6bQ6b0wIV1N3rJaTs16hVG4GLreL/UnRmTitSZJufMPymzQKi3elOzz3rxNrw1K77MURACwOVDoaMhDQx4a8tCQh4Y8NOShIQ8NeWjIQ0MeGvLQkIeGPDTkoTF52Abxq1Xy0PL9ojF5lKnQmZeRZ9PS9EzaLwHyJYINCp0I0UJneVFuDzkZHZ2Qxc9mpX9fg/Rf81qV+SsZSR8YkTn3ia3QMeVaWnqn/enfOyYpsxzna1PopA478y47T+7NSO++Fhn5xEwUKXRS7d7rznrMnEhLyznzaUsy9XpK2oduy6KZ/5MRaU9R6ADA5sAvcAAAAAAAAIDKwzaIjxgWNGU7Q+f2xIzcXPCezV1ol1TnuPOqHQqdCG6hU++eURPcQ6fhm1mZvee8d63XK3a8KR3m5Ox+/2woa6GzKBNHU9L+w5uysGSmz6MvuTYvoy/6z6OFTmjf5PfVrPTXH5MJs04uofkBADYYCh0NeWjIQ0MeGvLQkIeGPDTkoSEPDXloyENDHhry0JCHhjw0Jg/bIH61Sh5avl80Jo8yFToRlmektz4jU5/5zyNQ6ERwC53IJdd8CrOyFzH5Qsfh3m0Zf+OINOwtvOTamgudgnWk0AGAzYNf4AAAAAAAAACVh20QHzEsaMpT6Nybk5kb85I7IYRCZ3UUKXTcM3QyU/lsVzxDR7Mw1Svpw6Pu2VKcoQMAWxUKHQ15aMhDQx4a8tCQh4Y8NOShIQ8NeWjIQ0MeGvLQkIeGPDQmD9sgfrVKHlq+XzQmj/IUOp9NSWavf98VB3XJtc8WZcnccyUEhU6EYoXOau+hY/aFuQfOHa8CWpwuV6HDPXQA4P7BL3AAAAAAAACAysM2iI8YFjTlKXQcFj/KSvu+lHv/l/SBXpn61H1VJrpScuQ9fTcdCp0IxQodwyfjknnGz/bwoMy42TrYCh0Hsy+ONJjpy3jJNcPiTck+76/H0X7pfTYtgx97bwEAbCQUOhry0JCHhjw05KEhDw15aMhDQx4a8tCQh4Y8NOShIQ8NeWhMHrZB/GqVPLR8v2hMHmUrdKAKmJ+TOf8yekt3RqR9b/xl9QAAygm/wAEAAAAAAAAqD9sgPmJY0FDoQMks3jgrx9wzheol1XBEsh95l4EDANhoKHQ05KEhDw15aMhDQx4a8tCQh4Y8NOShIQ8NeWjIQ0MeGvLQmDxsg/jVKnlo+X7RmDwodAAAIPHwCxwAAAAAAACg8rAN4iOGBQ2FDgAAJB4KHQ15aMhDQx4a8tCQh4Y8NOShIQ8NeWjIQ0MeGvLQkIeGPDQmD9sgfrVKHlq+XzQmDwodAABIPPwCBwAAAAAAAKg8bIP4iGFBQ6EDAACJh0JHQx4a8tCQh4Y8NOShIQ8NeWjIQ0MeGvLQkIeGPDTkoSEPjcnDNohfrZKHlu8XjcljTYWOmREREXGzDX4H8cgjjzzyyCOPPPLII4888sgjj1v/MRi055FHHkt75AwdAABIPOaXFuQhDw15aMhDQx4a8tCQh4Y8NOShIQ8NeWjIQ0MeGvLQkIeGPDTkoTF5mBIDPU0eFDoAAJB4+AcNAAAAAAAAAEB1YSs1ql0KHQAASDwUOhry0JCHhjw05KEhDw15aMhDQx4a8tCQh4Y8NOShIQ8NeWjIQ0MeGpOHrdSoVk0eFDoAAJB4+AcNAAAAAAAAAEB1YSs1ql0KnSpn6d6S/9UqWV5yDpw1zgsAsEoodDTkoSEPDXloyENDHhry0JCHhjw05KEhDw15aMhDQx4a8tCQh4Y8NCYPW6lRrZo8ylbozP2wSerr6/O+OCrz/ns57k5I5kBaUs77qX3tMnhtwX8DFq4NSvu+lJtdquHIytnMj0q7LePV8Om4HNnbJVOL/vPV8NGgpJrOym3/KQDARsI/aAAAAAAAAAAAqgtbqVHtlq3QmT1ZL/3X/SdW5mTkQFp6p/yi4pMRaa8/JhP3vKdVza2sNOzLyITfziyZ4mtfi4x84j23Uo5CBwBgi0ChoyEPDXloyENDHhry0JCHhjw05KEhDw15aMhDQx4a8tCQh4Y8NOShMXnYSo1q1eRRpkJnQUYPN8nZO/5TG4uzMvLWhMz5T0XmZfTFdhmlkZDFiS6pPzHjP/OYu9IvIzcWRa73S/3JWf9VJ7WL7d5zU+g82y9n32jxznhq6pKJu/5EZp6urIwc9c+Gej4rs3empPcZcwZQStJHR2V+2Uw4K/31/c5/DYtyc6hd0ql6qU+lpX3opvNKkdcjhdLijax/hlFKWjKjctubyN3H2UtZObjXm//YGDscAFYP/6ABAAAAAAAAAKgubKVGtVumQmdeRp5NS9MzfoHwTCZfLsSxMC5H9g3KTbdYqHIWJuRYqkG6Lt6UhWgexQqd+gbpv+bVLnMX2iV1YMQrzMw8+3rFPRlqeVEmMin3+Yw5G2rZ2Vcv1suxK2a+UKFzo19SLzrzm8+/NyuDB9Iy+HGR18OFjvk61e6dUeR83u0hZ11en5Ilt9Cpl4aTM7Jo5jdnZaUyMvWZmQkAoHQodDTkoSEPDXloyENDHhry0JCHhjw05KEhDw15aMhDQx4a8tCQh4Y8NCYPW6lRrZo8ynaGzu2JGbnpX03NLRc6x51XY1iel9HDKclc9coIcPh0VkYyLZJOpaThm4MyE5zIUqzQCV9ybXlW+lPtMvqp83XcPD7meftFM2eo0Pl4UNJPZ2TikyXzLE/c66HPn79wUNKnb3qvGz6bkky9KW6iZ2GZz+OsLABYPfyDBgAAAAAAAACgurCVGtVumQqdCMsz0usO6PvPFYsye7JJDp4OLukFiuUlmZvul4N7/eKj1ELHPRtmhXl8rIWOw/x0Vo4dSEtKXXIt5vXQ58+erPeXFxAUNxQ6AFAeKHQ05KEhDw15aMhDQx4a8tCQh4Y8NOShIQ8NeWjIQ0MeGvLQkIeGPDQmD1upUa2aPMpT6Nybk5kb85I7h6NIoWPKhKaTs5Q5IXL3ywmRK0lMORO6v05soeNm3r72M3TCLM3JyIsp6b/hPw8Ivx45Q6fph/m7I3GGDgCUG/5BAwAAAAAAAABQXdhKjWq3PIWOGcDf699DxUFdcu2zRVny7wszP3ZE0odH/RvyQ8DClWOSemZQZoNr1C3MSP/TKclMLYncOStN5v43pu9ZnpORw6l8oRO9h05Q8Kyh0Jk71yLpE1PePXzM5/jFTdzrqlAyX8feQ4dCBwDWD4WOhjw05KEhDw15aMhDQx4a8tCQh4Y8NOShIQ8NeWjIQ0MeGvLQkIfG5GErNapVk0d5Ch2HxY+y0r4vJfX1KUkf6JUpc6aILMpEV0qOvGeaCjOYX++8HzFUNFQzcxO9cqTB5FcvqX0tkrl42z+LaVFmT7VIyn29XbKnuvKFzrO9Mpjx32vqkom77gxrO0NneV4m3Hv4OPskfGm1uNfDhY7D4o38/m/JjMptbyIKHQAoC/yDBgAAAAAAAACgurCVGtVu2QodAACAjYJCR0MeGvLQkIeGPDTkoSEPDXloyENDHhry0JCHhjw05KEhDw15aMhDY/KwlRrVqsmDQgcAABIP/6ABAAAAAAAAAKgubKVGtUuhAwAAiYdCR0MeGvLQkIeGPDTkoSEPDXloyENDHhry0JCHhjw05KEhDw15aMhDY/KwlRrVqsmDQgcAABIP/6ABAAAAAAAAAKgubKVGtUuhAwAAiYdCR0MeGvLQkIeGPDTkoSEPDXloyENDHhry0JCHhjw05KEhDw15aMhDY/KwlRrVqsmDQgcAABIP/6ABAAAAAAAAAKgubKVGtbumQscMrCEiIm62we+gan8MDJ5X+2Ng8LzaHwOD59X+GBg8r/bHwOB5tT8GBs+r/TEweF7tj4HB82p/DAyeV/tjYPC82h8Dg+fV/hgYPK/2x8DgebU/BgbPq/0xMHhe7Y+BwfNqfww0RQaPXha5Qif4AhEREREREREREREREZMphQ4iIiIiIiIiIiIiImLCpdBBRERERERERERERERMtIvy/wPk4pzF2St6gQAAAABJRU5ErkJggg==)"
      ]
    },
    {
      "cell_type": "markdown",
      "metadata": {
        "id": "FqUUB0wqCH3Z"
      },
      "source": [
        "We were forced to delay some sections due to outside events, but the timeline made it easy to plan forward and estimate how long we would need after setbacks.\n",
        "\n",
        "We settled on Google Colab as the best platform for colaboration, sometimes simultaneous, with some analysis done using Spyder."
      ]
    },
    {
      "cell_type": "markdown",
      "metadata": {
        "id": "79pLzdWOCSev"
      },
      "source": [
        "## Reference:"
      ]
    },
    {
      "cell_type": "markdown",
      "metadata": {
        "id": "lHd2XySyCSev"
      },
      "source": [
        "Bellotti, T. and Crook, J., 2013. Forecasting and stress testing credit card default using dynamic models. International Journal of Forecasting, 29(4), pp.563-574.\n",
        "\n",
        "Financial Conduct Authority (FCA), 2015. Credit Card Market Study: Interim Report. Viewed 06/06/2020, https://www.fca.org.uk/publication/market-studies/ms14-6-2-ccms-interim-report.pdf.\n",
        "\n",
        "Hand, D. J., & Henley, W. E., 1997. Statistical classification methods in consumer credit scoring: A review. Journal of the Royal Statistical Society, Series A – Statistics in Society, 160(3), 523–541.\n",
        "\n",
        "Thomas, L. C., 2000. A survey of credit and behavioural scoring: Forecasting financial risk of lending to consumers. International Journal of Forecasting, 16, 149–172. \n",
        "\n",
        "Finder.com, 2020. UK credit card statistics 2020. Viewed 06/06/2020, https://www.finder.com/uk/credit-card-statistics.\n",
        "\n",
        "Yeh, I.C. and Lien, C.H., 2009. The comparisons of data mining techniques for the predictive accuracy of probability of default of credit card clients. Expert Systems with Applications, 36(2), pp.2473-2480."
      ]
    },
    {
      "cell_type": "markdown",
      "metadata": {
        "id": "H-2cwQcnCSew"
      },
      "source": [
        "## Appendix: program code\n",
        "Our code has been included throughout this report. It is available on request through Google Colab."
      ]
    },
    {
      "cell_type": "code",
      "metadata": {
        "id": "pLeY-uYzYVO7",
        "colab": {
          "base_uri": "https://localhost:8080/",
          "height": 514
        },
        "outputId": "076f9449-4907-4778-b787-89a325d602ea"
      },
      "source": [
        "!wget -nc https://raw.githubusercontent.com/brpy/colab-pdf/master/colab_pdf.py\n",
        "from colab_pdf import colab_pdf\n",
        "colab_pdf('credit_card_default_data_mining.ipynb')"
      ],
      "execution_count": null,
      "outputs": [
        {
          "output_type": "stream",
          "text": [
            "--2020-08-29 14:27:58--  https://raw.githubusercontent.com/brpy/colab-pdf/master/colab_pdf.py\n",
            "Resolving raw.githubusercontent.com (raw.githubusercontent.com)... 151.101.0.133, 151.101.64.133, 151.101.128.133, ...\n",
            "Connecting to raw.githubusercontent.com (raw.githubusercontent.com)|151.101.0.133|:443... connected.\n",
            "HTTP request sent, awaiting response... 200 OK\n",
            "Length: 1301 (1.3K) [text/plain]\n",
            "Saving to: ‘colab_pdf.py’\n",
            "\n",
            "colab_pdf.py        100%[===================>]   1.27K  --.-KB/s    in 0s      \n",
            "\n",
            "2020-08-29 14:27:58 (34.4 MB/s) - ‘colab_pdf.py’ saved [1301/1301]\n",
            "\n"
          ],
          "name": "stdout"
        },
        {
          "output_type": "error",
          "ename": "ValueError",
          "evalue": "ignored",
          "traceback": [
            "\u001b[0;31m---------------------------------------------------------------------------\u001b[0m",
            "\u001b[0;31mValueError\u001b[0m                                Traceback (most recent call last)",
            "\u001b[0;32m<ipython-input-8-b5cfc564fff2>\u001b[0m in \u001b[0;36m<module>\u001b[0;34m()\u001b[0m\n\u001b[1;32m      1\u001b[0m \u001b[0mget_ipython\u001b[0m\u001b[0;34m(\u001b[0m\u001b[0;34m)\u001b[0m\u001b[0;34m.\u001b[0m\u001b[0msystem\u001b[0m\u001b[0;34m(\u001b[0m\u001b[0;34m'wget -nc https://raw.githubusercontent.com/brpy/colab-pdf/master/colab_pdf.py'\u001b[0m\u001b[0;34m)\u001b[0m\u001b[0;34m\u001b[0m\u001b[0;34m\u001b[0m\u001b[0m\n\u001b[1;32m      2\u001b[0m \u001b[0;32mfrom\u001b[0m \u001b[0mcolab_pdf\u001b[0m \u001b[0;32mimport\u001b[0m \u001b[0mcolab_pdf\u001b[0m\u001b[0;34m\u001b[0m\u001b[0;34m\u001b[0m\u001b[0m\n\u001b[0;32m----> 3\u001b[0;31m \u001b[0mcolab_pdf\u001b[0m\u001b[0;34m(\u001b[0m\u001b[0;34m'credit_card_default_data_mining.ipynb'\u001b[0m\u001b[0;34m)\u001b[0m\u001b[0;34m\u001b[0m\u001b[0;34m\u001b[0m\u001b[0m\n\u001b[0m",
            "\u001b[0;32m/content/colab_pdf.py\u001b[0m in \u001b[0;36mcolab_pdf\u001b[0;34m(file_name, notebookpath)\u001b[0m\n\u001b[1;32m     13\u001b[0m \u001b[0;34m\u001b[0m\u001b[0m\n\u001b[1;32m     14\u001b[0m   \u001b[0;32mif\u001b[0m\u001b[0;34m(\u001b[0m\u001b[0;32mnot\u001b[0m \u001b[0mos\u001b[0m\u001b[0;34m.\u001b[0m\u001b[0mpath\u001b[0m\u001b[0;34m.\u001b[0m\u001b[0misfile\u001b[0m\u001b[0;34m(\u001b[0m\u001b[0mos\u001b[0m\u001b[0;34m.\u001b[0m\u001b[0mpath\u001b[0m\u001b[0;34m.\u001b[0m\u001b[0mjoin\u001b[0m\u001b[0;34m(\u001b[0m\u001b[0mnotebookpath\u001b[0m\u001b[0;34m,\u001b[0m\u001b[0mfile_name\u001b[0m\u001b[0;34m)\u001b[0m\u001b[0;34m)\u001b[0m\u001b[0;34m)\u001b[0m\u001b[0;34m:\u001b[0m\u001b[0;34m\u001b[0m\u001b[0;34m\u001b[0m\u001b[0m\n\u001b[0;32m---> 15\u001b[0;31m     \u001b[0;32mraise\u001b[0m \u001b[0mValueError\u001b[0m\u001b[0;34m(\u001b[0m\u001b[0;34mf\"file '{file_name}' not found in path '{notebookpath}'.\"\u001b[0m\u001b[0;34m)\u001b[0m\u001b[0;34m\u001b[0m\u001b[0;34m\u001b[0m\u001b[0m\n\u001b[0m\u001b[1;32m     16\u001b[0m \u001b[0;34m\u001b[0m\u001b[0m\n\u001b[1;32m     17\u001b[0m   \u001b[0mget_ipython\u001b[0m\u001b[0;34m(\u001b[0m\u001b[0;34m)\u001b[0m\u001b[0;34m.\u001b[0m\u001b[0msystem\u001b[0m\u001b[0;34m(\u001b[0m\u001b[0;34m\"apt update && apt install texlive-xetex texlive-fonts-recommended texlive-generic-recommended\"\u001b[0m\u001b[0;34m)\u001b[0m\u001b[0;34m\u001b[0m\u001b[0;34m\u001b[0m\u001b[0m\n",
            "\u001b[0;31mValueError\u001b[0m: file 'credit_card_default_data_mining.ipynb' not found in path '/content/drive/My Drive/Colab Notebooks/'."
          ]
        }
      ]
    }
  ]
}